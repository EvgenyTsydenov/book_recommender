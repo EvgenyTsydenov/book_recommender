{
 "cells": [
  {
   "cell_type": "markdown",
   "metadata": {},
   "source": [
    "# Book Recommendations"
   ]
  },
  {
   "cell_type": "markdown",
   "metadata": {},
   "source": [
    "Every user has some preferences in relation to items offered by the service. It is possible to infer these preferences based on a variety of attributes (examples with books): book page view time, book clicks, adding to favorites, rating, writing reviews, and so on. \n",
    "\n",
    "All interactions between users and items can be converted to numbers and stored in so-called user-item interactions matrix. Here is an example from [this article](https://towardsdatascience.com/introduction-to-recommender-systems-6c66cf15ada):\n",
    "\n",
    "<img src=\"pics/interactions.png\" width=900 height=450 align=\"center\">"
   ]
  },
  {
   "cell_type": "markdown",
   "metadata": {},
   "source": [
    "The purpose of recommendation systems is to predict ratings which a user would give to items that he has not rated yet. In a simple way, the recommender algorithms can be classified as follows (the picture from the same [article](https://towardsdatascience.com/introduction-to-recommender-systems-6c66cf15ada)):\n",
    "\n",
    "<img src=\"pics/recommender_classification.png\" width=900 height=450 align=\"center\">"
   ]
  },
  {
   "cell_type": "markdown",
   "metadata": {},
   "source": [
    "A typical difficulty in building recommender systems is the small number of ratings. Thus, to mitigate this problem, we will combine information from [Book–Crossing](../book_crossing/data_prep) and [Goodreads](../goodreads/data_prep) datasets. "
   ]
  },
  {
   "cell_type": "code",
   "execution_count": 1,
   "metadata": {},
   "outputs": [],
   "source": [
    "import os\n",
    "import sys\n",
    "\n",
    "# Append the sys.path with the project root path\n",
    "sys.path.append(os.path.dirname(os.path.abspath('')))"
   ]
  },
  {
   "cell_type": "code",
   "execution_count": 2,
   "metadata": {},
   "outputs": [],
   "source": [
    "import pickle\n",
    "from typing import Dict, Tuple\n",
    "\n",
    "import numpy as np\n",
    "import pandas as pd\n",
    "from sklearn.model_selection import train_test_split\n",
    "from sklearn.preprocessing import StandardScaler\n",
    "\n",
    "# Set random seeds and suppress warnings\n",
    "RANDOM_SEED = 54\n",
    "np.random.seed(RANDOM_SEED)"
   ]
  },
  {
   "cell_type": "markdown",
   "metadata": {},
   "source": [
    "# Data Preparation"
   ]
  },
  {
   "cell_type": "markdown",
   "metadata": {},
   "source": [
    "## Book Crossing"
   ]
  },
  {
   "cell_type": "markdown",
   "metadata": {},
   "source": [
    "Load preprocessed Book–Crossing data:"
   ]
  },
  {
   "cell_type": "code",
   "execution_count": 3,
   "metadata": {},
   "outputs": [],
   "source": [
    "path_bc = os.path.join('..', 'book_crossing', 'data_prep')\n",
    "books_bc = pd.read_csv(os.path.join(path_bc, 'books.csv'),\n",
    "                       usecols=['isbn13', 'book_title'],\n",
    "                       index_col=['isbn13'],\n",
    "                       dtype={'isbn13': 'category',\n",
    "                              'book_title': 'str'})\n",
    "ratings_bc = pd.read_csv(os.path.join(path_bc, 'ratings.csv'),\n",
    "                         dtype={'user_id': 'category',\n",
    "                                'rating': 'uint8',\n",
    "                                'isbn13': 'category'})"
   ]
  },
  {
   "cell_type": "code",
   "execution_count": 4,
   "metadata": {},
   "outputs": [
    {
     "data": {
      "text/html": [
       "<div>\n",
       "<style scoped>\n",
       "    .dataframe tbody tr th:only-of-type {\n",
       "        vertical-align: middle;\n",
       "    }\n",
       "\n",
       "    .dataframe tbody tr th {\n",
       "        vertical-align: top;\n",
       "    }\n",
       "\n",
       "    .dataframe thead th {\n",
       "        text-align: right;\n",
       "    }\n",
       "</style>\n",
       "<table border=\"1\" class=\"dataframe\">\n",
       "  <thead>\n",
       "    <tr style=\"text-align: right;\">\n",
       "      <th></th>\n",
       "      <th>book_title</th>\n",
       "    </tr>\n",
       "    <tr>\n",
       "      <th>isbn13</th>\n",
       "      <th></th>\n",
       "    </tr>\n",
       "  </thead>\n",
       "  <tbody>\n",
       "    <tr>\n",
       "      <th>9780195153446</th>\n",
       "      <td>Classical Mythology</td>\n",
       "    </tr>\n",
       "    <tr>\n",
       "      <th>9780002005012</th>\n",
       "      <td>Clara Callan</td>\n",
       "    </tr>\n",
       "    <tr>\n",
       "      <th>9780060973124</th>\n",
       "      <td>Decision in Normandy</td>\n",
       "    </tr>\n",
       "  </tbody>\n",
       "</table>\n",
       "</div>"
      ],
      "text/plain": [
       "                         book_title\n",
       "isbn13                             \n",
       "9780195153446   Classical Mythology\n",
       "9780002005012          Clara Callan\n",
       "9780060973124  Decision in Normandy"
      ]
     },
     "execution_count": 4,
     "metadata": {},
     "output_type": "execute_result"
    }
   ],
   "source": [
    "books_bc.head(3)"
   ]
  },
  {
   "cell_type": "code",
   "execution_count": 5,
   "metadata": {},
   "outputs": [
    {
     "data": {
      "text/html": [
       "<div>\n",
       "<style scoped>\n",
       "    .dataframe tbody tr th:only-of-type {\n",
       "        vertical-align: middle;\n",
       "    }\n",
       "\n",
       "    .dataframe tbody tr th {\n",
       "        vertical-align: top;\n",
       "    }\n",
       "\n",
       "    .dataframe thead th {\n",
       "        text-align: right;\n",
       "    }\n",
       "</style>\n",
       "<table border=\"1\" class=\"dataframe\">\n",
       "  <thead>\n",
       "    <tr style=\"text-align: right;\">\n",
       "      <th></th>\n",
       "      <th>user_id</th>\n",
       "      <th>rating</th>\n",
       "      <th>isbn13</th>\n",
       "    </tr>\n",
       "  </thead>\n",
       "  <tbody>\n",
       "    <tr>\n",
       "      <th>1</th>\n",
       "      <td>276726</td>\n",
       "      <td>5</td>\n",
       "      <td>9780155061224</td>\n",
       "    </tr>\n",
       "    <tr>\n",
       "      <th>3</th>\n",
       "      <td>276729</td>\n",
       "      <td>3</td>\n",
       "      <td>9780521656153</td>\n",
       "    </tr>\n",
       "    <tr>\n",
       "      <th>4</th>\n",
       "      <td>276729</td>\n",
       "      <td>6</td>\n",
       "      <td>9780521795029</td>\n",
       "    </tr>\n",
       "  </tbody>\n",
       "</table>\n",
       "</div>"
      ],
      "text/plain": [
       "  user_id  rating         isbn13\n",
       "1  276726       5  9780155061224\n",
       "3  276729       3  9780521656153\n",
       "4  276729       6  9780521795029"
      ]
     },
     "execution_count": 5,
     "metadata": {},
     "output_type": "execute_result"
    }
   ],
   "source": [
    "# Drop all implicit ratings\n",
    "ratings_bc = ratings_bc[ratings_bc['rating'] > 0]\n",
    "ratings_bc.head(3)"
   ]
  },
  {
   "cell_type": "code",
   "execution_count": 6,
   "metadata": {},
   "outputs": [
    {
     "name": "stdout",
     "output_type": "stream",
     "text": [
      "Number of books: 270947\n",
      "Number of ratings: 384127\n"
     ]
    }
   ],
   "source": [
    "print(f'Number of books: {len(books_bc)}')\n",
    "print(f'Number of ratings: {len(ratings_bc)}')"
   ]
  },
  {
   "cell_type": "code",
   "execution_count": 7,
   "metadata": {},
   "outputs": [
    {
     "data": {
      "text/html": [
       "<div>\n",
       "<style scoped>\n",
       "    .dataframe tbody tr th:only-of-type {\n",
       "        vertical-align: middle;\n",
       "    }\n",
       "\n",
       "    .dataframe tbody tr th {\n",
       "        vertical-align: top;\n",
       "    }\n",
       "\n",
       "    .dataframe thead th {\n",
       "        text-align: right;\n",
       "    }\n",
       "</style>\n",
       "<table border=\"1\" class=\"dataframe\">\n",
       "  <thead>\n",
       "    <tr style=\"text-align: right;\">\n",
       "      <th></th>\n",
       "      <th>title</th>\n",
       "    </tr>\n",
       "    <tr>\n",
       "      <th>isbn13</th>\n",
       "      <th></th>\n",
       "    </tr>\n",
       "  </thead>\n",
       "  <tbody>\n",
       "    <tr>\n",
       "      <th>9780195153446</th>\n",
       "      <td>Classical Mythology</td>\n",
       "    </tr>\n",
       "    <tr>\n",
       "      <th>9780002005012</th>\n",
       "      <td>Clara Callan</td>\n",
       "    </tr>\n",
       "  </tbody>\n",
       "</table>\n",
       "</div>"
      ],
      "text/plain": [
       "                             title\n",
       "isbn13                            \n",
       "9780195153446  Classical Mythology\n",
       "9780002005012         Clara Callan"
      ]
     },
     "execution_count": 7,
     "metadata": {},
     "output_type": "execute_result"
    }
   ],
   "source": [
    "books_bc.rename(columns={'book_title': 'title'},\n",
    "                inplace=True)\n",
    "books_bc.head(2)"
   ]
  },
  {
   "cell_type": "markdown",
   "metadata": {},
   "source": [
    "## Goodreads"
   ]
  },
  {
   "cell_type": "markdown",
   "metadata": {},
   "source": [
    "Load preprocessed Goodreads data:"
   ]
  },
  {
   "cell_type": "code",
   "execution_count": 8,
   "metadata": {},
   "outputs": [],
   "source": [
    "path_gr = os.path.join('..', 'goodreads', 'data_prep')\n",
    "books_gr = pd.read_csv(os.path.join(path_gr, 'books.csv'),\n",
    "                       usecols=['isbn13', 'title', 'work_id', 'book_id'],\n",
    "                       index_col=['book_id'],\n",
    "                       dtype={'isbn13': 'category', 'work_id': 'category',\n",
    "                              'title': 'str', 'book_id': 'category'})\n",
    "ratings_gr = pd.read_csv(os.path.join(path_gr, 'ratings.csv'),\n",
    "                         usecols=['user_id', 'book_id', 'rating'],\n",
    "                         dtype={'user_id': 'category',\n",
    "                                'rating': 'float16',\n",
    "                                'book_id': 'category'})"
   ]
  },
  {
   "cell_type": "code",
   "execution_count": 9,
   "metadata": {},
   "outputs": [
    {
     "data": {
      "text/html": [
       "<div>\n",
       "<style scoped>\n",
       "    .dataframe tbody tr th:only-of-type {\n",
       "        vertical-align: middle;\n",
       "    }\n",
       "\n",
       "    .dataframe tbody tr th {\n",
       "        vertical-align: top;\n",
       "    }\n",
       "\n",
       "    .dataframe thead th {\n",
       "        text-align: right;\n",
       "    }\n",
       "</style>\n",
       "<table border=\"1\" class=\"dataframe\">\n",
       "  <thead>\n",
       "    <tr style=\"text-align: right;\">\n",
       "      <th></th>\n",
       "      <th>isbn13</th>\n",
       "      <th>work_id</th>\n",
       "      <th>title</th>\n",
       "    </tr>\n",
       "    <tr>\n",
       "      <th>book_id</th>\n",
       "      <th></th>\n",
       "      <th></th>\n",
       "      <th></th>\n",
       "    </tr>\n",
       "  </thead>\n",
       "  <tbody>\n",
       "    <tr>\n",
       "      <th>5333265</th>\n",
       "      <td>9780312853129</td>\n",
       "      <td>5400751</td>\n",
       "      <td>W.C. Fields: A Life on Film</td>\n",
       "    </tr>\n",
       "    <tr>\n",
       "      <th>1333909</th>\n",
       "      <td>9780743509985</td>\n",
       "      <td>1323437</td>\n",
       "      <td>Good Harbor</td>\n",
       "    </tr>\n",
       "    <tr>\n",
       "      <th>6066819</th>\n",
       "      <td>9780743294294</td>\n",
       "      <td>6243154</td>\n",
       "      <td>Best Friends Forever</td>\n",
       "    </tr>\n",
       "  </tbody>\n",
       "</table>\n",
       "</div>"
      ],
      "text/plain": [
       "                isbn13  work_id                        title\n",
       "book_id                                                     \n",
       "5333265  9780312853129  5400751  W.C. Fields: A Life on Film\n",
       "1333909  9780743509985  1323437                  Good Harbor\n",
       "6066819  9780743294294  6243154         Best Friends Forever"
      ]
     },
     "execution_count": 9,
     "metadata": {},
     "output_type": "execute_result"
    }
   ],
   "source": [
    "books_gr.head(3)"
   ]
  },
  {
   "cell_type": "code",
   "execution_count": 10,
   "metadata": {},
   "outputs": [
    {
     "data": {
      "text/html": [
       "<div>\n",
       "<style scoped>\n",
       "    .dataframe tbody tr th:only-of-type {\n",
       "        vertical-align: middle;\n",
       "    }\n",
       "\n",
       "    .dataframe tbody tr th {\n",
       "        vertical-align: top;\n",
       "    }\n",
       "\n",
       "    .dataframe thead th {\n",
       "        text-align: right;\n",
       "    }\n",
       "</style>\n",
       "<table border=\"1\" class=\"dataframe\">\n",
       "  <thead>\n",
       "    <tr style=\"text-align: right;\">\n",
       "      <th></th>\n",
       "      <th>rating</th>\n",
       "      <th>book_id</th>\n",
       "      <th>user_id</th>\n",
       "    </tr>\n",
       "  </thead>\n",
       "  <tbody>\n",
       "    <tr>\n",
       "      <th>0</th>\n",
       "      <td>5</td>\n",
       "      <td>12</td>\n",
       "      <td>8842281e1d1347389f2ab93d60773d4d</td>\n",
       "    </tr>\n",
       "    <tr>\n",
       "      <th>1</th>\n",
       "      <td>5</td>\n",
       "      <td>21</td>\n",
       "      <td>8842281e1d1347389f2ab93d60773d4d</td>\n",
       "    </tr>\n",
       "    <tr>\n",
       "      <th>2</th>\n",
       "      <td>5</td>\n",
       "      <td>30</td>\n",
       "      <td>8842281e1d1347389f2ab93d60773d4d</td>\n",
       "    </tr>\n",
       "  </tbody>\n",
       "</table>\n",
       "</div>"
      ],
      "text/plain": [
       "   rating book_id                           user_id\n",
       "0       5      12  8842281e1d1347389f2ab93d60773d4d\n",
       "1       5      21  8842281e1d1347389f2ab93d60773d4d\n",
       "2       5      30  8842281e1d1347389f2ab93d60773d4d"
      ]
     },
     "execution_count": 10,
     "metadata": {},
     "output_type": "execute_result"
    }
   ],
   "source": [
    "# Drop all implicit ratings\n",
    "ratings_gr = ratings_gr[~ratings_gr['rating'].isna()]\n",
    "ratings_gr['rating'] = ratings_gr['rating'].astype('uint8')\n",
    "ratings_gr.head(3)"
   ]
  },
  {
   "cell_type": "code",
   "execution_count": 11,
   "metadata": {},
   "outputs": [
    {
     "name": "stdout",
     "output_type": "stream",
     "text": [
      "Number of books: 1599130\n",
      "Number of ratings: 89625534\n"
     ]
    }
   ],
   "source": [
    "print(f'Number of books: {len(books_gr)}')\n",
    "print(f'Number of ratings: {len(ratings_gr)}')"
   ]
  },
  {
   "cell_type": "markdown",
   "metadata": {},
   "source": [
    "As we remember from data preprocessing stage, there are some duplicated ISBNs:"
   ]
  },
  {
   "cell_type": "code",
   "execution_count": 12,
   "metadata": {},
   "outputs": [
    {
     "data": {
      "text/html": [
       "<div>\n",
       "<style scoped>\n",
       "    .dataframe tbody tr th:only-of-type {\n",
       "        vertical-align: middle;\n",
       "    }\n",
       "\n",
       "    .dataframe tbody tr th {\n",
       "        vertical-align: top;\n",
       "    }\n",
       "\n",
       "    .dataframe thead th {\n",
       "        text-align: right;\n",
       "    }\n",
       "</style>\n",
       "<table border=\"1\" class=\"dataframe\">\n",
       "  <thead>\n",
       "    <tr style=\"text-align: right;\">\n",
       "      <th></th>\n",
       "      <th>isbn13</th>\n",
       "      <th>work_id</th>\n",
       "      <th>title</th>\n",
       "    </tr>\n",
       "    <tr>\n",
       "      <th>book_id</th>\n",
       "      <th></th>\n",
       "      <th></th>\n",
       "      <th></th>\n",
       "    </tr>\n",
       "  </thead>\n",
       "  <tbody>\n",
       "    <tr>\n",
       "      <th>26812295</th>\n",
       "      <td>9780007255764</td>\n",
       "      <td>19269242</td>\n",
       "      <td>The Year of Reading Dangerously: How Fifty Gre...</td>\n",
       "    </tr>\n",
       "    <tr>\n",
       "      <th>25412569</th>\n",
       "      <td>9780007255764</td>\n",
       "      <td>19269242</td>\n",
       "      <td>The Year of Reading Dangerously: How Fifty Gre...</td>\n",
       "    </tr>\n",
       "    <tr>\n",
       "      <th>25401812</th>\n",
       "      <td>9780007282586</td>\n",
       "      <td>2288775</td>\n",
       "      <td>A Murder Is Announced (Miss Marple, #5)</td>\n",
       "    </tr>\n",
       "    <tr>\n",
       "      <th>25386782</th>\n",
       "      <td>9780007282586</td>\n",
       "      <td>2288775</td>\n",
       "      <td>A Murder Is Announced</td>\n",
       "    </tr>\n",
       "    <tr>\n",
       "      <th>13146527</th>\n",
       "      <td>9780007395200</td>\n",
       "      <td>2677305</td>\n",
       "      <td>Number the Stars</td>\n",
       "    </tr>\n",
       "  </tbody>\n",
       "</table>\n",
       "</div>"
      ],
      "text/plain": [
       "                 isbn13   work_id  \\\n",
       "book_id                             \n",
       "26812295  9780007255764  19269242   \n",
       "25412569  9780007255764  19269242   \n",
       "25401812  9780007282586   2288775   \n",
       "25386782  9780007282586   2288775   \n",
       "13146527  9780007395200   2677305   \n",
       "\n",
       "                                                      title  \n",
       "book_id                                                      \n",
       "26812295  The Year of Reading Dangerously: How Fifty Gre...  \n",
       "25412569  The Year of Reading Dangerously: How Fifty Gre...  \n",
       "25401812            A Murder Is Announced (Miss Marple, #5)  \n",
       "25386782                              A Murder Is Announced  \n",
       "13146527                                   Number the Stars  "
      ]
     },
     "execution_count": 12,
     "metadata": {},
     "output_type": "execute_result"
    }
   ],
   "source": [
    "books_gr_duplicates = books_gr[books_gr.duplicated(['isbn13'], keep=False)]\\\n",
    "    .sort_values('isbn13')\n",
    "books_gr_duplicates.head(5)"
   ]
  },
  {
   "cell_type": "markdown",
   "metadata": {},
   "source": [
    "We have to delete the duplicates and made the corresponding changes in the ratings dataset:"
   ]
  },
  {
   "cell_type": "code",
   "execution_count": 13,
   "metadata": {},
   "outputs": [],
   "source": [
    "# Group them and get indexes\n",
    "books_gr_duplicates_idx = books_gr_duplicates\\\n",
    "    .groupby(['isbn13'], observed=True)\\\n",
    "    .apply(lambda x: list(x.index)).tolist()\n",
    "\n",
    "# Iterate over each group and keep only one book id\n",
    "to_replace = {}\n",
    "for book_group in books_gr_duplicates_idx:\n",
    "    to_leave = book_group.pop()\n",
    "    for index in book_group:\n",
    "        to_replace[index] = to_leave\n",
    "\n",
    "# Drop duplicates from the book dataset\n",
    "books_gr.drop(index=to_replace.keys(), inplace=True)\n",
    "\n",
    "# Replace in the ratings\n",
    "ratings_gr['book_id'] = ratings_gr['book_id']\\\n",
    "    .map(lambda x: to_replace.get(x, x))"
   ]
  },
  {
   "cell_type": "markdown",
   "metadata": {},
   "source": [
    "This transformation causes duplicated rows in ratings, so we will drop them:"
   ]
  },
  {
   "cell_type": "code",
   "execution_count": 14,
   "metadata": {},
   "outputs": [],
   "source": [
    "ratings_gr.drop_duplicates(['user_id', 'book_id'],\n",
    "                           keep='first', inplace=True)"
   ]
  },
  {
   "cell_type": "markdown",
   "metadata": {},
   "source": [
    "Change `book_id` to `isbn13`:"
   ]
  },
  {
   "cell_type": "code",
   "execution_count": 15,
   "metadata": {},
   "outputs": [
    {
     "data": {
      "text/html": [
       "<div>\n",
       "<style scoped>\n",
       "    .dataframe tbody tr th:only-of-type {\n",
       "        vertical-align: middle;\n",
       "    }\n",
       "\n",
       "    .dataframe tbody tr th {\n",
       "        vertical-align: top;\n",
       "    }\n",
       "\n",
       "    .dataframe thead th {\n",
       "        text-align: right;\n",
       "    }\n",
       "</style>\n",
       "<table border=\"1\" class=\"dataframe\">\n",
       "  <thead>\n",
       "    <tr style=\"text-align: right;\">\n",
       "      <th></th>\n",
       "      <th>rating</th>\n",
       "      <th>user_id</th>\n",
       "      <th>isbn13</th>\n",
       "    </tr>\n",
       "  </thead>\n",
       "  <tbody>\n",
       "    <tr>\n",
       "      <th>0</th>\n",
       "      <td>5</td>\n",
       "      <td>8842281e1d1347389f2ab93d60773d4d</td>\n",
       "      <td>9780517226957</td>\n",
       "    </tr>\n",
       "    <tr>\n",
       "      <th>1</th>\n",
       "      <td>5</td>\n",
       "      <td>8842281e1d1347389f2ab93d60773d4d</td>\n",
       "      <td>9780767908184</td>\n",
       "    </tr>\n",
       "  </tbody>\n",
       "</table>\n",
       "</div>"
      ],
      "text/plain": [
       "   rating                           user_id         isbn13\n",
       "0       5  8842281e1d1347389f2ab93d60773d4d  9780517226957\n",
       "1       5  8842281e1d1347389f2ab93d60773d4d  9780767908184"
      ]
     },
     "execution_count": 15,
     "metadata": {},
     "output_type": "execute_result"
    }
   ],
   "source": [
    "ratings_gr = ratings_gr.merge(books_gr[['isbn13']], left_on='book_id',\n",
    "                              right_index=True, how='left')\n",
    "ratings_gr.drop(columns=['book_id'], inplace=True)\n",
    "ratings_gr.head(2)"
   ]
  },
  {
   "cell_type": "markdown",
   "metadata": {},
   "source": [
    "## Join"
   ]
  },
  {
   "cell_type": "markdown",
   "metadata": {},
   "source": [
    "Combine book info:"
   ]
  },
  {
   "cell_type": "code",
   "execution_count": 16,
   "metadata": {},
   "outputs": [],
   "source": [
    "books = books_gr.merge(books_bc, left_on='isbn13',\n",
    "                       right_index=True, how='outer')\n",
    "\n",
    "# Merge titles\n",
    "books['title'] = books['title_x']\n",
    "missing_titles = books['title'].isna()\n",
    "books.loc[missing_titles, 'title'] = books.loc[missing_titles, 'title_y']\n",
    "\n",
    "# Drop unused columns\n",
    "books.drop(columns=['title_x', 'title_y'], inplace=True)\n",
    "\n",
    "# Set ISBN as index\n",
    "books.set_index('isbn13', inplace=True)"
   ]
  },
  {
   "cell_type": "markdown",
   "metadata": {},
   "source": [
    "Since books from Book-Crossing dataset have no work ids, we need to create unique ones:"
   ]
  },
  {
   "cell_type": "code",
   "execution_count": 17,
   "metadata": {},
   "outputs": [
    {
     "data": {
      "text/html": [
       "<div>\n",
       "<style scoped>\n",
       "    .dataframe tbody tr th:only-of-type {\n",
       "        vertical-align: middle;\n",
       "    }\n",
       "\n",
       "    .dataframe tbody tr th {\n",
       "        vertical-align: top;\n",
       "    }\n",
       "\n",
       "    .dataframe thead th {\n",
       "        text-align: right;\n",
       "    }\n",
       "</style>\n",
       "<table border=\"1\" class=\"dataframe\">\n",
       "  <thead>\n",
       "    <tr style=\"text-align: right;\">\n",
       "      <th></th>\n",
       "      <th>work_id</th>\n",
       "      <th>title</th>\n",
       "    </tr>\n",
       "    <tr>\n",
       "      <th>isbn13</th>\n",
       "      <th></th>\n",
       "      <th></th>\n",
       "    </tr>\n",
       "  </thead>\n",
       "  <tbody>\n",
       "    <tr>\n",
       "      <th>9780312853129</th>\n",
       "      <td>5400751</td>\n",
       "      <td>W.C. Fields: A Life on Film</td>\n",
       "    </tr>\n",
       "    <tr>\n",
       "      <th>9780743509985</th>\n",
       "      <td>1323437</td>\n",
       "      <td>Good Harbor</td>\n",
       "    </tr>\n",
       "  </tbody>\n",
       "</table>\n",
       "</div>"
      ],
      "text/plain": [
       "               work_id                        title\n",
       "isbn13                                             \n",
       "9780312853129  5400751  W.C. Fields: A Life on Film\n",
       "9780743509985  1323437                  Good Harbor"
      ]
     },
     "execution_count": 17,
     "metadata": {},
     "output_type": "execute_result"
    }
   ],
   "source": [
    "books['work_id'] = books['work_id'].astype('float')\n",
    "missing_work_ids = books['work_id'].isna()\n",
    "existing_work_ids = set(books.loc[~missing_work_ids, 'work_id'])\n",
    "\n",
    "new_work_ids = []\n",
    "counter = 0\n",
    "nans_count = missing_work_ids.sum()\n",
    "while len(new_work_ids) < nans_count:\n",
    "    if counter not in existing_work_ids:\n",
    "        new_work_ids.append(counter)\n",
    "    counter += 1\n",
    "\n",
    "books.loc[missing_work_ids, 'work_id'] = np.array(new_work_ids)\n",
    "books['work_id'] = books['work_id'].astype('int').astype('category')\n",
    "books.head(2)"
   ]
  },
  {
   "cell_type": "markdown",
   "metadata": {},
   "source": [
    "Before merging the rating data, we need to scale ratings to the common range:"
   ]
  },
  {
   "cell_type": "code",
   "execution_count": 18,
   "metadata": {},
   "outputs": [],
   "source": [
    "# Scale goodreads ratings to the range from 1 to 10\n",
    "ratings_gr['rating'] *= 2"
   ]
  },
  {
   "cell_type": "markdown",
   "metadata": {},
   "source": [
    "We assume that users from Goodreads and Book-Crossing communities are completely different. Check this:"
   ]
  },
  {
   "cell_type": "code",
   "execution_count": 19,
   "metadata": {},
   "outputs": [
    {
     "data": {
      "text/plain": [
       "False"
      ]
     },
     "execution_count": 19,
     "metadata": {},
     "output_type": "execute_result"
    }
   ],
   "source": [
    "ratings_gr['user_id'].isin(ratings_bc['user_id']).any()"
   ]
  },
  {
   "cell_type": "markdown",
   "metadata": {},
   "source": [
    "Append Book-Crossing ratings to Goodreads ones:"
   ]
  },
  {
   "cell_type": "code",
   "execution_count": 20,
   "metadata": {},
   "outputs": [
    {
     "data": {
      "text/html": [
       "<div>\n",
       "<style scoped>\n",
       "    .dataframe tbody tr th:only-of-type {\n",
       "        vertical-align: middle;\n",
       "    }\n",
       "\n",
       "    .dataframe tbody tr th {\n",
       "        vertical-align: top;\n",
       "    }\n",
       "\n",
       "    .dataframe thead th {\n",
       "        text-align: right;\n",
       "    }\n",
       "</style>\n",
       "<table border=\"1\" class=\"dataframe\">\n",
       "  <thead>\n",
       "    <tr style=\"text-align: right;\">\n",
       "      <th></th>\n",
       "      <th>rating</th>\n",
       "      <th>user_id</th>\n",
       "      <th>isbn13</th>\n",
       "      <th>work_id</th>\n",
       "    </tr>\n",
       "  </thead>\n",
       "  <tbody>\n",
       "    <tr>\n",
       "      <th>0</th>\n",
       "      <td>10</td>\n",
       "      <td>8842281e1d1347389f2ab93d60773d4d</td>\n",
       "      <td>9780517226957</td>\n",
       "      <td>135328</td>\n",
       "    </tr>\n",
       "    <tr>\n",
       "      <th>1</th>\n",
       "      <td>10</td>\n",
       "      <td>8842281e1d1347389f2ab93d60773d4d</td>\n",
       "      <td>9780767908184</td>\n",
       "      <td>2305997</td>\n",
       "    </tr>\n",
       "  </tbody>\n",
       "</table>\n",
       "</div>"
      ],
      "text/plain": [
       "   rating                           user_id         isbn13  work_id\n",
       "0      10  8842281e1d1347389f2ab93d60773d4d  9780517226957   135328\n",
       "1      10  8842281e1d1347389f2ab93d60773d4d  9780767908184  2305997"
      ]
     },
     "execution_count": 20,
     "metadata": {},
     "output_type": "execute_result"
    }
   ],
   "source": [
    "ratings = ratings_gr.append(ratings_bc)\n",
    "\n",
    "# Add work_ids\n",
    "ratings = ratings.merge(books[['work_id']], how='left',\n",
    "                        left_on='isbn13', right_index=True)\n",
    "ratings.head(2)"
   ]
  },
  {
   "cell_type": "markdown",
   "metadata": {},
   "source": [
    "Since people most often rate the book content rather than a particular edition of the book, we will build recommendations using `work_id` instead of `isbn13`.\n",
    "\n",
    "Some users may have rated different editions of the same book. Let's average their ratings so that there is only one rating per book from each user:"
   ]
  },
  {
   "cell_type": "code",
   "execution_count": 21,
   "metadata": {},
   "outputs": [
    {
     "data": {
      "text/html": [
       "<div>\n",
       "<style scoped>\n",
       "    .dataframe tbody tr th:only-of-type {\n",
       "        vertical-align: middle;\n",
       "    }\n",
       "\n",
       "    .dataframe tbody tr th {\n",
       "        vertical-align: top;\n",
       "    }\n",
       "\n",
       "    .dataframe thead th {\n",
       "        text-align: right;\n",
       "    }\n",
       "</style>\n",
       "<table border=\"1\" class=\"dataframe\">\n",
       "  <thead>\n",
       "    <tr style=\"text-align: right;\">\n",
       "      <th></th>\n",
       "      <th>user_id</th>\n",
       "      <th>work_id</th>\n",
       "      <th>rating</th>\n",
       "    </tr>\n",
       "  </thead>\n",
       "  <tbody>\n",
       "    <tr>\n",
       "      <th>0</th>\n",
       "      <td>8842281e1d1347389f2ab93d60773d4d</td>\n",
       "      <td>135328</td>\n",
       "      <td>10.0</td>\n",
       "    </tr>\n",
       "    <tr>\n",
       "      <th>1</th>\n",
       "      <td>8842281e1d1347389f2ab93d60773d4d</td>\n",
       "      <td>2305997</td>\n",
       "      <td>10.0</td>\n",
       "    </tr>\n",
       "    <tr>\n",
       "      <th>2</th>\n",
       "      <td>8842281e1d1347389f2ab93d60773d4d</td>\n",
       "      <td>89369</td>\n",
       "      <td>10.0</td>\n",
       "    </tr>\n",
       "    <tr>\n",
       "      <th>3</th>\n",
       "      <td>8842281e1d1347389f2ab93d60773d4d</td>\n",
       "      <td>1699340</td>\n",
       "      <td>10.0</td>\n",
       "    </tr>\n",
       "  </tbody>\n",
       "</table>\n",
       "</div>"
      ],
      "text/plain": [
       "                            user_id  work_id  rating\n",
       "0  8842281e1d1347389f2ab93d60773d4d   135328    10.0\n",
       "1  8842281e1d1347389f2ab93d60773d4d  2305997    10.0\n",
       "2  8842281e1d1347389f2ab93d60773d4d    89369    10.0\n",
       "3  8842281e1d1347389f2ab93d60773d4d  1699340    10.0"
      ]
     },
     "execution_count": 21,
     "metadata": {},
     "output_type": "execute_result"
    }
   ],
   "source": [
    "ratings_per_work = ratings[['work_id', 'user_id', 'rating']]\\\n",
    "    .groupby(['work_id', 'user_id'], observed=True).mean()\n",
    "\n",
    "# Drop duplicated ratings\n",
    "work_ratings = ratings.drop_duplicates(['user_id', 'work_id'], keep='first')\n",
    "work_ratings = work_ratings[['user_id', 'work_id']]\\\n",
    "    .merge(ratings_per_work, left_on=['user_id', 'work_id'],\n",
    "           right_on=['user_id', 'work_id'], how='left')\n",
    "work_ratings.head(4)"
   ]
  },
  {
   "cell_type": "code",
   "execution_count": 22,
   "metadata": {},
   "outputs": [
    {
     "name": "stdout",
     "output_type": "stream",
     "text": [
      "Number of work_id which have ratings: 1141892\n",
      "Number of work_id which have at least 5 ratings: 568805\n",
      "Number of work_id which have at least 10 ratings: 394932\n",
      "\n",
      "Total number of ratings: 89686460\n",
      "Number of user_id which have ratings: 876176\n",
      "Number of user_id which have at least 5 ratings: 750186\n",
      "Number of user_id which have at least 10 ratings: 692320\n",
      "\n",
      "Total number of ratings: 89686460\n"
     ]
    }
   ],
   "source": [
    "# Group data to get statistics\n",
    "for parameter in ['work_id', 'user_id']:\n",
    "    ratings_by_param = work_ratings[[parameter, 'rating']]\\\n",
    "        .groupby(parameter, observed=True).count()\n",
    "    rated_count = len(ratings_by_param)\n",
    "    five_times_rated_count = (ratings_by_param['rating'] >= 5).sum()\n",
    "    ten_times_rated_count = (ratings_by_param['rating'] >= 10).sum()\n",
    "    print(f'Number of {parameter} which have ratings: {rated_count}')\n",
    "    print(f'Number of {parameter} which have at least 5 ratings: '\n",
    "          f'{five_times_rated_count}')\n",
    "    print(f'Number of {parameter} which have at least 10 ratings: '\n",
    "          f'{ten_times_rated_count}\\n')\n",
    "    print(f'Total number of ratings: {len(work_ratings)}')"
   ]
  },
  {
   "cell_type": "markdown",
   "metadata": {},
   "source": [
    "## Preprocess"
   ]
  },
  {
   "cell_type": "markdown",
   "metadata": {},
   "source": [
    "To test the recommender performance, we need to split data into train, validation, and test datasets. We will use information about users who left at least 4 ratings — 2 for training, 1 for validation, 1 for testing. If the user has more ratings, we will use 60% for training, 20% for testing and validations. Since the dataset does not contain rating timestamps, we will split the data in a random way. "
   ]
  },
  {
   "cell_type": "code",
   "execution_count": 23,
   "metadata": {},
   "outputs": [
    {
     "name": "stdout",
     "output_type": "stream",
     "text": [
      "Number of users who left at least four ratings: 764983 (87.31%)\n"
     ]
    }
   ],
   "source": [
    "ratings_per_user = work_ratings.groupby('user_id', observed=True)\n",
    "ratings_per_user_count = ratings_per_user['rating'].count()\n",
    "min_four_users = ratings_per_user_count[ratings_per_user_count >= 4].index\n",
    "print(f'Number of users who left at least four ratings: '\n",
    "      f'{len(min_four_users)} '\n",
    "      f'({round(len(min_four_users) * 100 / len(ratings_per_user), 2)}%)')"
   ]
  },
  {
   "cell_type": "code",
   "execution_count": 24,
   "metadata": {},
   "outputs": [],
   "source": [
    "# Drop users with a little number of ratings\n",
    "work_ratings_min_four = ratings_per_user.filter(lambda x: len(x) >= 4)"
   ]
  },
  {
   "cell_type": "code",
   "execution_count": 25,
   "metadata": {},
   "outputs": [
    {
     "data": {
      "text/plain": [
       "((53708019, 3), (17902673, 3), (17902673, 3))"
      ]
     },
     "execution_count": 25,
     "metadata": {},
     "output_type": "execute_result"
    }
   ],
   "source": [
    "# Split into train, test, and val datasets\n",
    "work_ratings_train, work_ratings_val = train_test_split(\n",
    "    work_ratings_min_four, test_size=0.4, random_state=RANDOM_SEED,\n",
    "    stratify=work_ratings_min_four['user_id'])\n",
    "work_ratings_test, work_ratings_val = train_test_split(\n",
    "    work_ratings_val, test_size=0.5, random_state=RANDOM_SEED,\n",
    "    stratify=work_ratings_val['user_id'])\n",
    "\n",
    "# Show the shape\n",
    "work_ratings_train.shape, work_ratings_val.shape, work_ratings_test.shape"
   ]
  },
  {
   "cell_type": "markdown",
   "metadata": {},
   "source": [
    "To compare multiple users' scores, we need to normalize them. Because one user may always give high ratings (8 to 10), while another may give all ratings from 6 to 8. However, the tastes of these users may be exactly the same. Thus, we will use StandardScaler:"
   ]
  },
  {
   "cell_type": "code",
   "execution_count": 26,
   "metadata": {},
   "outputs": [],
   "source": [
    "def fit_user_scalers(ratings: pd.DataFrame) -> Dict[str, Tuple[float, float]]:\n",
    "    \"\"\"Get statistics per suer to normalize their ratings.\n",
    "\n",
    "    :param ratings: all ratings.\n",
    "    :return: average and standard deviation of users' ratings.\n",
    "    \"\"\"\n",
    "    user_ratings_scalers = {}\n",
    "    scaler = StandardScaler()\n",
    "    for user_id, user_data in ratings.groupby('user_id'):\n",
    "        scaler.fit(user_data[['rating']])\n",
    "        user_ratings_scalers[user_id] = scaler.scale_, scaler.mean_\n",
    "    return user_ratings_scalers\n",
    "\n",
    "\n",
    "def ratings_normalize(user_ratings: pd.Series, user_scale: float,\n",
    "                      user_mean: float) -> pd.Series:\n",
    "    \"\"\"Transform user's ratings.\n",
    "\n",
    "    :param user_ratings: user's ratings.\n",
    "    :param user_scale: standard deviation of user's ratings.\n",
    "    :param user_mean: average of user's ratings.\n",
    "    :return: transformed values.\n",
    "    \"\"\"\n",
    "    scaler = StandardScaler()\n",
    "    scaler.scale_ = user_scale\n",
    "    scaler.mean_ = user_mean\n",
    "    return scaler.transform(user_ratings.values.reshape(-1, 1)).ravel()"
   ]
  },
  {
   "cell_type": "code",
   "execution_count": 27,
   "metadata": {},
   "outputs": [],
   "source": [
    "# This should be done only for training dataset\n",
    "user_ratings_scalers = fit_user_scalers(work_ratings_train)"
   ]
  },
  {
   "cell_type": "code",
   "execution_count": 28,
   "metadata": {},
   "outputs": [],
   "source": [
    "# Transform all datasets\n",
    "for dataset in [work_ratings_val, work_ratings_test, work_ratings_train]:\n",
    "    dataset['rating_scaled'] = dataset.groupby('user_id')['rating']\\\n",
    "        .transform(lambda x: ratings_normalize(x, *user_ratings_scalers[x.name]))"
   ]
  },
  {
   "cell_type": "markdown",
   "metadata": {},
   "source": [
    "## Save Data"
   ]
  },
  {
   "cell_type": "code",
   "execution_count": 29,
   "metadata": {},
   "outputs": [],
   "source": [
    "# Save scaler info\n",
    "with open(os.path.join('data_interm', 'user_ratings_scalers.pkl'), 'wb') as file:\n",
    "    pickle.dump(user_ratings_scalers, file)\n",
    "\n",
    "# Save datasets\n",
    "work_ratings_train.to_csv(os.path.join('data_interm', 'work_ratings_train.csv'),\n",
    "                          index=False)\n",
    "work_ratings_val.to_csv(os.path.join('data_interm', 'work_ratings_val.csv'),\n",
    "                        index=False)\n",
    "work_ratings_test.to_csv(os.path.join('data_interm', 'work_ratings_test.csv'),\n",
    "                         index=False)"
   ]
  }
 ],
 "metadata": {
  "kernelspec": {
   "display_name": "Python 3 (ipykernel)",
   "language": "python",
   "name": "python3"
  },
  "language_info": {
   "codemirror_mode": {
    "name": "ipython",
    "version": 3
   },
   "file_extension": ".py",
   "mimetype": "text/x-python",
   "name": "python",
   "nbconvert_exporter": "python",
   "pygments_lexer": "ipython3",
   "version": "3.9.7"
  }
 },
 "nbformat": 4,
 "nbformat_minor": 4
}
