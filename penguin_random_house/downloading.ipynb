{
 "cells": [
  {
   "cell_type": "markdown",
   "metadata": {
    "pycharm": {
     "name": "#%% md\n"
    }
   },
   "source": [
    "# Download and Parse Data from Penguin Random House"
   ]
  },
  {
   "cell_type": "markdown",
   "metadata": {},
   "source": [
    "Here we will use the ratings from [Book-Crossing](../book_crossing/preprocessing.ipynb) and [Goodreads](../goodreads/preprocessing.ipynb) datasets to download the information about the corresponding books via [Penguin Random House API](https://developer.penguinrandomhouse.com/)."
   ]
  },
  {
   "cell_type": "code",
   "execution_count": 1,
   "metadata": {},
   "outputs": [],
   "source": [
    "import os\n",
    "import sys\n",
    "\n",
    "# Append the sys.path with the project root path\n",
    "sys.path.append(os.path.dirname(os.path.abspath('')))"
   ]
  },
  {
   "cell_type": "code",
   "execution_count": 2,
   "metadata": {
    "pycharm": {
     "name": "#%%\n"
    }
   },
   "outputs": [],
   "source": [
    "import pandas as pd\n",
    "from download_scripts.books import get_book_data\n",
    "from download_scripts.categories import get_category_info"
   ]
  },
  {
   "cell_type": "markdown",
   "metadata": {
    "jp-MarkdownHeadingCollapsed": true,
    "tags": []
   },
   "source": [
    "## Join Ratings from Book-Crossing and Goodreads Data"
   ]
  },
  {
   "cell_type": "markdown",
   "metadata": {},
   "source": [
    "### Book Crossing"
   ]
  },
  {
   "cell_type": "markdown",
   "metadata": {},
   "source": [
    "Load preprocessed [Book–Crossing data](../book_crossing/data_prep):"
   ]
  },
  {
   "cell_type": "code",
   "execution_count": 3,
   "metadata": {},
   "outputs": [],
   "source": [
    "path_bc = os.path.join('..', 'book_crossing', 'data_prep')\n",
    "ratings_bc = pd.read_csv(os.path.join(path_bc, 'ratings.csv'),\n",
    "                         dtype={'user_id': 'category',\n",
    "                                'rating': 'uint8',\n",
    "                                'isbn13': 'category'})"
   ]
  },
  {
   "cell_type": "code",
   "execution_count": 4,
   "metadata": {},
   "outputs": [
    {
     "data": {
      "text/html": [
       "<div>\n",
       "<style scoped>\n",
       "    .dataframe tbody tr th:only-of-type {\n",
       "        vertical-align: middle;\n",
       "    }\n",
       "\n",
       "    .dataframe tbody tr th {\n",
       "        vertical-align: top;\n",
       "    }\n",
       "\n",
       "    .dataframe thead th {\n",
       "        text-align: right;\n",
       "    }\n",
       "</style>\n",
       "<table border=\"1\" class=\"dataframe\">\n",
       "  <thead>\n",
       "    <tr style=\"text-align: right;\">\n",
       "      <th></th>\n",
       "      <th>user_id</th>\n",
       "      <th>rating</th>\n",
       "      <th>isbn13</th>\n",
       "    </tr>\n",
       "  </thead>\n",
       "  <tbody>\n",
       "    <tr>\n",
       "      <th>1</th>\n",
       "      <td>276726</td>\n",
       "      <td>5</td>\n",
       "      <td>9780155061224</td>\n",
       "    </tr>\n",
       "    <tr>\n",
       "      <th>3</th>\n",
       "      <td>276729</td>\n",
       "      <td>3</td>\n",
       "      <td>9780521656153</td>\n",
       "    </tr>\n",
       "    <tr>\n",
       "      <th>4</th>\n",
       "      <td>276729</td>\n",
       "      <td>6</td>\n",
       "      <td>9780521795029</td>\n",
       "    </tr>\n",
       "  </tbody>\n",
       "</table>\n",
       "</div>"
      ],
      "text/plain": [
       "  user_id  rating         isbn13\n",
       "1  276726       5  9780155061224\n",
       "3  276729       3  9780521656153\n",
       "4  276729       6  9780521795029"
      ]
     },
     "execution_count": 4,
     "metadata": {},
     "output_type": "execute_result"
    }
   ],
   "source": [
    "# Drop all implicit ratings\n",
    "ratings_bc = ratings_bc[ratings_bc['rating'] > 0]\n",
    "ratings_bc.head(3)"
   ]
  },
  {
   "cell_type": "code",
   "execution_count": 5,
   "metadata": {},
   "outputs": [
    {
     "name": "stdout",
     "output_type": "stream",
     "text": [
      "Number of ratings: 384127\n"
     ]
    }
   ],
   "source": [
    "print(f'Number of ratings: {len(ratings_bc)}')"
   ]
  },
  {
   "cell_type": "markdown",
   "metadata": {},
   "source": [
    "### Goodreads"
   ]
  },
  {
   "cell_type": "markdown",
   "metadata": {},
   "source": [
    "Load preprocessed [Goodreads data](../goodreads/data_prep):"
   ]
  },
  {
   "cell_type": "code",
   "execution_count": 6,
   "metadata": {},
   "outputs": [],
   "source": [
    "path_gr = os.path.join('..', 'goodreads', 'data_prep')\n",
    "books_gr = pd.read_csv(os.path.join(path_gr, 'books.csv'),\n",
    "                       usecols=['isbn13', 'book_id'], index_col=['book_id'],\n",
    "                       dtype={'isbn13': 'category', 'book_id': 'category'})\n",
    "ratings_gr = pd.read_csv(os.path.join(path_gr, 'ratings.csv'),\n",
    "                         usecols=['user_id', 'book_id', 'rating'],\n",
    "                         dtype={'user_id': 'category',\n",
    "                                'rating': 'Int8',\n",
    "                                'book_id': 'category'})"
   ]
  },
  {
   "cell_type": "code",
   "execution_count": 7,
   "metadata": {},
   "outputs": [],
   "source": [
    "# Drop all implicit ratings\n",
    "ratings_gr = ratings_gr[~ratings_gr['rating'].isna()]\n",
    "ratings_gr['rating'] = ratings_gr['rating'].astype('uint8')"
   ]
  },
  {
   "cell_type": "markdown",
   "metadata": {},
   "source": [
    "As we remember from the data preprocessing stage, there are some duplicated ISBNs. We have to delete the duplicates and made the corresponding changes in the rating dataset:"
   ]
  },
  {
   "cell_type": "code",
   "execution_count": 8,
   "metadata": {},
   "outputs": [],
   "source": [
    "# Group them and get indexes\n",
    "books_gr_duplicates = books_gr[books_gr.duplicated(['isbn13'], keep=False)]\n",
    "books_gr_duplicates_idx = books_gr_duplicates \\\n",
    "    .groupby(['isbn13'], observed=True) \\\n",
    "    .apply(lambda x: list(x.index)).tolist()\n",
    "\n",
    "# Iterate over each group and keep only one book_id\n",
    "to_replace = {}\n",
    "for book_group in books_gr_duplicates_idx:\n",
    "    to_leave = book_group.pop()\n",
    "    for index in book_group:\n",
    "        to_replace[index] = to_leave\n",
    "\n",
    "# Replace in the ratings\n",
    "ratings_gr['book_id'] = ratings_gr['book_id'] \\\n",
    "    .map(lambda x: to_replace.get(x, x))\n",
    "\n",
    "# This transformation causes duplicated rows in ratings\n",
    "ratings_gr.drop_duplicates(['user_id', 'book_id'],\n",
    "                           keep='first', inplace=True)"
   ]
  },
  {
   "cell_type": "markdown",
   "metadata": {},
   "source": [
    "Change `book_id` to `isbn13`:"
   ]
  },
  {
   "cell_type": "code",
   "execution_count": 9,
   "metadata": {},
   "outputs": [
    {
     "data": {
      "text/html": [
       "<div>\n",
       "<style scoped>\n",
       "    .dataframe tbody tr th:only-of-type {\n",
       "        vertical-align: middle;\n",
       "    }\n",
       "\n",
       "    .dataframe tbody tr th {\n",
       "        vertical-align: top;\n",
       "    }\n",
       "\n",
       "    .dataframe thead th {\n",
       "        text-align: right;\n",
       "    }\n",
       "</style>\n",
       "<table border=\"1\" class=\"dataframe\">\n",
       "  <thead>\n",
       "    <tr style=\"text-align: right;\">\n",
       "      <th></th>\n",
       "      <th>rating</th>\n",
       "      <th>user_id</th>\n",
       "      <th>isbn13</th>\n",
       "    </tr>\n",
       "  </thead>\n",
       "  <tbody>\n",
       "    <tr>\n",
       "      <th>0</th>\n",
       "      <td>5</td>\n",
       "      <td>8842281e1d1347389f2ab93d60773d4d</td>\n",
       "      <td>9780517226957</td>\n",
       "    </tr>\n",
       "    <tr>\n",
       "      <th>1</th>\n",
       "      <td>5</td>\n",
       "      <td>8842281e1d1347389f2ab93d60773d4d</td>\n",
       "      <td>9780767908184</td>\n",
       "    </tr>\n",
       "  </tbody>\n",
       "</table>\n",
       "</div>"
      ],
      "text/plain": [
       "   rating                           user_id         isbn13\n",
       "0       5  8842281e1d1347389f2ab93d60773d4d  9780517226957\n",
       "1       5  8842281e1d1347389f2ab93d60773d4d  9780767908184"
      ]
     },
     "execution_count": 9,
     "metadata": {},
     "output_type": "execute_result"
    }
   ],
   "source": [
    "ratings_gr = ratings_gr.merge(books_gr[['isbn13']], left_on='book_id',\n",
    "                              right_index=True, how='left')\n",
    "ratings_gr.drop(columns=['book_id'], inplace=True)\n",
    "ratings_gr.head(2)"
   ]
  },
  {
   "cell_type": "code",
   "execution_count": 10,
   "metadata": {},
   "outputs": [
    {
     "name": "stdout",
     "output_type": "stream",
     "text": [
      "Number of ratings: 89624581\n"
     ]
    }
   ],
   "source": [
    "print(f'Number of ratings: {len(ratings_gr)}')"
   ]
  },
  {
   "cell_type": "markdown",
   "metadata": {},
   "source": [
    "### Join"
   ]
  },
  {
   "cell_type": "markdown",
   "metadata": {},
   "source": [
    "Before merging the data, we need to scale ratings to the common range:"
   ]
  },
  {
   "cell_type": "code",
   "execution_count": 11,
   "metadata": {},
   "outputs": [],
   "source": [
    "# Scale goodreads ratings to the range from 1 to 10\n",
    "ratings_gr['rating'] *= 2"
   ]
  },
  {
   "cell_type": "markdown",
   "metadata": {},
   "source": [
    "We assume that users from Goodreads and Book-Crossing communities are completely different. "
   ]
  },
  {
   "cell_type": "code",
   "execution_count": 12,
   "metadata": {},
   "outputs": [
    {
     "data": {
      "text/plain": [
       "False"
      ]
     },
     "execution_count": 12,
     "metadata": {},
     "output_type": "execute_result"
    }
   ],
   "source": [
    "# Check the ids to be unique\n",
    "ratings_gr['user_id'].isin(ratings_bc['user_id']).any()"
   ]
  },
  {
   "cell_type": "code",
   "execution_count": 13,
   "metadata": {},
   "outputs": [
    {
     "data": {
      "text/html": [
       "<div>\n",
       "<style scoped>\n",
       "    .dataframe tbody tr th:only-of-type {\n",
       "        vertical-align: middle;\n",
       "    }\n",
       "\n",
       "    .dataframe tbody tr th {\n",
       "        vertical-align: top;\n",
       "    }\n",
       "\n",
       "    .dataframe thead th {\n",
       "        text-align: right;\n",
       "    }\n",
       "</style>\n",
       "<table border=\"1\" class=\"dataframe\">\n",
       "  <thead>\n",
       "    <tr style=\"text-align: right;\">\n",
       "      <th></th>\n",
       "      <th>rating</th>\n",
       "      <th>user_id</th>\n",
       "      <th>isbn13</th>\n",
       "    </tr>\n",
       "  </thead>\n",
       "  <tbody>\n",
       "    <tr>\n",
       "      <th>0</th>\n",
       "      <td>10</td>\n",
       "      <td>494492</td>\n",
       "      <td>9780517226957</td>\n",
       "    </tr>\n",
       "    <tr>\n",
       "      <th>1</th>\n",
       "      <td>10</td>\n",
       "      <td>494492</td>\n",
       "      <td>9780767908184</td>\n",
       "    </tr>\n",
       "  </tbody>\n",
       "</table>\n",
       "</div>"
      ],
      "text/plain": [
       "   rating  user_id         isbn13\n",
       "0      10   494492  9780517226957\n",
       "1      10   494492  9780767908184"
      ]
     },
     "execution_count": 13,
     "metadata": {},
     "output_type": "execute_result"
    }
   ],
   "source": [
    "# Append Book-Crossing ratings to Goodreads ones\n",
    "ratings = ratings_gr.append(ratings_bc)\n",
    "\n",
    "# Assign integer values to user_id \n",
    "ratings['user_id'] = ratings['user_id'].astype('category').cat.codes\n",
    "\n",
    "# Save data\n",
    "ratings.to_csv(os.path.join('data_interm', 'ratings_joined.csv'),\n",
    "               index=False)\n",
    "\n",
    "# Show\n",
    "ratings.head(2)"
   ]
  },
  {
   "cell_type": "code",
   "execution_count": 14,
   "metadata": {},
   "outputs": [
    {
     "name": "stdout",
     "output_type": "stream",
     "text": [
      "Number of joined ratings: 90008708\n",
      "Number of unique users: 876176\n",
      "Number of unique books: 1647917\n"
     ]
    }
   ],
   "source": [
    "print(f'Number of joined ratings: {len(ratings)}')\n",
    "print(f'Number of unique users: {len(ratings[\"user_id\"].unique())}')\n",
    "print(f'Number of unique books: {len(ratings[\"isbn13\"].unique())}')"
   ]
  },
  {
   "cell_type": "markdown",
   "metadata": {
    "pycharm": {
     "name": "#%% md\n"
    },
    "tags": []
   },
   "source": [
    "## Book Info"
   ]
  },
  {
   "cell_type": "markdown",
   "metadata": {
    "pycharm": {
     "name": "#%% md\n"
    }
   },
   "source": [
    "We will use [this script](download_scripts/books.py) to download book data via Penguin Random House API. Let's see the example:"
   ]
  },
  {
   "cell_type": "code",
   "execution_count": 15,
   "metadata": {
    "pycharm": {
     "name": "#%%\n"
    }
   },
   "outputs": [
    {
     "name": "stdout",
     "output_type": "stream",
     "text": [
      "isbn: 9780241265543\n",
      "title: War and Peace\n",
      "publisher: {'code': '6262', 'description': 'Penguin Publishing Group'}\n",
      "format: {'code': 'HC', 'description': 'Hardcover'}\n"
     ]
    }
   ],
   "source": [
    "# Download data about War and Peace\n",
    "book_example = get_book_data(9780241265543)\n",
    "\n",
    "# Book info\n",
    "for prop in ['isbn', 'title', 'publisher', 'format']:\n",
    "    print(f'{prop}: {book_example[\"data\"][\"titles\"][0].get(prop)}')"
   ]
  },
  {
   "cell_type": "code",
   "execution_count": 16,
   "metadata": {
    "pycharm": {
     "name": "#%%\n"
    }
   },
   "outputs": [
    {
     "data": {
      "text/plain": [
       "[{'authorId': 8653,\n",
       "  'display': 'Orlando Figes',\n",
       "  'first': 'Orlando',\n",
       "  'last': 'Figes',\n",
       "  'company': {'key': 'R_H', 'value': None},\n",
       "  'clientSourceId': 0,\n",
       "  'seoFriendlyUrl': '/authors/8653/orlando-figes',\n",
       "  'contribRoleCode': 'D',\n",
       "  'contribRoleDesc': 'Afterword by',\n",
       "  'primaryFlag': False,\n",
       "  '_embeds': None,\n",
       "  '_links': []},\n",
       " {'authorId': 31231,\n",
       "  'display': 'Leo Tolstoy',\n",
       "  'first': 'Leo',\n",
       "  'last': 'Tolstoy',\n",
       "  'company': {'key': 'R_H', 'value': None},\n",
       "  'clientSourceId': 0,\n",
       "  'seoFriendlyUrl': '/authors/31231/leo-tolstoy',\n",
       "  'contribRoleCode': 'A',\n",
       "  'contribRoleDesc': 'Author',\n",
       "  'primaryFlag': True,\n",
       "  '_embeds': None,\n",
       "  '_links': []}]"
      ]
     },
     "execution_count": 16,
     "metadata": {},
     "output_type": "execute_result"
    }
   ],
   "source": [
    "# Extract relative info\n",
    "embeds = {}\n",
    "for embed in book_example['data']['_embeds']:\n",
    "    embeds.update(embed)\n",
    "\n",
    "# Authors info\n",
    "embeds['authors'][:2]"
   ]
  },
  {
   "cell_type": "code",
   "execution_count": 17,
   "metadata": {
    "pycharm": {
     "name": "#%%\n"
    }
   },
   "outputs": [
    {
     "data": {
      "text/plain": [
       "[{'seriesCode': 'B45',\n",
       "  'seriesName': 'Penguin Clothbound Classics',\n",
       "  'description': 'With splendid packaging created by award-winning designer Coralie Bickford-Smith, Penguin Classics presents&nbsp;beautiful hardcover editions of beloved classic literature. Featuring custom patterns inspired by each work stamped on linen cases, colored endpapers, and ribbon markers, these gift-worthy editions of more than sixty titles including&nbsp;<i>Great Expectations</i>,&nbsp;<i>Far from the Madding Crowd</i>, and&nbsp;<i>Wuthering Heights</i>&nbsp;are one of the most coveted series of classic literature ever produced.',\n",
       "  'seriesCount': 65,\n",
       "  'seriesDate': '2021-11-30',\n",
       "  'isNumbered': False,\n",
       "  'isKids': False,\n",
       "  'seoFriendlyUrl': '/series/B45/penguin-clothbound-classics',\n",
       "  '_embeds': None,\n",
       "  '_links': []}]"
      ]
     },
     "execution_count": 17,
     "metadata": {},
     "output_type": "execute_result"
    }
   ],
   "source": [
    "# Series info\n",
    "embeds['series']"
   ]
  },
  {
   "cell_type": "code",
   "execution_count": 18,
   "metadata": {
    "pycharm": {
     "name": "#%%\n"
    }
   },
   "outputs": [],
   "source": [
    "# After hours of downloading, the information was saved here\n",
    "path_books_raw = os.path.join('data_raw', 'books.txt')"
   ]
  },
  {
   "cell_type": "markdown",
   "metadata": {
    "pycharm": {
     "name": "#%% md\n"
    }
   },
   "source": [
    "Downloaded data contains a lot of information about books, their authors, publishers, etc. For the sake of simplicity, we will analyze only a part of it. [This script](parse_scripts/books.py) was used to parse data and remove unused book properties."
   ]
  },
  {
   "cell_type": "markdown",
   "metadata": {
    "pycharm": {
     "name": "#%% md\n"
    }
   },
   "source": [
    "## Categories Info"
   ]
  },
  {
   "cell_type": "markdown",
   "metadata": {
    "pycharm": {
     "name": "#%% md\n"
    }
   },
   "source": [
    "There are several types of categories, but we will use only the \"Consumer\" categories. See, more details [here](https://developer.penguinrandomhouse.com/docs/read/enhanced_prh_api/resources/Category) and [here](https://developer.penguinrandomhouse.com/docs/read/enhanced_prh_api/concepts/Categories). Each category can have a parent and children. Thus, we'll get information about the top level category, and then we'll go deeper and deeper with recursion.\n",
    "\n",
    "To download category info, [this script](download_scripts/categories.py) is used."
   ]
  },
  {
   "cell_type": "code",
   "execution_count": 19,
   "metadata": {
    "pycharm": {
     "name": "#%%\n"
    }
   },
   "outputs": [
    {
     "data": {
      "text/plain": [
       "{'catId': 2000000000,\n",
       " 'description': 'Consumer Category',\n",
       " 'catSetId': 'CN',\n",
       " 'catUri': None,\n",
       " 'menuText': None,\n",
       " 'hasChildren': True,\n",
       " 'seq': None,\n",
       " 'weight': None,\n",
       " '_embeds': None,\n",
       " '_links': []}"
      ]
     },
     "execution_count": 19,
     "metadata": {},
     "output_type": "execute_result"
    }
   ],
   "source": [
    "# The information about parent category\n",
    "top_category_id = '2000000000'\n",
    "top_category_info = get_category_info(top_category_id)\n",
    "top_category_info"
   ]
  },
  {
   "cell_type": "code",
   "execution_count": 20,
   "metadata": {
    "pycharm": {
     "name": "#%%\n"
    }
   },
   "outputs": [],
   "source": [
    "# After several minutes of downloading, the information was saved here\n",
    "path_cats_raw = os.path.join('data_raw', 'categories.txt')"
   ]
  },
  {
   "cell_type": "markdown",
   "metadata": {
    "pycharm": {
     "name": "#%% md\n"
    }
   },
   "source": [
    "## Contributor Roles"
   ]
  },
  {
   "cell_type": "markdown",
   "metadata": {
    "pycharm": {
     "name": "#%% md\n"
    }
   },
   "source": [
    "When associating people with books, the term \"author\" is a natural fit. But it is better to use term \"contributor\" because people contribute into books in many ways besides simply authoring the content such as illustrating, narrating, or editing. More details [here](https://developer.penguinrandomhouse.com/docs/read/enhanced_prh_api/concepts/Contributor_role)."
   ]
  },
  {
   "cell_type": "code",
   "execution_count": 21,
   "metadata": {
    "pycharm": {
     "name": "#%%\n"
    }
   },
   "outputs": [],
   "source": [
    "# Since there is a little number of roles, they were set manually and saved here\n",
    "path_roles = os.path.join('data_raw', 'contributor_roles.csv')"
   ]
  },
  {
   "cell_type": "markdown",
   "metadata": {},
   "source": [
    "## Other"
   ]
  },
  {
   "cell_type": "markdown",
   "metadata": {},
   "source": [
    "The main information about series, contributors, works and categories is included in the API responses with book data. However, it is possible to download some additional information, for example, biography of contributors (see details [here](https://developer.penguinrandomhouse.com/docs/read/enhanced_prh_api/resources/Authors)), but we won't do this for simplicity."
   ]
  }
 ],
 "metadata": {
  "kernelspec": {
   "display_name": "Python 3 (ipykernel)",
   "language": "python",
   "name": "python3"
  },
  "language_info": {
   "codemirror_mode": {
    "name": "ipython",
    "version": 3
   },
   "file_extension": ".py",
   "mimetype": "text/x-python",
   "name": "python",
   "nbconvert_exporter": "python",
   "pygments_lexer": "ipython3",
   "version": "3.9.7"
  }
 },
 "nbformat": 4,
 "nbformat_minor": 4
}