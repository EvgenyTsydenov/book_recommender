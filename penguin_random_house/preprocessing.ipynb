{
 "cells": [
  {
   "cell_type": "markdown",
   "metadata": {},
   "source": [
    "# Penguin Random House Dataset"
   ]
  },
  {
   "cell_type": "markdown",
   "metadata": {},
   "source": [
    "The data were collected in January 2022 from [Penguin Random House](https://www.penguinrandomhouse.com/) via [API](https://developer.penguinrandomhouse.com/page).\n",
    "\n",
    "The collected data were parsed and saved [in this folder](data_interm) (see details [here](downloading.ipynb))."
   ]
  },
  {
   "cell_type": "code",
   "execution_count": 1,
   "metadata": {
    "tags": []
   },
   "outputs": [],
   "source": [
    "import os\n",
    "import sys\n",
    "\n",
    "# Append sys.path with the project root path\n",
    "sys.path.append(os.path.dirname(os.path.abspath('')))"
   ]
  },
  {
   "cell_type": "code",
   "execution_count": 2,
   "metadata": {
    "pycharm": {
     "name": "#%%\n"
    }
   },
   "outputs": [],
   "source": [
    "import warnings\n",
    "\n",
    "import matplotlib.pyplot as plt\n",
    "import pandas as pd\n",
    "import seaborn as sns\n",
    "from IPython.display import Image\n",
    "from bs4 import BeautifulSoup\n",
    "from treelib import Tree\n",
    "\n",
    "from utils.preprocessing import get_weighted_rating\n",
    "\n",
    "# Suppress warnings\n",
    "warnings.filterwarnings('ignore', category=UserWarning, module='bs4')\n",
    "\n",
    "# To print many rows\n",
    "pd.set_option('display.max_rows', 100)\n",
    "\n",
    "# To wrap long values\n",
    "pd.set_option('display.max_colwidth', 78)\n",
    "\n",
    "# To use seaborn style for plots\n",
    "sns.set_style('darkgrid', {'axes.facecolor': '.9'})\n",
    "sns.set_context('talk')\n",
    "sns_palette = sns.color_palette(plt.cm.get_cmap('tab20c').colors)"
   ]
  },
  {
   "cell_type": "markdown",
   "metadata": {
    "tags": []
   },
   "source": [
    "## Categories"
   ]
  },
  {
   "cell_type": "markdown",
   "metadata": {
    "pycharm": {
     "name": "#%% md\n"
    }
   },
   "source": [
    "Books are assigned to one or more categories identified by a numeric `cat_id`. Each category is part of a larger category set and may be arranged in relation to other categories in the set to form a hierarchy."
   ]
  },
  {
   "cell_type": "code",
   "execution_count": 3,
   "metadata": {
    "pycharm": {
     "name": "#%%\n"
    }
   },
   "outputs": [
    {
     "data": {
      "text/html": [
       "<div>\n",
       "<style scoped>\n",
       "    .dataframe tbody tr th:only-of-type {\n",
       "        vertical-align: middle;\n",
       "    }\n",
       "\n",
       "    .dataframe tbody tr th {\n",
       "        vertical-align: top;\n",
       "    }\n",
       "\n",
       "    .dataframe thead th {\n",
       "        text-align: right;\n",
       "    }\n",
       "</style>\n",
       "<table border=\"1\" class=\"dataframe\">\n",
       "  <thead>\n",
       "    <tr style=\"text-align: right;\">\n",
       "      <th></th>\n",
       "      <th>description</th>\n",
       "      <th>menu_text</th>\n",
       "      <th>parent</th>\n",
       "    </tr>\n",
       "    <tr>\n",
       "      <th>cat_id</th>\n",
       "      <th></th>\n",
       "      <th></th>\n",
       "      <th></th>\n",
       "    </tr>\n",
       "  </thead>\n",
       "  <tbody>\n",
       "    <tr>\n",
       "      <th>2000000000</th>\n",
       "      <td>Consumer Category</td>\n",
       "      <td>Consumer Category</td>\n",
       "      <td>&lt;NA&gt;</td>\n",
       "    </tr>\n",
       "    <tr>\n",
       "      <th>2000000029</th>\n",
       "      <td>Children's Books</td>\n",
       "      <td>Children's</td>\n",
       "      <td>2000000000</td>\n",
       "    </tr>\n",
       "    <tr>\n",
       "      <th>2000000006</th>\n",
       "      <td>Children's Activity &amp; Novelty Books</td>\n",
       "      <td>Activity &amp; Novelty Books</td>\n",
       "      <td>2000000029</td>\n",
       "    </tr>\n",
       "    <tr>\n",
       "      <th>2000000022</th>\n",
       "      <td>Children's Board Books</td>\n",
       "      <td>Board Books</td>\n",
       "      <td>2000000029</td>\n",
       "    </tr>\n",
       "    <tr>\n",
       "      <th>2000000023</th>\n",
       "      <td>Children's Boxed Sets</td>\n",
       "      <td>Boxed Sets</td>\n",
       "      <td>2000000029</td>\n",
       "    </tr>\n",
       "    <tr>\n",
       "      <th>2000000028</th>\n",
       "      <td>Children's Chapter Books</td>\n",
       "      <td>Chapter Books</td>\n",
       "      <td>2000000029</td>\n",
       "    </tr>\n",
       "    <tr>\n",
       "      <th>2000000100</th>\n",
       "      <td>Children's Middle Grade Books</td>\n",
       "      <td>Middle Grade Books</td>\n",
       "      <td>2000000029</td>\n",
       "    </tr>\n",
       "    <tr>\n",
       "      <th>2000000005</th>\n",
       "      <td>Children's Middle Grade Action &amp; Adventure Books</td>\n",
       "      <td>Action &amp; Adventure</td>\n",
       "      <td>2000000100</td>\n",
       "    </tr>\n",
       "    <tr>\n",
       "      <th>2000000055</th>\n",
       "      <td>Children's Middle Grade Fantasy &amp; Magical Books</td>\n",
       "      <td>Fantasy</td>\n",
       "      <td>2000000100</td>\n",
       "    </tr>\n",
       "    <tr>\n",
       "      <th>2000000068</th>\n",
       "      <td>Children's Middle Grade Historical Books</td>\n",
       "      <td>Historical</td>\n",
       "      <td>2000000100</td>\n",
       "    </tr>\n",
       "  </tbody>\n",
       "</table>\n",
       "</div>"
      ],
      "text/plain": [
       "                                                 description  \\\n",
       "cat_id                                                         \n",
       "2000000000                                 Consumer Category   \n",
       "2000000029                                  Children's Books   \n",
       "2000000006               Children's Activity & Novelty Books   \n",
       "2000000022                            Children's Board Books   \n",
       "2000000023                             Children's Boxed Sets   \n",
       "2000000028                          Children's Chapter Books   \n",
       "2000000100                     Children's Middle Grade Books   \n",
       "2000000005  Children's Middle Grade Action & Adventure Books   \n",
       "2000000055   Children's Middle Grade Fantasy & Magical Books   \n",
       "2000000068          Children's Middle Grade Historical Books   \n",
       "\n",
       "                           menu_text      parent  \n",
       "cat_id                                            \n",
       "2000000000         Consumer Category        <NA>  \n",
       "2000000029                Children's  2000000000  \n",
       "2000000006  Activity & Novelty Books  2000000029  \n",
       "2000000022               Board Books  2000000029  \n",
       "2000000023                Boxed Sets  2000000029  \n",
       "2000000028             Chapter Books  2000000029  \n",
       "2000000100        Middle Grade Books  2000000029  \n",
       "2000000005        Action & Adventure  2000000100  \n",
       "2000000055                   Fantasy  2000000100  \n",
       "2000000068                Historical  2000000100  "
      ]
     },
     "execution_count": 3,
     "metadata": {},
     "output_type": "execute_result"
    }
   ],
   "source": [
    "# Load categories info\n",
    "path_cats = os.path.join('data_interm', 'categories.txt')\n",
    "\n",
    "# Read data\n",
    "categories = pd.read_json(path_cats, lines=True)\n",
    "\n",
    "# Set the proper types\n",
    "categories['parent'] = categories['parent'].astype('Int64')\n",
    "categories['cat_id'] = categories['cat_id'].astype('Int64')\n",
    "\n",
    "# Set index\n",
    "categories.set_index('cat_id', inplace=True)\n",
    "\n",
    "# Change the name of the top category\n",
    "categories.loc[2000000000, 'menu_text'] = 'Consumer Category'\n",
    "\n",
    "# Show\n",
    "categories.head(10)"
   ]
  },
  {
   "cell_type": "markdown",
   "metadata": {},
   "source": [
    "Each category has the following [properties](https://developer.penguinrandomhouse.com/docs/read/enhanced_prh_api/concepts/Categories):\n",
    "- `cat_id`, a number that uniquely identifies this category\n",
    "- `menu_text`, a brief description of the category, suitable for use in a navigational menu\n",
    "- `description`, the description of the category, suitable for display\n",
    "- `parent`, it is a `cat_id` of the parent category"
   ]
  },
  {
   "cell_type": "code",
   "execution_count": 4,
   "metadata": {
    "pycharm": {
     "name": "#%%\n"
    }
   },
   "outputs": [
    {
     "data": {
      "text/html": [
       "<div>\n",
       "<style scoped>\n",
       "    .dataframe tbody tr th:only-of-type {\n",
       "        vertical-align: middle;\n",
       "    }\n",
       "\n",
       "    .dataframe tbody tr th {\n",
       "        vertical-align: top;\n",
       "    }\n",
       "\n",
       "    .dataframe thead th {\n",
       "        text-align: right;\n",
       "    }\n",
       "</style>\n",
       "<table border=\"1\" class=\"dataframe\">\n",
       "  <thead>\n",
       "    <tr style=\"text-align: right;\">\n",
       "      <th></th>\n",
       "      <th>description</th>\n",
       "      <th>menu_text</th>\n",
       "      <th>parent</th>\n",
       "    </tr>\n",
       "    <tr>\n",
       "      <th>cat_id</th>\n",
       "      <th></th>\n",
       "      <th></th>\n",
       "      <th></th>\n",
       "    </tr>\n",
       "  </thead>\n",
       "  <tbody>\n",
       "    <tr>\n",
       "      <th>2000000000</th>\n",
       "      <td>Consumer Category</td>\n",
       "      <td>Consumer Category</td>\n",
       "      <td>&lt;NA&gt;</td>\n",
       "    </tr>\n",
       "  </tbody>\n",
       "</table>\n",
       "</div>"
      ],
      "text/plain": [
       "                  description          menu_text  parent\n",
       "cat_id                                                  \n",
       "2000000000  Consumer Category  Consumer Category    <NA>"
      ]
     },
     "execution_count": 4,
     "metadata": {},
     "output_type": "execute_result"
    }
   ],
   "source": [
    "# If there are NaNs\n",
    "mask = categories.isna().any(axis=1)\n",
    "categories[mask]\n",
    "\n",
    "# This is ok, because the highest level doesn't have a parent"
   ]
  },
  {
   "cell_type": "code",
   "execution_count": 5,
   "metadata": {},
   "outputs": [
    {
     "name": "stdout",
     "output_type": "stream",
     "text": [
      "Consumer Category\n",
      "├── Audiobooks\n",
      "├── Children's\n",
      "│   ├── Activity & Novelty Books\n",
      "│   ├── Board Books\n",
      "│   ├── Boxed Sets\n",
      "│   ├── Chapter Books\n",
      "│   ├── Guided Reading Levels\n",
      "│   │   ├── Leveled Readers\n",
      "│   │   │   ├── Level 1 Readers\n",
      "│   │   │   ├── Level 2 Readers\n",
      "│   │   │   ├── Level 3 Readers\n",
      "│   │   │   └── Level 4 Readers\n",
      "│   │   └── Step Into Reading \n",
      "│   ├── Media Tie-In\n",
      "│   ├── Middle Grade Books\n",
      "│   │   ├── Action & Adventure\n",
      "│   │   ├── Fantasy\n",
      "│   │   ├── Historical\n",
      "│   │   ├── Mystery & Detective\n",
      "│   │   └── Sports\n",
      "│   ├── Picture Books\n",
      "│   ├── Spanish Language \n",
      "│   └── Test Preparation\n",
      "├── Classics\n",
      "│   ├── Fiction Classics\n",
      "│   ├── Literary Collections\n",
      "│   ├── Literary Criticism\n",
      "│   └── Nonfiction Classics\n",
      "├── Fiction\n",
      "│   ├── Gothic & Horror\n",
      "│   ├── Graphic Novels & Manga\n",
      "│   ├── Historical \n",
      "│   ├── Literary\n",
      "│   ├── Military \n",
      "│   ├── Mystery & Suspense\n",
      "│   │   ├── Cozy \n",
      "│   │   ├── Crime\n",
      "│   │   ├── Espionage\n",
      "│   │   ├── Noir\n",
      "│   │   └── Suspense & Thriller\n",
      "│   ├── Paranormal\n",
      "│   ├── Romance\n",
      "│   │   ├── Contemporary \n",
      "│   │   ├── Erotica\n",
      "│   │   ├── Historical \n",
      "│   │   ├── New Adult \n",
      "│   │   ├── Paranormal\n",
      "│   │   ├── Regency\n",
      "│   │   ├── Suspense \n",
      "│   │   └── Western \n",
      "│   ├── Sci-Fi & Fantasy\n",
      "│   │   ├── Contemporary Fantasy\n",
      "│   │   ├── Cyber Punk\n",
      "│   │   ├── Epic Fantasy\n",
      "│   │   ├── Fairy Tales\n",
      "│   │   ├── Military Science Fiction\n",
      "│   │   ├── Space Opera\n",
      "│   │   └── Urban Fantasy\n",
      "│   ├── Spanish Language \n",
      "│   ├── Spiritual \n",
      "│   ├── Western \n",
      "│   └── Women's Fiction\n",
      "├── Games\n",
      "├── Humor\n",
      "├── Merchandise\n",
      "├── Nonfiction\n",
      "│   ├── Arts & Entertainment\n",
      "│   │   ├── Art\n",
      "│   │   ├── Design\n",
      "│   │   ├── Film\n",
      "│   │   ├── Music\n",
      "│   │   ├── Performing Arts\n",
      "│   │   ├── Photography\n",
      "│   │   └── Writing\n",
      "│   ├── Biography & Memoir\n",
      "│   │   ├── Arts & Entertainment\n",
      "│   │   ├── Historical\n",
      "│   │   ├── Literary \n",
      "│   │   └── Political\n",
      "│   ├── Business\n",
      "│   │   ├── Economics\n",
      "│   │   ├── Management\n",
      "│   │   └── Marketing\n",
      "│   ├── Cooking\n",
      "│   │   ├── Baking & Desserts\n",
      "│   │   ├── Cooking Methods\n",
      "│   │   ├── Food Memoir & Travel\n",
      "│   │   └── Wine & Beverage\n",
      "│   ├── Crafts, Home & Garden\n",
      "│   │   ├── Crafts & Hobbies\n",
      "│   │   ├── Home & Garden\n",
      "│   │   └── Weddings\n",
      "│   ├── Health & Fitness\n",
      "│   │   ├── Alternative Therapies\n",
      "│   │   ├── Diet & Nutrition\n",
      "│   │   ├── Exercise\n",
      "│   │   └── Health Reference\n",
      "│   ├── History\n",
      "│   │   ├── Military\n",
      "│   │   │   ├── 1950-Present \n",
      "│   │   │   ├── World War I \n",
      "│   │   │   └── World War II\n",
      "│   │   ├── U.S. History\n",
      "│   │   │   ├── 19th Century\n",
      "│   │   │   ├── 20th Century \n",
      "│   │   │   ├── 21st Century \n",
      "│   │   │   ├── Civil War Period\n",
      "│   │   │   ├── Colonial/Revolutionary Period\n",
      "│   │   │   └── Native American\n",
      "│   │   └── World \n",
      "│   │       ├── Africa World History\n",
      "│   │       ├── Ancient World History\n",
      "│   │       ├── Asia World History\n",
      "│   │       ├── Europe World History\n",
      "│   │       ├── Latin America World History\n",
      "│   │       ├── Middle East World History\n",
      "│   │       └── North America World History\n",
      "│   ├── Parenting\n",
      "│   ├── Pets\n",
      "│   ├── Politics\n",
      "│   │   ├── Domestic\n",
      "│   │   └── World \n",
      "│   ├── Popular Science\n",
      "│   │   ├── Science\n",
      "│   │   └── Technology\n",
      "│   ├── Psychology\n",
      "│   ├── Reference\n",
      "│   │   ├── Language \n",
      "│   │   └── Test Preparation\n",
      "│   ├── Religion & Philosophy\n",
      "│   │   ├── Bibles\n",
      "│   │   ├── Philosophy\n",
      "│   │   └── Religion\n",
      "│   ├── Self-Improvement\n",
      "│   │   ├── Beauty\n",
      "│   │   ├── Inspiration & Motivation\n",
      "│   │   ├── Personal Finance\n",
      "│   │   └── Personal Growth\n",
      "│   ├── Spanish Language \n",
      "│   ├── Sports\n",
      "│   └── Travel\n",
      "│       ├── Africa\n",
      "│       ├── Asia\n",
      "│       ├── Australia & Oceania Travel\n",
      "│       ├── Caribbean & Mexico \n",
      "│       ├── Central & South America \n",
      "│       ├── Europe\n",
      "│       ├── Middle East\n",
      "│       ├── Specialty\n",
      "│       ├── Travel Writing\n",
      "│       └── USA & Canada \n",
      "├── Poetry\n",
      "└── Teen & Young Adult\n",
      "    ├── Action & Adventure\n",
      "    ├── Boxed Sets\n",
      "    ├── Fantasy & Magical\n",
      "    ├── Fiction\n",
      "    ├── Historical Fiction\n",
      "    ├── Mystery & Suspense\n",
      "    ├── Nonfiction\n",
      "    ├── Romance\n",
      "    ├── Science Fiction \n",
      "    ├── Social Issues\n",
      "    └── Spanish Language \n",
      "\n"
     ]
    }
   ],
   "source": [
    "# Visualize the hierarchy\n",
    "tree = Tree()\n",
    "for index, row in categories.iterrows():\n",
    "\n",
    "    # If this category is the top\n",
    "    if pd.isna(row.parent):\n",
    "        tree.create_node(row.menu_text, index)\n",
    "        continue\n",
    "\n",
    "    # Child categories\n",
    "    tree.create_node(row.menu_text, index, parent=row.parent)\n",
    "\n",
    "tree.show()"
   ]
  },
  {
   "cell_type": "markdown",
   "metadata": {
    "pycharm": {
     "name": "#%% md\n"
    },
    "tags": []
   },
   "source": [
    "## Contributor Roles"
   ]
  },
  {
   "cell_type": "markdown",
   "metadata": {
    "pycharm": {
     "name": "#%% md\n"
    }
   },
   "source": [
    "In PRH, every ISBN has up to five people mapped to it and each mapping is qualified with a contributor role code that identifies the type of contribution that person made to the ISBN.\n",
    "\n",
    "Beside of the role code and description, there is a sequence value that [is used](https://developer.penguinrandomhouse.com/docs/read/enhanced_prh_api/concepts/Contributor_role) to prioritize certain roles over others. This sequencing is used to order contributors within a work or ISBN."
   ]
  },
  {
   "cell_type": "code",
   "execution_count": 6,
   "metadata": {
    "pycharm": {
     "name": "#%%\n"
    }
   },
   "outputs": [
    {
     "data": {
      "text/html": [
       "<div>\n",
       "<style scoped>\n",
       "    .dataframe tbody tr th:only-of-type {\n",
       "        vertical-align: middle;\n",
       "    }\n",
       "\n",
       "    .dataframe tbody tr th {\n",
       "        vertical-align: top;\n",
       "    }\n",
       "\n",
       "    .dataframe thead th {\n",
       "        text-align: right;\n",
       "    }\n",
       "</style>\n",
       "<table border=\"1\" class=\"dataframe\">\n",
       "  <thead>\n",
       "    <tr style=\"text-align: right;\">\n",
       "      <th></th>\n",
       "      <th>description</th>\n",
       "      <th>seq</th>\n",
       "    </tr>\n",
       "    <tr>\n",
       "      <th>role_id</th>\n",
       "      <th></th>\n",
       "      <th></th>\n",
       "    </tr>\n",
       "  </thead>\n",
       "  <tbody>\n",
       "    <tr>\n",
       "      <th>A</th>\n",
       "      <td>Author</td>\n",
       "      <td>10</td>\n",
       "    </tr>\n",
       "    <tr>\n",
       "      <th>I</th>\n",
       "      <td>Illustrator</td>\n",
       "      <td>20</td>\n",
       "    </tr>\n",
       "    <tr>\n",
       "      <th>4</th>\n",
       "      <td>Read by</td>\n",
       "      <td>30</td>\n",
       "    </tr>\n",
       "    <tr>\n",
       "      <th>U</th>\n",
       "      <td>Foreword by</td>\n",
       "      <td>40</td>\n",
       "    </tr>\n",
       "    <tr>\n",
       "      <th>V</th>\n",
       "      <td>Introduction by</td>\n",
       "      <td>50</td>\n",
       "    </tr>\n",
       "    <tr>\n",
       "      <th>1</th>\n",
       "      <td>Preface by</td>\n",
       "      <td>60</td>\n",
       "    </tr>\n",
       "    <tr>\n",
       "      <th>E</th>\n",
       "      <td>Editor</td>\n",
       "      <td>70</td>\n",
       "    </tr>\n",
       "    <tr>\n",
       "      <th>D</th>\n",
       "      <td>Afterword by</td>\n",
       "      <td>80</td>\n",
       "    </tr>\n",
       "    <tr>\n",
       "      <th>Q</th>\n",
       "      <td>Epilogue by</td>\n",
       "      <td>90</td>\n",
       "    </tr>\n",
       "    <tr>\n",
       "      <th>P</th>\n",
       "      <td>Photographer</td>\n",
       "      <td>100</td>\n",
       "    </tr>\n",
       "  </tbody>\n",
       "</table>\n",
       "</div>"
      ],
      "text/plain": [
       "             description  seq\n",
       "role_id                      \n",
       "A                 Author   10\n",
       "I            Illustrator   20\n",
       "4                Read by   30\n",
       "U            Foreword by   40\n",
       "V        Introduction by   50\n",
       "1             Preface by   60\n",
       "E                 Editor   70\n",
       "D           Afterword by   80\n",
       "Q            Epilogue by   90\n",
       "P           Photographer  100"
      ]
     },
     "execution_count": 6,
     "metadata": {},
     "output_type": "execute_result"
    }
   ],
   "source": [
    "# Load roles\n",
    "path_roles = os.path.join('data_interm', 'contributor_roles.txt')\n",
    "roles = pd.read_json(path_roles, lines=True)\n",
    "\n",
    "# Rename code to `role_id`\n",
    "roles.rename(columns={'code': 'role_id'}, inplace=True)\n",
    "roles.set_index('role_id', inplace=True)\n",
    "roles.head(10)"
   ]
  },
  {
   "cell_type": "markdown",
   "metadata": {
    "tags": [],
    "toc-hr-collapsed": true
   },
   "source": [
    "## Books"
   ]
  },
  {
   "cell_type": "code",
   "execution_count": 7,
   "metadata": {},
   "outputs": [
    {
     "data": {
      "text/html": [
       "<div>\n",
       "<style scoped>\n",
       "    .dataframe tbody tr th:only-of-type {\n",
       "        vertical-align: middle;\n",
       "    }\n",
       "\n",
       "    .dataframe tbody tr th {\n",
       "        vertical-align: top;\n",
       "    }\n",
       "\n",
       "    .dataframe thead th {\n",
       "        text-align: right;\n",
       "    }\n",
       "</style>\n",
       "<table border=\"1\" class=\"dataframe\">\n",
       "  <thead>\n",
       "    <tr style=\"text-align: right;\">\n",
       "      <th></th>\n",
       "      <th>title</th>\n",
       "      <th>onsale</th>\n",
       "      <th>price</th>\n",
       "      <th>language</th>\n",
       "      <th>pages</th>\n",
       "      <th>publisher</th>\n",
       "      <th>cover</th>\n",
       "      <th>format_family</th>\n",
       "      <th>projected_minutes</th>\n",
       "      <th>series_number</th>\n",
       "      <th>authors</th>\n",
       "      <th>categories</th>\n",
       "      <th>series</th>\n",
       "      <th>works</th>\n",
       "      <th>flapcopy</th>\n",
       "      <th>excerpt</th>\n",
       "    </tr>\n",
       "    <tr>\n",
       "      <th>isbn</th>\n",
       "      <th></th>\n",
       "      <th></th>\n",
       "      <th></th>\n",
       "      <th></th>\n",
       "      <th></th>\n",
       "      <th></th>\n",
       "      <th></th>\n",
       "      <th></th>\n",
       "      <th></th>\n",
       "      <th></th>\n",
       "      <th></th>\n",
       "      <th></th>\n",
       "      <th></th>\n",
       "      <th></th>\n",
       "      <th></th>\n",
       "      <th></th>\n",
       "    </tr>\n",
       "  </thead>\n",
       "  <tbody>\n",
       "    <tr>\n",
       "      <th>9780375760686</th>\n",
       "      <td>Morningside Heights</td>\n",
       "      <td>2005-07-12</td>\n",
       "      <td>[{'amount': 21.0, 'currencyCode': 'CAD', 'pricingType': None}, {'amount': ...</td>\n",
       "      <td>E</td>\n",
       "      <td>352.0</td>\n",
       "      <td>{'code': '7070', 'description': 'Random House Publishing Group'}</td>\n",
       "      <td>https://images.randomhouse.com/cover/9780375760686</td>\n",
       "      <td>Paperback</td>\n",
       "      <td>NaN</td>\n",
       "      <td>NaN</td>\n",
       "      <td>[{'author_id': 35922, 'first_name': 'Cheryl', 'last_name': 'Mendelson', 'c...</td>\n",
       "      <td>[{'category_id': 2000000083, 'seq': 1}, {'category_id': 3000001343, 'seq':...</td>\n",
       "      <td>[]</td>\n",
       "      <td>[{'work_id': 113275, 'title': 'Morningside Heights', 'author': 'Cheryl Men...</td>\n",
       "      <td>Following the tremendous success of her first book, a nonfiction work on h...</td>\n",
       "      <td>&lt;b&gt;1&lt;/b&gt;&lt;br&gt;&lt;br&gt;This neighborhood was always middle-class and urban. The a...</td>\n",
       "    </tr>\n",
       "    <tr>\n",
       "      <th>9781605295336</th>\n",
       "      <td>Going Long</td>\n",
       "      <td>2010-03-30</td>\n",
       "      <td>[{'amount': 16.99, 'currencyCode': 'USD', 'pricingType': None}, {'amount':...</td>\n",
       "      <td>E</td>\n",
       "      <td>400.0</td>\n",
       "      <td>{'code': '5H5H', 'description': 'Harmony/Rodale'}</td>\n",
       "      <td>https://images.randomhouse.com/cover/9781605295336</td>\n",
       "      <td>Paperback</td>\n",
       "      <td>NaN</td>\n",
       "      <td>NaN</td>\n",
       "      <td>[{'author_id': 2061538, 'first_name': 'David', 'last_name': 'Willey', 'com...</td>\n",
       "      <td>[{'category_id': 2000000052, 'seq': 3}, {'category_id': 2000000144, 'seq':...</td>\n",
       "      <td>[{'series_id': 'D22', 'name': 'Runner's World', 'description': None, 'seri...</td>\n",
       "      <td>[{'work_id': 594144, 'title': 'Going Long', 'author': 'Edited by David Wil...</td>\n",
       "      <td>For more than 40 years, &lt;i&gt;Runner's World &lt;/i&gt;magazine has been the world'...</td>\n",
       "      <td>None</td>\n",
       "    </tr>\n",
       "  </tbody>\n",
       "</table>\n",
       "</div>"
      ],
      "text/plain": [
       "                             title      onsale  \\\n",
       "isbn                                             \n",
       "9780375760686  Morningside Heights  2005-07-12   \n",
       "9781605295336           Going Long  2010-03-30   \n",
       "\n",
       "                                                                                       price  \\\n",
       "isbn                                                                                           \n",
       "9780375760686  [{'amount': 21.0, 'currencyCode': 'CAD', 'pricingType': None}, {'amount': ...   \n",
       "9781605295336  [{'amount': 16.99, 'currencyCode': 'USD', 'pricingType': None}, {'amount':...   \n",
       "\n",
       "              language  pages  \\\n",
       "isbn                            \n",
       "9780375760686        E  352.0   \n",
       "9781605295336        E  400.0   \n",
       "\n",
       "                                                                      publisher  \\\n",
       "isbn                                                                              \n",
       "9780375760686  {'code': '7070', 'description': 'Random House Publishing Group'}   \n",
       "9781605295336                 {'code': '5H5H', 'description': 'Harmony/Rodale'}   \n",
       "\n",
       "                                                            cover  \\\n",
       "isbn                                                                \n",
       "9780375760686  https://images.randomhouse.com/cover/9780375760686   \n",
       "9781605295336  https://images.randomhouse.com/cover/9781605295336   \n",
       "\n",
       "              format_family  projected_minutes  series_number  \\\n",
       "isbn                                                            \n",
       "9780375760686     Paperback                NaN            NaN   \n",
       "9781605295336     Paperback                NaN            NaN   \n",
       "\n",
       "                                                                                     authors  \\\n",
       "isbn                                                                                           \n",
       "9780375760686  [{'author_id': 35922, 'first_name': 'Cheryl', 'last_name': 'Mendelson', 'c...   \n",
       "9781605295336  [{'author_id': 2061538, 'first_name': 'David', 'last_name': 'Willey', 'com...   \n",
       "\n",
       "                                                                                  categories  \\\n",
       "isbn                                                                                           \n",
       "9780375760686  [{'category_id': 2000000083, 'seq': 1}, {'category_id': 3000001343, 'seq':...   \n",
       "9781605295336  [{'category_id': 2000000052, 'seq': 3}, {'category_id': 2000000144, 'seq':...   \n",
       "\n",
       "                                                                                      series  \\\n",
       "isbn                                                                                           \n",
       "9780375760686                                                                             []   \n",
       "9781605295336  [{'series_id': 'D22', 'name': 'Runner's World', 'description': None, 'seri...   \n",
       "\n",
       "                                                                                       works  \\\n",
       "isbn                                                                                           \n",
       "9780375760686  [{'work_id': 113275, 'title': 'Morningside Heights', 'author': 'Cheryl Men...   \n",
       "9781605295336  [{'work_id': 594144, 'title': 'Going Long', 'author': 'Edited by David Wil...   \n",
       "\n",
       "                                                                                    flapcopy  \\\n",
       "isbn                                                                                           \n",
       "9780375760686  Following the tremendous success of her first book, a nonfiction work on h...   \n",
       "9781605295336  For more than 40 years, <i>Runner's World </i>magazine has been the world'...   \n",
       "\n",
       "                                                                                     excerpt  \n",
       "isbn                                                                                          \n",
       "9780375760686  <b>1</b><br><br>This neighborhood was always middle-class and urban. The a...  \n",
       "9781605295336                                                                           None  "
      ]
     },
     "execution_count": 7,
     "metadata": {},
     "output_type": "execute_result"
    }
   ],
   "source": [
    "# Load books info\n",
    "path_books = os.path.join('data_interm', 'books.txt')\n",
    "books = pd.read_json(path_books, lines=True)\n",
    "\n",
    "# Set `isbn` column as index\n",
    "books.set_index('isbn', inplace=True)\n",
    "books.head(2)"
   ]
  },
  {
   "cell_type": "code",
   "execution_count": 8,
   "metadata": {},
   "outputs": [
    {
     "data": {
      "text/plain": [
       "title                 object\n",
       "onsale                object\n",
       "price                 object\n",
       "language              object\n",
       "pages                float64\n",
       "publisher             object\n",
       "cover                 object\n",
       "format_family         object\n",
       "projected_minutes    float64\n",
       "series_number        float64\n",
       "authors               object\n",
       "categories            object\n",
       "series                object\n",
       "works                 object\n",
       "flapcopy              object\n",
       "excerpt               object\n",
       "dtype: object"
      ]
     },
     "execution_count": 8,
     "metadata": {},
     "output_type": "execute_result"
    }
   ],
   "source": [
    "books.dtypes"
   ]
  },
  {
   "cell_type": "markdown",
   "metadata": {},
   "source": [
    "Let's analyze each column individually."
   ]
  },
  {
   "cell_type": "markdown",
   "metadata": {
    "tags": []
   },
   "source": [
    "### Onsale"
   ]
  },
  {
   "cell_type": "markdown",
   "metadata": {},
   "source": [
    "Values of the column `onsale` are dates when books began to be sold. So, convert them to the appropriate type:"
   ]
  },
  {
   "cell_type": "code",
   "execution_count": 9,
   "metadata": {},
   "outputs": [
    {
     "data": {
      "text/plain": [
       "False"
      ]
     },
     "execution_count": 9,
     "metadata": {},
     "output_type": "execute_result"
    }
   ],
   "source": [
    "# If there are NaNs\n",
    "books['onsale'].isna().any()"
   ]
  },
  {
   "cell_type": "code",
   "execution_count": 10,
   "metadata": {},
   "outputs": [],
   "source": [
    "# Convert to datetime\n",
    "books['onsale'] = pd.to_datetime(books['onsale'])\n",
    "\n",
    "# Rename\n",
    "books.rename(columns={'onsale': 'onsale_date'}, inplace=True)"
   ]
  },
  {
   "cell_type": "code",
   "execution_count": 11,
   "metadata": {},
   "outputs": [
    {
     "data": {
      "image/png": "[encoded data removed]",
      "text/plain": [
       "<Figure size 720x576 with 1 Axes>"
      ]
     },
     "metadata": {},
     "output_type": "display_data"
    }
   ],
   "source": [
    "# Show the distribution\n",
    "_, ax = plt.subplots(figsize=(10, 8))\n",
    "sns.histplot(x=books['onsale_date'],\n",
    "             palette=sns_palette, ax=ax, bins=100)\n",
    "ax.set_ylabel('Number of books')\n",
    "ax.set_xlabel('Year of starting selling')\n",
    "ax.set_title('Distribution of dates when books started to be sold')\n",
    "plt.show()"
   ]
  },
  {
   "cell_type": "code",
   "execution_count": 12,
   "metadata": {},
   "outputs": [
    {
     "data": {
      "text/html": [
       "<div>\n",
       "<style scoped>\n",
       "    .dataframe tbody tr th:only-of-type {\n",
       "        vertical-align: middle;\n",
       "    }\n",
       "\n",
       "    .dataframe tbody tr th {\n",
       "        vertical-align: top;\n",
       "    }\n",
       "\n",
       "    .dataframe thead th {\n",
       "        text-align: right;\n",
       "    }\n",
       "</style>\n",
       "<table border=\"1\" class=\"dataframe\">\n",
       "  <thead>\n",
       "    <tr style=\"text-align: right;\">\n",
       "      <th></th>\n",
       "      <th>title</th>\n",
       "      <th>onsale_date</th>\n",
       "    </tr>\n",
       "    <tr>\n",
       "      <th>isbn</th>\n",
       "      <th></th>\n",
       "      <th></th>\n",
       "    </tr>\n",
       "  </thead>\n",
       "  <tbody>\n",
       "    <tr>\n",
       "      <th>9780394404288</th>\n",
       "      <td>The Prophet</td>\n",
       "      <td>1923-09-12</td>\n",
       "    </tr>\n",
       "    <tr>\n",
       "      <th>9780448089010</th>\n",
       "      <td>Hardy Boys 01: the Tower Treasure</td>\n",
       "      <td>1927-06-01</td>\n",
       "    </tr>\n",
       "    <tr>\n",
       "      <th>9780448089027</th>\n",
       "      <td>Hardy Boys 02: the House on the Cliff</td>\n",
       "      <td>1927-06-01</td>\n",
       "    </tr>\n",
       "    <tr>\n",
       "      <th>9780448089034</th>\n",
       "      <td>Hardy Boys 03: the Secret of the Old Mill</td>\n",
       "      <td>1927-06-01</td>\n",
       "    </tr>\n",
       "    <tr>\n",
       "      <th>9780448089058</th>\n",
       "      <td>Hardy Boys 05: Hunting for Hidden Gold</td>\n",
       "      <td>1928-05-01</td>\n",
       "    </tr>\n",
       "  </tbody>\n",
       "</table>\n",
       "</div>"
      ],
      "text/plain": [
       "                                                   title onsale_date\n",
       "isbn                                                                \n",
       "9780394404288                                The Prophet  1923-09-12\n",
       "9780448089010          Hardy Boys 01: the Tower Treasure  1927-06-01\n",
       "9780448089027      Hardy Boys 02: the House on the Cliff  1927-06-01\n",
       "9780448089034  Hardy Boys 03: the Secret of the Old Mill  1927-06-01\n",
       "9780448089058     Hardy Boys 05: Hunting for Hidden Gold  1928-05-01"
      ]
     },
     "execution_count": 12,
     "metadata": {},
     "output_type": "execute_result"
    }
   ],
   "source": [
    "# Show the newest and the oldest books\n",
    "books_sorted_onsale = books.sort_values('onsale_date')\n",
    "\n",
    "# The oldest books\n",
    "books_sorted_onsale[['title', 'onsale_date']].head(5)"
   ]
  },
  {
   "cell_type": "code",
   "execution_count": 13,
   "metadata": {},
   "outputs": [
    {
     "data": {
      "text/html": [
       "<div>\n",
       "<style scoped>\n",
       "    .dataframe tbody tr th:only-of-type {\n",
       "        vertical-align: middle;\n",
       "    }\n",
       "\n",
       "    .dataframe tbody tr th {\n",
       "        vertical-align: top;\n",
       "    }\n",
       "\n",
       "    .dataframe thead th {\n",
       "        text-align: right;\n",
       "    }\n",
       "</style>\n",
       "<table border=\"1\" class=\"dataframe\">\n",
       "  <thead>\n",
       "    <tr style=\"text-align: right;\">\n",
       "      <th></th>\n",
       "      <th>title</th>\n",
       "      <th>onsale_date</th>\n",
       "    </tr>\n",
       "    <tr>\n",
       "      <th>isbn</th>\n",
       "      <th></th>\n",
       "      <th></th>\n",
       "    </tr>\n",
       "  </thead>\n",
       "  <tbody>\n",
       "    <tr>\n",
       "      <th>9788499083209</th>\n",
       "      <td>Trilogía de la Fundación / The Foundation Trilogy</td>\n",
       "      <td>2022-03-22</td>\n",
       "    </tr>\n",
       "    <tr>\n",
       "      <th>9788415594765</th>\n",
       "      <td>Wonder: Charlotte tiene la palabra / Shingaling. A Wonder Story</td>\n",
       "      <td>2022-04-05</td>\n",
       "    </tr>\n",
       "    <tr>\n",
       "      <th>9780553539233</th>\n",
       "      <td>Super-Pets! (DC Super Friends)</td>\n",
       "      <td>2022-04-05</td>\n",
       "    </tr>\n",
       "    <tr>\n",
       "      <th>9780451419903</th>\n",
       "      <td>Mark of the Hunter</td>\n",
       "      <td>2022-04-26</td>\n",
       "    </tr>\n",
       "    <tr>\n",
       "      <th>9780375806131</th>\n",
       "      <td>The Name Jar</td>\n",
       "      <td>2022-07-19</td>\n",
       "    </tr>\n",
       "  </tbody>\n",
       "</table>\n",
       "</div>"
      ],
      "text/plain": [
       "                                                                         title  \\\n",
       "isbn                                                                             \n",
       "9788499083209                Trilogía de la Fundación / The Foundation Trilogy   \n",
       "9788415594765  Wonder: Charlotte tiene la palabra / Shingaling. A Wonder Story   \n",
       "9780553539233                                   Super-Pets! (DC Super Friends)   \n",
       "9780451419903                                               Mark of the Hunter   \n",
       "9780375806131                                                     The Name Jar   \n",
       "\n",
       "              onsale_date  \n",
       "isbn                       \n",
       "9788499083209  2022-03-22  \n",
       "9788415594765  2022-04-05  \n",
       "9780553539233  2022-04-05  \n",
       "9780451419903  2022-04-26  \n",
       "9780375806131  2022-07-19  "
      ]
     },
     "execution_count": 13,
     "metadata": {},
     "output_type": "execute_result"
    }
   ],
   "source": [
    "# The newest (their selling will start soon)\n",
    "books_sorted_onsale[['title', 'onsale_date']].tail(5)"
   ]
  },
  {
   "cell_type": "markdown",
   "metadata": {
    "tags": []
   },
   "source": [
    "### Language"
   ]
  },
  {
   "cell_type": "markdown",
   "metadata": {},
   "source": [
    "The column `language` contains book languages."
   ]
  },
  {
   "cell_type": "code",
   "execution_count": 14,
   "metadata": {},
   "outputs": [
    {
     "data": {
      "text/plain": [
       "E     64232\n",
       "SP      691\n",
       "FR        2\n",
       "JA        1\n",
       "CH        1\n",
       "IT        1\n",
       "LA        1\n",
       "Name: language, dtype: int64"
      ]
     },
     "execution_count": 14,
     "metadata": {},
     "output_type": "execute_result"
    }
   ],
   "source": [
    "# There are books in different languages:\n",
    "books['language'].value_counts(dropna=False)"
   ]
  },
  {
   "cell_type": "markdown",
   "metadata": {},
   "source": [
    "The majority of books, of course, in English. Convert the language codes to their full names:"
   ]
  },
  {
   "cell_type": "code",
   "execution_count": 15,
   "metadata": {},
   "outputs": [],
   "source": [
    "languages = {\n",
    "    'E': 'English',\n",
    "    'SP': 'Spanish',\n",
    "    'FR': 'French',\n",
    "    'JA': 'Japanese',\n",
    "    'CH': 'Chinese',\n",
    "    'IT': 'Italian',\n",
    "    'LA': 'Latin',\n",
    "}\n",
    "\n",
    "books['language'].replace(languages, inplace=True)"
   ]
  },
  {
   "cell_type": "markdown",
   "metadata": {
    "tags": []
   },
   "source": [
    "### Cover"
   ]
  },
  {
   "cell_type": "markdown",
   "metadata": {},
   "source": [
    "These values are just images of book covers:"
   ]
  },
  {
   "cell_type": "code",
   "execution_count": 16,
   "metadata": {},
   "outputs": [
    {
     "data": {
      "text/html": [
       "<img src=\"https://images.randomhouse.com/cover/9780375806131\"/>"
      ],
      "text/plain": [
       "<IPython.core.display.Image object>"
      ]
     },
     "execution_count": 16,
     "metadata": {},
     "output_type": "execute_result"
    }
   ],
   "source": [
    "# Look at a random image\n",
    "Image(url=books.loc[9780375806131, 'cover'])"
   ]
  },
  {
   "cell_type": "markdown",
   "metadata": {
    "tags": []
   },
   "source": [
    "### Title"
   ]
  },
  {
   "cell_type": "markdown",
   "metadata": {},
   "source": [
    "Book titles. Check if there are missing titles:"
   ]
  },
  {
   "cell_type": "code",
   "execution_count": 17,
   "metadata": {},
   "outputs": [
    {
     "data": {
      "text/plain": [
       "False"
      ]
     },
     "execution_count": 17,
     "metadata": {},
     "output_type": "execute_result"
    }
   ],
   "source": [
    "books['title'].isna().any()"
   ]
  },
  {
   "cell_type": "markdown",
   "metadata": {
    "tags": []
   },
   "source": [
    "### Price"
   ]
  },
  {
   "cell_type": "markdown",
   "metadata": {},
   "source": [
    "The dataset contains `price` information in different currencies:"
   ]
  },
  {
   "cell_type": "code",
   "execution_count": 18,
   "metadata": {},
   "outputs": [
    {
     "data": {
      "text/plain": [
       "isbn\n",
       "9780375760686    [{'amount': 21.0, 'currencyCode': 'CAD', 'pricingType': None}, {'amount': ...\n",
       "9781605295336    [{'amount': 16.99, 'currencyCode': 'USD', 'pricingType': None}, {'amount':...\n",
       "9780771095764    [{'amount': 19.99, 'currencyCode': 'CAD', 'pricingType': None}, {'amount':...\n",
       "9780679751403    [{'amount': 17.95, 'currencyCode': 'CAD', 'pricingType': None}, {'amount':...\n",
       "9780812974874    [{'amount': 18.0, 'currencyCode': 'USD', 'pricingType': None}, {'amount': ...\n",
       "Name: price, dtype: object"
      ]
     },
     "execution_count": 18,
     "metadata": {},
     "output_type": "execute_result"
    }
   ],
   "source": [
    "books['price'].head(5)"
   ]
  },
  {
   "cell_type": "code",
   "execution_count": 19,
   "metadata": {},
   "outputs": [],
   "source": [
    "book_price = books[['price']].explode('price')"
   ]
  },
  {
   "cell_type": "markdown",
   "metadata": {},
   "source": [
    "However, there are some text NaNs:"
   ]
  },
  {
   "cell_type": "code",
   "execution_count": 20,
   "metadata": {},
   "outputs": [
    {
     "data": {
      "text/plain": [
       "True"
      ]
     },
     "execution_count": 20,
     "metadata": {},
     "output_type": "execute_result"
    }
   ],
   "source": [
    "book_price['price'].isna().any()"
   ]
  },
  {
   "cell_type": "code",
   "execution_count": 21,
   "metadata": {},
   "outputs": [
    {
     "data": {
      "text/html": [
       "<div>\n",
       "<style scoped>\n",
       "    .dataframe tbody tr th:only-of-type {\n",
       "        vertical-align: middle;\n",
       "    }\n",
       "\n",
       "    .dataframe tbody tr th {\n",
       "        vertical-align: top;\n",
       "    }\n",
       "\n",
       "    .dataframe thead th {\n",
       "        text-align: right;\n",
       "    }\n",
       "</style>\n",
       "<table border=\"1\" class=\"dataframe\">\n",
       "  <thead>\n",
       "    <tr style=\"text-align: right;\">\n",
       "      <th></th>\n",
       "      <th>isbn</th>\n",
       "      <th>amount</th>\n",
       "      <th>currencyCode</th>\n",
       "      <th>pricingType</th>\n",
       "    </tr>\n",
       "  </thead>\n",
       "  <tbody>\n",
       "    <tr>\n",
       "      <th>0</th>\n",
       "      <td>9780375760686</td>\n",
       "      <td>21.00</td>\n",
       "      <td>CAD</td>\n",
       "      <td>None</td>\n",
       "    </tr>\n",
       "    <tr>\n",
       "      <th>1</th>\n",
       "      <td>9780375760686</td>\n",
       "      <td>16.00</td>\n",
       "      <td>USD</td>\n",
       "      <td>None</td>\n",
       "    </tr>\n",
       "    <tr>\n",
       "      <th>2</th>\n",
       "      <td>9781605295336</td>\n",
       "      <td>16.99</td>\n",
       "      <td>USD</td>\n",
       "      <td>None</td>\n",
       "    </tr>\n",
       "    <tr>\n",
       "      <th>3</th>\n",
       "      <td>9781605295336</td>\n",
       "      <td>19.99</td>\n",
       "      <td>CAD</td>\n",
       "      <td>None</td>\n",
       "    </tr>\n",
       "    <tr>\n",
       "      <th>4</th>\n",
       "      <td>9780771095764</td>\n",
       "      <td>19.99</td>\n",
       "      <td>CAD</td>\n",
       "      <td>None</td>\n",
       "    </tr>\n",
       "    <tr>\n",
       "      <th>5</th>\n",
       "      <td>9780771095764</td>\n",
       "      <td>17.95</td>\n",
       "      <td>USD</td>\n",
       "      <td>None</td>\n",
       "    </tr>\n",
       "    <tr>\n",
       "      <th>6</th>\n",
       "      <td>9780679751403</td>\n",
       "      <td>17.95</td>\n",
       "      <td>CAD</td>\n",
       "      <td>None</td>\n",
       "    </tr>\n",
       "    <tr>\n",
       "      <th>7</th>\n",
       "      <td>9780679751403</td>\n",
       "      <td>15.95</td>\n",
       "      <td>USD</td>\n",
       "      <td>None</td>\n",
       "    </tr>\n",
       "    <tr>\n",
       "      <th>8</th>\n",
       "      <td>9780812974874</td>\n",
       "      <td>18.00</td>\n",
       "      <td>USD</td>\n",
       "      <td>None</td>\n",
       "    </tr>\n",
       "    <tr>\n",
       "      <th>9</th>\n",
       "      <td>9780812974874</td>\n",
       "      <td>24.00</td>\n",
       "      <td>CAD</td>\n",
       "      <td>None</td>\n",
       "    </tr>\n",
       "  </tbody>\n",
       "</table>\n",
       "</div>"
      ],
      "text/plain": [
       "            isbn  amount currencyCode pricingType\n",
       "0  9780375760686   21.00          CAD        None\n",
       "1  9780375760686   16.00          USD        None\n",
       "2  9781605295336   16.99          USD        None\n",
       "3  9781605295336   19.99          CAD        None\n",
       "4  9780771095764   19.99          CAD        None\n",
       "5  9780771095764   17.95          USD        None\n",
       "6  9780679751403   17.95          CAD        None\n",
       "7  9780679751403   15.95          USD        None\n",
       "8  9780812974874   18.00          USD        None\n",
       "9  9780812974874   24.00          CAD        None"
      ]
     },
     "execution_count": 21,
     "metadata": {},
     "output_type": "execute_result"
    }
   ],
   "source": [
    "# Drop nans and convert from dict to data frame\n",
    "book_price = book_price.dropna().reset_index()\n",
    "book_price = book_price.drop('price', axis=1)\\\n",
    "    .join(pd.DataFrame(book_price['price'].tolist()))\n",
    "book_price.head(10)"
   ]
  },
  {
   "cell_type": "code",
   "execution_count": 22,
   "metadata": {},
   "outputs": [
    {
     "data": {
      "text/plain": [
       "True"
      ]
     },
     "execution_count": 22,
     "metadata": {},
     "output_type": "execute_result"
    }
   ],
   "source": [
    "# Empty column\n",
    "book_price['pricingType'].isna().all()"
   ]
  },
  {
   "cell_type": "code",
   "execution_count": 23,
   "metadata": {},
   "outputs": [
    {
     "data": {
      "text/html": [
       "<div>\n",
       "<style scoped>\n",
       "    .dataframe tbody tr th:only-of-type {\n",
       "        vertical-align: middle;\n",
       "    }\n",
       "\n",
       "    .dataframe tbody tr th {\n",
       "        vertical-align: top;\n",
       "    }\n",
       "\n",
       "    .dataframe thead th {\n",
       "        text-align: right;\n",
       "    }\n",
       "</style>\n",
       "<table border=\"1\" class=\"dataframe\">\n",
       "  <thead>\n",
       "    <tr style=\"text-align: right;\">\n",
       "      <th>currencyCode</th>\n",
       "      <th>CAD</th>\n",
       "      <th>USD</th>\n",
       "    </tr>\n",
       "    <tr>\n",
       "      <th>isbn</th>\n",
       "      <th></th>\n",
       "      <th></th>\n",
       "    </tr>\n",
       "  </thead>\n",
       "  <tbody>\n",
       "    <tr>\n",
       "      <th>9780131872783</th>\n",
       "      <td>23.0</td>\n",
       "      <td>17.0</td>\n",
       "    </tr>\n",
       "    <tr>\n",
       "      <th>9780132157575</th>\n",
       "      <td>73.0</td>\n",
       "      <td>55.0</td>\n",
       "    </tr>\n",
       "    <tr>\n",
       "      <th>9780133036039</th>\n",
       "      <td>21.0</td>\n",
       "      <td>20.0</td>\n",
       "    </tr>\n",
       "    <tr>\n",
       "      <th>9780133102109</th>\n",
       "      <td>29.0</td>\n",
       "      <td>25.0</td>\n",
       "    </tr>\n",
       "    <tr>\n",
       "      <th>9780135853986</th>\n",
       "      <td>23.0</td>\n",
       "      <td>17.0</td>\n",
       "    </tr>\n",
       "  </tbody>\n",
       "</table>\n",
       "</div>"
      ],
      "text/plain": [
       "currencyCode    CAD   USD\n",
       "isbn                     \n",
       "9780131872783  23.0  17.0\n",
       "9780132157575  73.0  55.0\n",
       "9780133036039  21.0  20.0\n",
       "9780133102109  29.0  25.0\n",
       "9780135853986  23.0  17.0"
      ]
     },
     "execution_count": 23,
     "metadata": {},
     "output_type": "execute_result"
    }
   ],
   "source": [
    "# Get pivot table with prices in different currencies\n",
    "book_price = book_price.pivot(index='isbn', columns='currencyCode',\n",
    "                              values='amount')\n",
    "book_price.head(5)"
   ]
  },
  {
   "cell_type": "code",
   "execution_count": 24,
   "metadata": {},
   "outputs": [
    {
     "data": {
      "text/plain": [
       "False"
      ]
     },
     "execution_count": 24,
     "metadata": {},
     "output_type": "execute_result"
    }
   ],
   "source": [
    "# All USD values are present\n",
    "book_price['USD'].isna().any()"
   ]
  },
  {
   "cell_type": "code",
   "execution_count": 25,
   "metadata": {},
   "outputs": [],
   "source": [
    "# Join prices with the main dataset\n",
    "# Keep only USD\n",
    "books = books.join(book_price[['USD']])\n",
    "\n",
    "# Drop the old column with price\n",
    "books.drop(columns=['price'], inplace=True)\n",
    "\n",
    "# Rename USD to price \n",
    "books.rename(columns={'USD': 'price'}, inplace=True)"
   ]
  },
  {
   "cell_type": "code",
   "execution_count": 26,
   "metadata": {},
   "outputs": [
    {
     "data": {
      "text/plain": [
       "count    64920.000000\n",
       "mean        15.293190\n",
       "std          8.766339\n",
       "min          0.990000\n",
       "25%          8.990000\n",
       "50%         15.000000\n",
       "75%         18.000000\n",
       "max        429.790000\n",
       "Name: price, dtype: float64"
      ]
     },
     "execution_count": 26,
     "metadata": {},
     "output_type": "execute_result"
    }
   ],
   "source": [
    "# Show the distribution of the prices\n",
    "books['price'].describe()"
   ]
  },
  {
   "cell_type": "code",
   "execution_count": 27,
   "metadata": {},
   "outputs": [
    {
     "data": {
      "image/png": "[encoded data removed]",
      "text/plain": [
       "<Figure size 720x576 with 1 Axes>"
      ]
     },
     "metadata": {},
     "output_type": "display_data"
    }
   ],
   "source": [
    "# Show the distribution of the prices\n",
    "_, ax = plt.subplots(figsize=(10, 8))\n",
    "sns.histplot(x=books['price'], bins=100,\n",
    "             palette=sns_palette, ax=ax)\n",
    "ax.set_xlim(0, 75)\n",
    "ax.set_ylabel('Number of books')\n",
    "ax.set_xlabel('Price')\n",
    "ax.set_title('Distribution of book prices in USD')\n",
    "plt.show()"
   ]
  },
  {
   "cell_type": "code",
   "execution_count": 28,
   "metadata": {},
   "outputs": [
    {
     "data": {
      "text/html": [
       "<div>\n",
       "<style scoped>\n",
       "    .dataframe tbody tr th:only-of-type {\n",
       "        vertical-align: middle;\n",
       "    }\n",
       "\n",
       "    .dataframe tbody tr th {\n",
       "        vertical-align: top;\n",
       "    }\n",
       "\n",
       "    .dataframe thead th {\n",
       "        text-align: right;\n",
       "    }\n",
       "</style>\n",
       "<table border=\"1\" class=\"dataframe\">\n",
       "  <thead>\n",
       "    <tr style=\"text-align: right;\">\n",
       "      <th></th>\n",
       "      <th>title</th>\n",
       "      <th>price</th>\n",
       "    </tr>\n",
       "    <tr>\n",
       "      <th>isbn</th>\n",
       "      <th></th>\n",
       "      <th></th>\n",
       "    </tr>\n",
       "  </thead>\n",
       "  <tbody>\n",
       "    <tr>\n",
       "      <th>9780739352243</th>\n",
       "      <td>Harry Potter 1-7 Audio Collection</td>\n",
       "      <td>429.79</td>\n",
       "    </tr>\n",
       "    <tr>\n",
       "      <th>9780739352960</th>\n",
       "      <td>George R. R. Martin Song of Ice and Fire Audiobook Bundle</td>\n",
       "      <td>340.00</td>\n",
       "    </tr>\n",
       "    <tr>\n",
       "      <th>9780385537933</th>\n",
       "      <td>Sycamore Row - Limited Edition</td>\n",
       "      <td>250.00</td>\n",
       "    </tr>\n",
       "    <tr>\n",
       "      <th>9780385510448</th>\n",
       "      <td>The Last Juror (Limited Edition)</td>\n",
       "      <td>250.00</td>\n",
       "    </tr>\n",
       "    <tr>\n",
       "      <th>9780385503839</th>\n",
       "      <td>The Summons (Limited Edition)</td>\n",
       "      <td>250.00</td>\n",
       "    </tr>\n",
       "    <tr>\n",
       "      <th>9780385351478</th>\n",
       "      <td>Robert A. Caro's The Years of Lyndon Johnson Set</td>\n",
       "      <td>224.95</td>\n",
       "    </tr>\n",
       "    <tr>\n",
       "      <th>9780307700766</th>\n",
       "      <td>The Decline and Fall of the Roman Empire, Volumes 1 to 6</td>\n",
       "      <td>180.00</td>\n",
       "    </tr>\n",
       "    <tr>\n",
       "      <th>9780723257639</th>\n",
       "      <td>The Original Peter Rabbit Presentation Box 1-23 R/I</td>\n",
       "      <td>170.00</td>\n",
       "    </tr>\n",
       "    <tr>\n",
       "      <th>9781401234591</th>\n",
       "      <td>The Invisibles Omnibus</td>\n",
       "      <td>150.00</td>\n",
       "    </tr>\n",
       "    <tr>\n",
       "      <th>9781401255305</th>\n",
       "      <td>JSA Omnibus Vol. 3</td>\n",
       "      <td>150.00</td>\n",
       "    </tr>\n",
       "  </tbody>\n",
       "</table>\n",
       "</div>"
      ],
      "text/plain": [
       "                                                                   title  \\\n",
       "isbn                                                                       \n",
       "9780739352243                          Harry Potter 1-7 Audio Collection   \n",
       "9780739352960  George R. R. Martin Song of Ice and Fire Audiobook Bundle   \n",
       "9780385537933                             Sycamore Row - Limited Edition   \n",
       "9780385510448                           The Last Juror (Limited Edition)   \n",
       "9780385503839                              The Summons (Limited Edition)   \n",
       "9780385351478           Robert A. Caro's The Years of Lyndon Johnson Set   \n",
       "9780307700766   The Decline and Fall of the Roman Empire, Volumes 1 to 6   \n",
       "9780723257639        The Original Peter Rabbit Presentation Box 1-23 R/I   \n",
       "9781401234591                                     The Invisibles Omnibus   \n",
       "9781401255305                                         JSA Omnibus Vol. 3   \n",
       "\n",
       "                price  \n",
       "isbn                   \n",
       "9780739352243  429.79  \n",
       "9780739352960  340.00  \n",
       "9780385537933  250.00  \n",
       "9780385510448  250.00  \n",
       "9780385503839  250.00  \n",
       "9780385351478  224.95  \n",
       "9780307700766  180.00  \n",
       "9780723257639  170.00  \n",
       "9781401234591  150.00  \n",
       "9781401255305  150.00  "
      ]
     },
     "execution_count": 28,
     "metadata": {},
     "output_type": "execute_result"
    }
   ],
   "source": [
    "# Show the most expensive books\n",
    "books_price_sorted = books.sort_values(['price'], ascending=False)\n",
    "books_price_sorted[['title', 'price']].head(10)"
   ]
  },
  {
   "cell_type": "markdown",
   "metadata": {
    "tags": []
   },
   "source": [
    "### Format"
   ]
  },
  {
   "cell_type": "markdown",
   "metadata": {},
   "source": [
    "Here, there are several book formats:"
   ]
  },
  {
   "cell_type": "code",
   "execution_count": 29,
   "metadata": {},
   "outputs": [
    {
     "data": {
      "text/plain": [
       "Paperback      41043\n",
       "Ebook          10501\n",
       "Hardcover       9645\n",
       "Audio           2854\n",
       "Board Book       653\n",
       "Merchandise      122\n",
       "Boxed Set        111\n",
       "Name: format_family, dtype: int64"
      ]
     },
     "execution_count": 29,
     "metadata": {},
     "output_type": "execute_result"
    }
   ],
   "source": [
    "books['format_family'].value_counts(dropna=False)"
   ]
  },
  {
   "cell_type": "markdown",
   "metadata": {},
   "source": [
    "They are already well written. There is nothing to improve here, just to rename:"
   ]
  },
  {
   "cell_type": "code",
   "execution_count": 30,
   "metadata": {},
   "outputs": [],
   "source": [
    "books.rename(columns={'format_family': 'format'}, inplace=True)"
   ]
  },
  {
   "cell_type": "markdown",
   "metadata": {
    "tags": []
   },
   "source": [
    "### Pages and Minutes"
   ]
  },
  {
   "cell_type": "markdown",
   "metadata": {},
   "source": [
    "There are two columns considering length of book: pages and projected_minutes (for audiobooks):"
   ]
  },
  {
   "cell_type": "code",
   "execution_count": 31,
   "metadata": {},
   "outputs": [
    {
     "data": {
      "text/html": [
       "<div>\n",
       "<style scoped>\n",
       "    .dataframe tbody tr th:only-of-type {\n",
       "        vertical-align: middle;\n",
       "    }\n",
       "\n",
       "    .dataframe tbody tr th {\n",
       "        vertical-align: top;\n",
       "    }\n",
       "\n",
       "    .dataframe thead th {\n",
       "        text-align: right;\n",
       "    }\n",
       "</style>\n",
       "<table border=\"1\" class=\"dataframe\">\n",
       "  <thead>\n",
       "    <tr style=\"text-align: right;\">\n",
       "      <th></th>\n",
       "      <th>pages</th>\n",
       "      <th>projected_minutes</th>\n",
       "      <th>format</th>\n",
       "    </tr>\n",
       "    <tr>\n",
       "      <th>isbn</th>\n",
       "      <th></th>\n",
       "      <th></th>\n",
       "      <th></th>\n",
       "    </tr>\n",
       "  </thead>\n",
       "  <tbody>\n",
       "    <tr>\n",
       "      <th>9780375760686</th>\n",
       "      <td>352.0</td>\n",
       "      <td>NaN</td>\n",
       "      <td>Paperback</td>\n",
       "    </tr>\n",
       "    <tr>\n",
       "      <th>9781605295336</th>\n",
       "      <td>400.0</td>\n",
       "      <td>NaN</td>\n",
       "      <td>Paperback</td>\n",
       "    </tr>\n",
       "    <tr>\n",
       "      <th>9780771095764</th>\n",
       "      <td>336.0</td>\n",
       "      <td>NaN</td>\n",
       "      <td>Paperback</td>\n",
       "    </tr>\n",
       "    <tr>\n",
       "      <th>9780679751403</th>\n",
       "      <td>224.0</td>\n",
       "      <td>NaN</td>\n",
       "      <td>Paperback</td>\n",
       "    </tr>\n",
       "    <tr>\n",
       "      <th>9780812974874</th>\n",
       "      <td>320.0</td>\n",
       "      <td>NaN</td>\n",
       "      <td>Paperback</td>\n",
       "    </tr>\n",
       "  </tbody>\n",
       "</table>\n",
       "</div>"
      ],
      "text/plain": [
       "               pages  projected_minutes     format\n",
       "isbn                                              \n",
       "9780375760686  352.0                NaN  Paperback\n",
       "9781605295336  400.0                NaN  Paperback\n",
       "9780771095764  336.0                NaN  Paperback\n",
       "9780679751403  224.0                NaN  Paperback\n",
       "9780812974874  320.0                NaN  Paperback"
      ]
     },
     "execution_count": 31,
     "metadata": {},
     "output_type": "execute_result"
    }
   ],
   "source": [
    "books[['pages', 'projected_minutes', 'format']].head()"
   ]
  },
  {
   "cell_type": "code",
   "execution_count": 32,
   "metadata": {},
   "outputs": [],
   "source": [
    "audio_mask = books['format'] == 'Audio'\n",
    "audio_books = books.loc[audio_mask, ['title', 'pages', 'projected_minutes']]\n",
    "nonaudio_books = books.loc[~audio_mask, ['title', 'pages', 'projected_minutes']]"
   ]
  },
  {
   "cell_type": "code",
   "execution_count": 33,
   "metadata": {},
   "outputs": [
    {
     "data": {
      "text/plain": [
       "True"
      ]
     },
     "execution_count": 33,
     "metadata": {},
     "output_type": "execute_result"
    }
   ],
   "source": [
    "# There are NaNs\n",
    "audio_books['projected_minutes'].isna().any()"
   ]
  },
  {
   "cell_type": "code",
   "execution_count": 34,
   "metadata": {},
   "outputs": [
    {
     "data": {
      "text/plain": [
       "True"
      ]
     },
     "execution_count": 34,
     "metadata": {},
     "output_type": "execute_result"
    }
   ],
   "source": [
    "# There are NaNs\n",
    "nonaudio_books['pages'].isna().any()"
   ]
  },
  {
   "cell_type": "code",
   "execution_count": 35,
   "metadata": {},
   "outputs": [
    {
     "data": {
      "text/plain": [
       "True"
      ]
     },
     "execution_count": 35,
     "metadata": {},
     "output_type": "execute_result"
    }
   ],
   "source": [
    "# Prove that audiobooks have no pages\n",
    "audio_books['pages'].isna().all()"
   ]
  },
  {
   "cell_type": "code",
   "execution_count": 36,
   "metadata": {},
   "outputs": [
    {
     "data": {
      "text/plain": [
       "True"
      ]
     },
     "execution_count": 36,
     "metadata": {},
     "output_type": "execute_result"
    }
   ],
   "source": [
    "# Prove that non-audio books have no minutes\n",
    "nonaudio_books['projected_minutes'].isna().all()"
   ]
  },
  {
   "cell_type": "code",
   "execution_count": 37,
   "metadata": {},
   "outputs": [
    {
     "data": {
      "text/html": [
       "<div>\n",
       "<style scoped>\n",
       "    .dataframe tbody tr th:only-of-type {\n",
       "        vertical-align: middle;\n",
       "    }\n",
       "\n",
       "    .dataframe tbody tr th {\n",
       "        vertical-align: top;\n",
       "    }\n",
       "\n",
       "    .dataframe thead th {\n",
       "        text-align: right;\n",
       "    }\n",
       "</style>\n",
       "<table border=\"1\" class=\"dataframe\">\n",
       "  <thead>\n",
       "    <tr style=\"text-align: right;\">\n",
       "      <th></th>\n",
       "      <th>title</th>\n",
       "      <th>pages</th>\n",
       "      <th>projected_minutes</th>\n",
       "    </tr>\n",
       "    <tr>\n",
       "      <th>isbn</th>\n",
       "      <th></th>\n",
       "      <th></th>\n",
       "      <th></th>\n",
       "    </tr>\n",
       "  </thead>\n",
       "  <tbody>\n",
       "    <tr>\n",
       "      <th>9780345544742</th>\n",
       "      <td>The Complete Vampire Chronicles 12-Book Bundle</td>\n",
       "      <td>5392.0</td>\n",
       "      <td>NaN</td>\n",
       "    </tr>\n",
       "    <tr>\n",
       "      <th>9781101965481</th>\n",
       "      <td>George R. R. Martin's A Game of Thrones Leather-Cloth Boxed Set (Song of I...</td>\n",
       "      <td>5280.0</td>\n",
       "      <td>NaN</td>\n",
       "    </tr>\n",
       "    <tr>\n",
       "      <th>9780345535535</th>\n",
       "      <td>George R. R. Martin's A Game of Thrones 5-Book Boxed Set (Song of Ice and ...</td>\n",
       "      <td>5216.0</td>\n",
       "      <td>NaN</td>\n",
       "    </tr>\n",
       "    <tr>\n",
       "      <th>9780141398877</th>\n",
       "      <td>Little Black Classics Box Set</td>\n",
       "      <td>5120.0</td>\n",
       "      <td>NaN</td>\n",
       "    </tr>\n",
       "    <tr>\n",
       "      <th>9780345546005</th>\n",
       "      <td>The Earth's Children Series 6-Book Bundle</td>\n",
       "      <td>4528.0</td>\n",
       "      <td>NaN</td>\n",
       "    </tr>\n",
       "    <tr>\n",
       "      <th>9780307700766</th>\n",
       "      <td>The Decline and Fall of the Roman Empire, Volumes 1 to 6</td>\n",
       "      <td>3980.0</td>\n",
       "      <td>NaN</td>\n",
       "    </tr>\n",
       "    <tr>\n",
       "      <th>9780804180740</th>\n",
       "      <td>The Will Trent Series 7-Book Bundle</td>\n",
       "      <td>3824.0</td>\n",
       "      <td>NaN</td>\n",
       "    </tr>\n",
       "    <tr>\n",
       "      <th>9780141198415</th>\n",
       "      <td>Major Works of Charles Dickens (Penguin Classics hardcover boxed set)</td>\n",
       "      <td>3488.0</td>\n",
       "      <td>NaN</td>\n",
       "    </tr>\n",
       "    <tr>\n",
       "      <th>9780307930675</th>\n",
       "      <td>The Inheritance Cycle 4-Book Hard Cover Boxed Set</td>\n",
       "      <td>2912.0</td>\n",
       "      <td>NaN</td>\n",
       "    </tr>\n",
       "    <tr>\n",
       "      <th>9780345538260</th>\n",
       "      <td>The Highlander Series 7-Book Bundle</td>\n",
       "      <td>2816.0</td>\n",
       "      <td>NaN</td>\n",
       "    </tr>\n",
       "  </tbody>\n",
       "</table>\n",
       "</div>"
      ],
      "text/plain": [
       "                                                                                       title  \\\n",
       "isbn                                                                                           \n",
       "9780345544742                                 The Complete Vampire Chronicles 12-Book Bundle   \n",
       "9781101965481  George R. R. Martin's A Game of Thrones Leather-Cloth Boxed Set (Song of I...   \n",
       "9780345535535  George R. R. Martin's A Game of Thrones 5-Book Boxed Set (Song of Ice and ...   \n",
       "9780141398877                                                  Little Black Classics Box Set   \n",
       "9780345546005                                      The Earth's Children Series 6-Book Bundle   \n",
       "9780307700766                       The Decline and Fall of the Roman Empire, Volumes 1 to 6   \n",
       "9780804180740                                            The Will Trent Series 7-Book Bundle   \n",
       "9780141198415          Major Works of Charles Dickens (Penguin Classics hardcover boxed set)   \n",
       "9780307930675                              The Inheritance Cycle 4-Book Hard Cover Boxed Set   \n",
       "9780345538260                                            The Highlander Series 7-Book Bundle   \n",
       "\n",
       "                pages  projected_minutes  \n",
       "isbn                                      \n",
       "9780345544742  5392.0                NaN  \n",
       "9781101965481  5280.0                NaN  \n",
       "9780345535535  5216.0                NaN  \n",
       "9780141398877  5120.0                NaN  \n",
       "9780345546005  4528.0                NaN  \n",
       "9780307700766  3980.0                NaN  \n",
       "9780804180740  3824.0                NaN  \n",
       "9780141198415  3488.0                NaN  \n",
       "9780307930675  2912.0                NaN  \n",
       "9780345538260  2816.0                NaN  "
      ]
     },
     "execution_count": 37,
     "metadata": {},
     "output_type": "execute_result"
    }
   ],
   "source": [
    "# Show the longest non-audio books\n",
    "nonaudio_books.sort_values('pages', ascending=False).head(10)"
   ]
  },
  {
   "cell_type": "code",
   "execution_count": 38,
   "metadata": {},
   "outputs": [
    {
     "data": {
      "text/html": [
       "<div>\n",
       "<style scoped>\n",
       "    .dataframe tbody tr th:only-of-type {\n",
       "        vertical-align: middle;\n",
       "    }\n",
       "\n",
       "    .dataframe tbody tr th {\n",
       "        vertical-align: top;\n",
       "    }\n",
       "\n",
       "    .dataframe thead th {\n",
       "        text-align: right;\n",
       "    }\n",
       "</style>\n",
       "<table border=\"1\" class=\"dataframe\">\n",
       "  <thead>\n",
       "    <tr style=\"text-align: right;\">\n",
       "      <th></th>\n",
       "      <th>title</th>\n",
       "      <th>pages</th>\n",
       "      <th>projected_minutes</th>\n",
       "    </tr>\n",
       "    <tr>\n",
       "      <th>isbn</th>\n",
       "      <th></th>\n",
       "      <th></th>\n",
       "      <th></th>\n",
       "    </tr>\n",
       "  </thead>\n",
       "  <tbody>\n",
       "    <tr>\n",
       "      <th>9780307914187</th>\n",
       "      <td>The Power Broker</td>\n",
       "      <td>NaN</td>\n",
       "      <td>3967.0</td>\n",
       "    </tr>\n",
       "    <tr>\n",
       "      <th>9780739375976</th>\n",
       "      <td>A Dance with Dragons</td>\n",
       "      <td>NaN</td>\n",
       "      <td>2940.0</td>\n",
       "    </tr>\n",
       "    <tr>\n",
       "      <th>9780739375983</th>\n",
       "      <td>A Dance with Dragons</td>\n",
       "      <td>NaN</td>\n",
       "      <td>2935.0</td>\n",
       "    </tr>\n",
       "    <tr>\n",
       "      <th>9780739308738</th>\n",
       "      <td>A Storm of Swords</td>\n",
       "      <td>NaN</td>\n",
       "      <td>2854.0</td>\n",
       "    </tr>\n",
       "    <tr>\n",
       "      <th>9780449011904</th>\n",
       "      <td>A Storm of Swords</td>\n",
       "      <td>NaN</td>\n",
       "      <td>2850.0</td>\n",
       "    </tr>\n",
       "    <tr>\n",
       "      <th>9780804164818</th>\n",
       "      <td>Tune In</td>\n",
       "      <td>NaN</td>\n",
       "      <td>2625.0</td>\n",
       "    </tr>\n",
       "    <tr>\n",
       "      <th>9781101436875</th>\n",
       "      <td>Washington</td>\n",
       "      <td>NaN</td>\n",
       "      <td>2510.0</td>\n",
       "    </tr>\n",
       "    <tr>\n",
       "      <th>9781415936245</th>\n",
       "      <td>The Autobiography of Henry VIII</td>\n",
       "      <td>NaN</td>\n",
       "      <td>2478.0</td>\n",
       "    </tr>\n",
       "    <tr>\n",
       "      <th>9780307576606</th>\n",
       "      <td>Defend the Realm</td>\n",
       "      <td>NaN</td>\n",
       "      <td>2378.0</td>\n",
       "    </tr>\n",
       "    <tr>\n",
       "      <th>9781101912812</th>\n",
       "      <td>Assassin's Fate</td>\n",
       "      <td>NaN</td>\n",
       "      <td>2356.0</td>\n",
       "    </tr>\n",
       "  </tbody>\n",
       "</table>\n",
       "</div>"
      ],
      "text/plain": [
       "                                         title  pages  projected_minutes\n",
       "isbn                                                                    \n",
       "9780307914187                 The Power Broker    NaN             3967.0\n",
       "9780739375976             A Dance with Dragons    NaN             2940.0\n",
       "9780739375983             A Dance with Dragons    NaN             2935.0\n",
       "9780739308738                A Storm of Swords    NaN             2854.0\n",
       "9780449011904                A Storm of Swords    NaN             2850.0\n",
       "9780804164818                          Tune In    NaN             2625.0\n",
       "9781101436875                       Washington    NaN             2510.0\n",
       "9781415936245  The Autobiography of Henry VIII    NaN             2478.0\n",
       "9780307576606                 Defend the Realm    NaN             2378.0\n",
       "9781101912812                  Assassin's Fate    NaN             2356.0"
      ]
     },
     "execution_count": 38,
     "metadata": {},
     "output_type": "execute_result"
    }
   ],
   "source": [
    "# Show the longest audiobooks\n",
    "audio_books.sort_values('projected_minutes', ascending=False).head(10)"
   ]
  },
  {
   "cell_type": "markdown",
   "metadata": {
    "tags": []
   },
   "source": [
    "### Flapcopy and Excerpt"
   ]
  },
  {
   "cell_type": "markdown",
   "metadata": {},
   "source": [
    "There are several columns with text description:\n",
    "\n",
    "- `flapcopy`, the brief summary that often appears on the inside of a hardcover book's dust jacket.\n",
    "- `excerpt`, a fragment from the book."
   ]
  },
  {
   "cell_type": "code",
   "execution_count": 39,
   "metadata": {},
   "outputs": [
    {
     "data": {
      "text/html": [
       "<div>\n",
       "<style scoped>\n",
       "    .dataframe tbody tr th:only-of-type {\n",
       "        vertical-align: middle;\n",
       "    }\n",
       "\n",
       "    .dataframe tbody tr th {\n",
       "        vertical-align: top;\n",
       "    }\n",
       "\n",
       "    .dataframe thead th {\n",
       "        text-align: right;\n",
       "    }\n",
       "</style>\n",
       "<table border=\"1\" class=\"dataframe\">\n",
       "  <thead>\n",
       "    <tr style=\"text-align: right;\">\n",
       "      <th></th>\n",
       "      <th>flapcopy</th>\n",
       "      <th>excerpt</th>\n",
       "    </tr>\n",
       "    <tr>\n",
       "      <th>isbn</th>\n",
       "      <th></th>\n",
       "      <th></th>\n",
       "    </tr>\n",
       "  </thead>\n",
       "  <tbody>\n",
       "    <tr>\n",
       "      <th>9780375760686</th>\n",
       "      <td>Following the tremendous success of her first book, a nonfiction work on h...</td>\n",
       "      <td>&lt;b&gt;1&lt;/b&gt;&lt;br&gt;&lt;br&gt;This neighborhood was always middle-class and urban. The a...</td>\n",
       "    </tr>\n",
       "    <tr>\n",
       "      <th>9781605295336</th>\n",
       "      <td>For more than 40 years, &lt;i&gt;Runner's World &lt;/i&gt;magazine has been the world'...</td>\n",
       "      <td>None</td>\n",
       "    </tr>\n",
       "    <tr>\n",
       "      <th>9780771095764</th>\n",
       "      <td>&lt;b&gt;Named NOW Magazine&amp;rsquo;s Best Emerging Local Author &lt;br&gt;&lt;br&gt;&lt;br&gt;Where...</td>\n",
       "      <td>&lt;b&gt;Excerpt from Chapter 3:&lt;br&gt;&lt;/b&gt;&lt;br&gt;Wednesday after school, Mom and I to...</td>\n",
       "    </tr>\n",
       "    <tr>\n",
       "      <th>9780679751403</th>\n",
       "      <td>In an astonishing feat of literary detection, one of the most provocative ...</td>\n",
       "      <td>None</td>\n",
       "    </tr>\n",
       "    <tr>\n",
       "      <th>9780812974874</th>\n",
       "      <td>&lt;b&gt;&lt;i&gt;New Yorker &lt;/i&gt;writer and author of &lt;i&gt;The Library Book&lt;/i&gt; takes re...</td>\n",
       "      <td>Lifelike&lt;br&gt;&lt;br&gt; As soon as the 2003 World Taxidermy Championships opened,...</td>\n",
       "    </tr>\n",
       "  </tbody>\n",
       "</table>\n",
       "</div>"
      ],
      "text/plain": [
       "                                                                                    flapcopy  \\\n",
       "isbn                                                                                           \n",
       "9780375760686  Following the tremendous success of her first book, a nonfiction work on h...   \n",
       "9781605295336  For more than 40 years, <i>Runner's World </i>magazine has been the world'...   \n",
       "9780771095764  <b>Named NOW Magazine&rsquo;s Best Emerging Local Author <br><br><br>Where...   \n",
       "9780679751403  In an astonishing feat of literary detection, one of the most provocative ...   \n",
       "9780812974874  <b><i>New Yorker </i>writer and author of <i>The Library Book</i> takes re...   \n",
       "\n",
       "                                                                                     excerpt  \n",
       "isbn                                                                                          \n",
       "9780375760686  <b>1</b><br><br>This neighborhood was always middle-class and urban. The a...  \n",
       "9781605295336                                                                           None  \n",
       "9780771095764  <b>Excerpt from Chapter 3:<br></b><br>Wednesday after school, Mom and I to...  \n",
       "9780679751403                                                                           None  \n",
       "9780812974874  Lifelike<br><br> As soon as the 2003 World Taxidermy Championships opened,...  "
      ]
     },
     "execution_count": 39,
     "metadata": {},
     "output_type": "execute_result"
    }
   ],
   "source": [
    "books[['flapcopy', 'excerpt']].head(5)"
   ]
  },
  {
   "cell_type": "markdown",
   "metadata": {},
   "source": [
    "The values contain a lot of HTML tags. Let's remove them:"
   ]
  },
  {
   "cell_type": "code",
   "execution_count": 40,
   "metadata": {},
   "outputs": [],
   "source": [
    "def clean_text(text: str) -> str:\n",
    "    \"\"\"Clean text from HTML tags.\"\"\"\n",
    "    return BeautifulSoup(text, 'lxml').getText()\\\n",
    "        .replace(u'\\xa0', ' ').strip()\n",
    "\n",
    "\n",
    "for col in ['flapcopy', 'excerpt']:\n",
    "    nans = books[col].isna()\n",
    "    books.loc[~nans, col] = books.loc[~nans, col].apply(clean_text)"
   ]
  },
  {
   "cell_type": "code",
   "execution_count": 41,
   "metadata": {},
   "outputs": [
    {
     "name": "stdout",
     "output_type": "stream",
     "text": [
      "0% of column flapcopy are absent.\n",
      "56% of column excerpt are absent.\n"
     ]
    }
   ],
   "source": [
    "# Show how many descriptions are absent\n",
    "for col in ['flapcopy', 'excerpt']:\n",
    "    nans_count = books[col].isna().sum()\n",
    "    print(f'{round(100 * nans_count / len(books))}% of column {col} are absent.')"
   ]
  },
  {
   "cell_type": "markdown",
   "metadata": {
    "tags": []
   },
   "source": [
    "### Publisher"
   ]
  },
  {
   "cell_type": "markdown",
   "metadata": {},
   "source": [
    "The column contains book publishers."
   ]
  },
  {
   "cell_type": "code",
   "execution_count": 42,
   "metadata": {},
   "outputs": [
    {
     "data": {
      "text/plain": [
       "isbn\n",
       "9780375760686       {'code': '7070', 'description': 'Random House Publishing Group'}\n",
       "9781605295336                      {'code': '5H5H', 'description': 'Harmony/Rodale'}\n",
       "9780771095764                {'code': '4747', 'description': 'McClelland & Stewart'}\n",
       "9780679751403    {'code': '7373', 'description': 'Knopf Doubleday Publishing Group'}\n",
       "9780812974874       {'code': '7070', 'description': 'Random House Publishing Group'}\n",
       "Name: publisher, dtype: object"
      ]
     },
     "execution_count": 42,
     "metadata": {},
     "output_type": "execute_result"
    }
   ],
   "source": [
    "books['publisher'].head(5)"
   ]
  },
  {
   "cell_type": "code",
   "execution_count": 43,
   "metadata": {},
   "outputs": [
    {
     "data": {
      "text/html": [
       "<div>\n",
       "<style scoped>\n",
       "    .dataframe tbody tr th:only-of-type {\n",
       "        vertical-align: middle;\n",
       "    }\n",
       "\n",
       "    .dataframe tbody tr th {\n",
       "        vertical-align: top;\n",
       "    }\n",
       "\n",
       "    .dataframe thead th {\n",
       "        text-align: right;\n",
       "    }\n",
       "</style>\n",
       "<table border=\"1\" class=\"dataframe\">\n",
       "  <thead>\n",
       "    <tr style=\"text-align: right;\">\n",
       "      <th></th>\n",
       "      <th>code</th>\n",
       "      <th>description</th>\n",
       "    </tr>\n",
       "    <tr>\n",
       "      <th>isbn</th>\n",
       "      <th></th>\n",
       "      <th></th>\n",
       "    </tr>\n",
       "  </thead>\n",
       "  <tbody>\n",
       "    <tr>\n",
       "      <th>9780375760686</th>\n",
       "      <td>7070</td>\n",
       "      <td>Random House Publishing Group</td>\n",
       "    </tr>\n",
       "    <tr>\n",
       "      <th>9781605295336</th>\n",
       "      <td>5H5H</td>\n",
       "      <td>Harmony/Rodale</td>\n",
       "    </tr>\n",
       "    <tr>\n",
       "      <th>9780771095764</th>\n",
       "      <td>4747</td>\n",
       "      <td>McClelland &amp; Stewart</td>\n",
       "    </tr>\n",
       "    <tr>\n",
       "      <th>9780679751403</th>\n",
       "      <td>7373</td>\n",
       "      <td>Knopf Doubleday Publishing Group</td>\n",
       "    </tr>\n",
       "    <tr>\n",
       "      <th>9780812974874</th>\n",
       "      <td>7070</td>\n",
       "      <td>Random House Publishing Group</td>\n",
       "    </tr>\n",
       "  </tbody>\n",
       "</table>\n",
       "</div>"
      ],
      "text/plain": [
       "               code                       description\n",
       "isbn                                                 \n",
       "9780375760686  7070     Random House Publishing Group\n",
       "9781605295336  5H5H                    Harmony/Rodale\n",
       "9780771095764  4747              McClelland & Stewart\n",
       "9780679751403  7373  Knopf Doubleday Publishing Group\n",
       "9780812974874  7070     Random House Publishing Group"
      ]
     },
     "execution_count": 43,
     "metadata": {},
     "output_type": "execute_result"
    }
   ],
   "source": [
    "# Parse dicts\n",
    "book_publisher = books[['publisher']].dropna().reset_index()\n",
    "book_publisher = book_publisher.drop('publisher', axis=1)\\\n",
    "    .join(pd.DataFrame(book_publisher['publisher'].tolist()))\n",
    "book_publisher.set_index('isbn', inplace=True)\n",
    "book_publisher.head(5)"
   ]
  },
  {
   "cell_type": "code",
   "execution_count": 44,
   "metadata": {},
   "outputs": [
    {
     "data": {
      "text/plain": [
       "code           False\n",
       "description    False\n",
       "dtype: bool"
      ]
     },
     "execution_count": 44,
     "metadata": {},
     "output_type": "execute_result"
    }
   ],
   "source": [
    "# If there are any NaNs\n",
    "book_publisher.isna().any()"
   ]
  },
  {
   "cell_type": "code",
   "execution_count": 45,
   "metadata": {},
   "outputs": [
    {
     "data": {
      "text/plain": [
       "Penguin Publishing Group                       16007\n",
       "Random House Publishing Group                  10563\n",
       "Knopf Doubleday Publishing Group                6970\n",
       "Penguin Young Readers Group                     3860\n",
       "Random House Children's Books                   3676\n",
       "Penguin Random House Audio Publishing Group     2826\n",
       "Crown                                           1810\n",
       "Candlewick Press                                1526\n",
       "Clarkson Potter/Ten Speed                       1177\n",
       "The Crown Publishing Group                      1060\n",
       "Name: description, dtype: int64"
      ]
     },
     "execution_count": 45,
     "metadata": {},
     "output_type": "execute_result"
    }
   ],
   "source": [
    "# The most frequent publishers\n",
    "book_publisher['description'].value_counts().head(10)"
   ]
  },
  {
   "cell_type": "code",
   "execution_count": 46,
   "metadata": {},
   "outputs": [],
   "source": [
    "# Join parsed publishers with the main dataframe\n",
    "# Keep only publisher's code\n",
    "books = books.join(book_publisher[['code']])\n",
    "\n",
    "# Drop the old column with publishers\n",
    "books.drop(columns=['publisher'], inplace=True)\n",
    "\n",
    "# Rename publisher code to publisher_id \n",
    "books.rename(columns={'code': 'publisher_id'}, inplace=True)"
   ]
  },
  {
   "cell_type": "code",
   "execution_count": 47,
   "metadata": {},
   "outputs": [
    {
     "data": {
      "text/html": [
       "<div>\n",
       "<style scoped>\n",
       "    .dataframe tbody tr th:only-of-type {\n",
       "        vertical-align: middle;\n",
       "    }\n",
       "\n",
       "    .dataframe tbody tr th {\n",
       "        vertical-align: top;\n",
       "    }\n",
       "\n",
       "    .dataframe thead th {\n",
       "        text-align: right;\n",
       "    }\n",
       "</style>\n",
       "<table border=\"1\" class=\"dataframe\">\n",
       "  <thead>\n",
       "    <tr style=\"text-align: right;\">\n",
       "      <th></th>\n",
       "      <th>name</th>\n",
       "    </tr>\n",
       "    <tr>\n",
       "      <th>publisher_id</th>\n",
       "      <th></th>\n",
       "    </tr>\n",
       "  </thead>\n",
       "  <tbody>\n",
       "    <tr>\n",
       "      <th>7070</th>\n",
       "      <td>Random House Publishing Group</td>\n",
       "    </tr>\n",
       "    <tr>\n",
       "      <th>5H5H</th>\n",
       "      <td>Harmony/Rodale</td>\n",
       "    </tr>\n",
       "    <tr>\n",
       "      <th>4747</th>\n",
       "      <td>McClelland &amp; Stewart</td>\n",
       "    </tr>\n",
       "    <tr>\n",
       "      <th>7373</th>\n",
       "      <td>Knopf Doubleday Publishing Group</td>\n",
       "    </tr>\n",
       "    <tr>\n",
       "      <th>6262</th>\n",
       "      <td>Penguin Publishing Group</td>\n",
       "    </tr>\n",
       "  </tbody>\n",
       "</table>\n",
       "</div>"
      ],
      "text/plain": [
       "                                          name\n",
       "publisher_id                                  \n",
       "7070             Random House Publishing Group\n",
       "5H5H                            Harmony/Rodale\n",
       "4747                      McClelland & Stewart\n",
       "7373          Knopf Doubleday Publishing Group\n",
       "6262                  Penguin Publishing Group"
      ]
     },
     "execution_count": 47,
     "metadata": {},
     "output_type": "execute_result"
    }
   ],
   "source": [
    "# Move publisher data to a separate dataframe\n",
    "publishers = book_publisher.drop_duplicates('code')\\\n",
    "    .rename(columns={'code': 'publisher_id', 'description': 'name'})\\\n",
    "    .set_index('publisher_id')\n",
    "publishers.head(5)"
   ]
  },
  {
   "cell_type": "markdown",
   "metadata": {
    "tags": []
   },
   "source": [
    "### Series"
   ]
  },
  {
   "cell_type": "markdown",
   "metadata": {},
   "source": [
    "Let's extract the series information. Each row contains a `series_number` and info about `series` itself."
   ]
  },
  {
   "cell_type": "code",
   "execution_count": 48,
   "metadata": {},
   "outputs": [
    {
     "name": "stdout",
     "output_type": "stream",
     "text": [
      "48726 of 64929 books are not part of any series.\n"
     ]
    }
   ],
   "source": [
    "# Most of the books are not in any series\n",
    "no_series = books['series_number'].isna().sum()\n",
    "print(f'{no_series} of {len(books)} books are not part of any series.')\n",
    "\n",
    "# Convert series_number to int data type\n",
    "books['series_number'] = books['series_number'].astype('Int32')"
   ]
  },
  {
   "cell_type": "code",
   "execution_count": 49,
   "metadata": {},
   "outputs": [
    {
     "data": {
      "text/html": [
       "<div>\n",
       "<style scoped>\n",
       "    .dataframe tbody tr th:only-of-type {\n",
       "        vertical-align: middle;\n",
       "    }\n",
       "\n",
       "    .dataframe tbody tr th {\n",
       "        vertical-align: top;\n",
       "    }\n",
       "\n",
       "    .dataframe thead th {\n",
       "        text-align: right;\n",
       "    }\n",
       "</style>\n",
       "<table border=\"1\" class=\"dataframe\">\n",
       "  <thead>\n",
       "    <tr style=\"text-align: right;\">\n",
       "      <th></th>\n",
       "      <th>series</th>\n",
       "      <th>series_number</th>\n",
       "    </tr>\n",
       "    <tr>\n",
       "      <th>isbn</th>\n",
       "      <th></th>\n",
       "      <th></th>\n",
       "    </tr>\n",
       "  </thead>\n",
       "  <tbody>\n",
       "    <tr>\n",
       "      <th>9780375760686</th>\n",
       "      <td>[]</td>\n",
       "      <td>&lt;NA&gt;</td>\n",
       "    </tr>\n",
       "    <tr>\n",
       "      <th>9781605295336</th>\n",
       "      <td>[{'series_id': 'D22', 'name': 'Runner's World', 'description': None, 'seri...</td>\n",
       "      <td>&lt;NA&gt;</td>\n",
       "    </tr>\n",
       "    <tr>\n",
       "      <th>9780771095764</th>\n",
       "      <td>[]</td>\n",
       "      <td>&lt;NA&gt;</td>\n",
       "    </tr>\n",
       "    <tr>\n",
       "      <th>9780679751403</th>\n",
       "      <td>[]</td>\n",
       "      <td>&lt;NA&gt;</td>\n",
       "    </tr>\n",
       "    <tr>\n",
       "      <th>9780812974874</th>\n",
       "      <td>[]</td>\n",
       "      <td>&lt;NA&gt;</td>\n",
       "    </tr>\n",
       "  </tbody>\n",
       "</table>\n",
       "</div>"
      ],
      "text/plain": [
       "                                                                                      series  \\\n",
       "isbn                                                                                           \n",
       "9780375760686                                                                             []   \n",
       "9781605295336  [{'series_id': 'D22', 'name': 'Runner's World', 'description': None, 'seri...   \n",
       "9780771095764                                                                             []   \n",
       "9780679751403                                                                             []   \n",
       "9780812974874                                                                             []   \n",
       "\n",
       "               series_number  \n",
       "isbn                          \n",
       "9780375760686           <NA>  \n",
       "9781605295336           <NA>  \n",
       "9780771095764           <NA>  \n",
       "9780679751403           <NA>  \n",
       "9780812974874           <NA>  "
      ]
     },
     "execution_count": 49,
     "metadata": {},
     "output_type": "execute_result"
    }
   ],
   "source": [
    "books[['series', 'series_number']].head(5)"
   ]
  },
  {
   "cell_type": "code",
   "execution_count": 50,
   "metadata": {},
   "outputs": [
    {
     "data": {
      "text/html": [
       "<div>\n",
       "<style scoped>\n",
       "    .dataframe tbody tr th:only-of-type {\n",
       "        vertical-align: middle;\n",
       "    }\n",
       "\n",
       "    .dataframe tbody tr th {\n",
       "        vertical-align: top;\n",
       "    }\n",
       "\n",
       "    .dataframe thead th {\n",
       "        text-align: right;\n",
       "    }\n",
       "</style>\n",
       "<table border=\"1\" class=\"dataframe\">\n",
       "  <thead>\n",
       "    <tr style=\"text-align: right;\">\n",
       "      <th></th>\n",
       "      <th>series_id</th>\n",
       "      <th>name</th>\n",
       "      <th>description</th>\n",
       "      <th>series_count</th>\n",
       "      <th>is_numbered</th>\n",
       "      <th>is_kids</th>\n",
       "    </tr>\n",
       "    <tr>\n",
       "      <th>isbn</th>\n",
       "      <th></th>\n",
       "      <th></th>\n",
       "      <th></th>\n",
       "      <th></th>\n",
       "      <th></th>\n",
       "      <th></th>\n",
       "    </tr>\n",
       "  </thead>\n",
       "  <tbody>\n",
       "    <tr>\n",
       "      <th>9781605295336</th>\n",
       "      <td>D22</td>\n",
       "      <td>Runner's World</td>\n",
       "      <td>None</td>\n",
       "      <td>37</td>\n",
       "      <td>False</td>\n",
       "      <td>False</td>\n",
       "    </tr>\n",
       "    <tr>\n",
       "      <th>9781601427762</th>\n",
       "      <td>DXR</td>\n",
       "      <td>Double S Ranch</td>\n",
       "      <td>Come Home to the Double S Ranch...&lt;br&gt;Where the Cowboys are Loving, Strong...</td>\n",
       "      <td>3</td>\n",
       "      <td>True</td>\n",
       "      <td>False</td>\n",
       "    </tr>\n",
       "    <tr>\n",
       "      <th>9781601427809</th>\n",
       "      <td>DXR</td>\n",
       "      <td>Double S Ranch</td>\n",
       "      <td>Come Home to the Double S Ranch...&lt;br&gt;Where the Cowboys are Loving, Strong...</td>\n",
       "      <td>3</td>\n",
       "      <td>True</td>\n",
       "      <td>False</td>\n",
       "    </tr>\n",
       "    <tr>\n",
       "      <th>9780451467935</th>\n",
       "      <td>BVP</td>\n",
       "      <td>Sugarland Blue Novel</td>\n",
       "      <td>The sexy officers of the Sugarland Police Department struggle to keep both...</td>\n",
       "      <td>6</td>\n",
       "      <td>True</td>\n",
       "      <td>False</td>\n",
       "    </tr>\n",
       "    <tr>\n",
       "      <th>9780451476999</th>\n",
       "      <td>BVP</td>\n",
       "      <td>Sugarland Blue Novel</td>\n",
       "      <td>The sexy officers of the Sugarland Police Department struggle to keep both...</td>\n",
       "      <td>6</td>\n",
       "      <td>True</td>\n",
       "      <td>False</td>\n",
       "    </tr>\n",
       "  </tbody>\n",
       "</table>\n",
       "</div>"
      ],
      "text/plain": [
       "              series_id                  name  \\\n",
       "isbn                                            \n",
       "9781605295336       D22        Runner's World   \n",
       "9781601427762       DXR        Double S Ranch   \n",
       "9781601427809       DXR        Double S Ranch   \n",
       "9780451467935       BVP  Sugarland Blue Novel   \n",
       "9780451476999       BVP  Sugarland Blue Novel   \n",
       "\n",
       "                                                                                 description  \\\n",
       "isbn                                                                                           \n",
       "9781605295336                                                                           None   \n",
       "9781601427762  Come Home to the Double S Ranch...<br>Where the Cowboys are Loving, Strong...   \n",
       "9781601427809  Come Home to the Double S Ranch...<br>Where the Cowboys are Loving, Strong...   \n",
       "9780451467935  The sexy officers of the Sugarland Police Department struggle to keep both...   \n",
       "9780451476999  The sexy officers of the Sugarland Police Department struggle to keep both...   \n",
       "\n",
       "               series_count  is_numbered  is_kids  \n",
       "isbn                                               \n",
       "9781605295336            37        False    False  \n",
       "9781601427762             3         True    False  \n",
       "9781601427809             3         True    False  \n",
       "9780451467935             6         True    False  \n",
       "9780451476999             6         True    False  "
      ]
     },
     "execution_count": 50,
     "metadata": {},
     "output_type": "execute_result"
    }
   ],
   "source": [
    "# Move information about series in a separate dataframe\n",
    "book_series = books[['series']].explode('series').dropna().reset_index()\n",
    "book_series = book_series.drop('series', axis=1)\\\n",
    "    .join(pd.DataFrame(book_series['series'].tolist()))\n",
    "book_series.set_index('isbn', inplace=True)\n",
    "book_series.head(5)"
   ]
  },
  {
   "cell_type": "code",
   "execution_count": 51,
   "metadata": {},
   "outputs": [],
   "source": [
    "# Drop HTML tags from description\n",
    "description_nans = book_series['description'].isna()\n",
    "book_series.loc[~description_nans, 'description'] = \\\n",
    "    book_series.loc[~description_nans, 'description'].apply(clean_text)"
   ]
  },
  {
   "cell_type": "code",
   "execution_count": 52,
   "metadata": {},
   "outputs": [],
   "source": [
    "# Save only `series_id` in the main dataset\n",
    "books = books.join(book_series[['series_id']])\n",
    "\n",
    "# Drop series column\n",
    "books.drop(columns=['series'], inplace=True)\n",
    "\n",
    "# Rename\n",
    "books.rename(columns={'series_number': 'number_in_series'}, inplace=True)"
   ]
  },
  {
   "cell_type": "code",
   "execution_count": 53,
   "metadata": {},
   "outputs": [
    {
     "data": {
      "text/html": [
       "<div>\n",
       "<style scoped>\n",
       "    .dataframe tbody tr th:only-of-type {\n",
       "        vertical-align: middle;\n",
       "    }\n",
       "\n",
       "    .dataframe tbody tr th {\n",
       "        vertical-align: top;\n",
       "    }\n",
       "\n",
       "    .dataframe thead th {\n",
       "        text-align: right;\n",
       "    }\n",
       "</style>\n",
       "<table border=\"1\" class=\"dataframe\">\n",
       "  <thead>\n",
       "    <tr style=\"text-align: right;\">\n",
       "      <th></th>\n",
       "      <th>name</th>\n",
       "      <th>description</th>\n",
       "      <th>series_count</th>\n",
       "      <th>is_numbered</th>\n",
       "      <th>is_kids</th>\n",
       "    </tr>\n",
       "    <tr>\n",
       "      <th>series_id</th>\n",
       "      <th></th>\n",
       "      <th></th>\n",
       "      <th></th>\n",
       "      <th></th>\n",
       "      <th></th>\n",
       "    </tr>\n",
       "  </thead>\n",
       "  <tbody>\n",
       "    <tr>\n",
       "      <th>D22</th>\n",
       "      <td>Runner's World</td>\n",
       "      <td>None</td>\n",
       "      <td>37</td>\n",
       "      <td>False</td>\n",
       "      <td>False</td>\n",
       "    </tr>\n",
       "    <tr>\n",
       "      <th>DXR</th>\n",
       "      <td>Double S Ranch</td>\n",
       "      <td>Come Home to the Double S Ranch...Where the Cowboys are Loving, Strong, an...</td>\n",
       "      <td>3</td>\n",
       "      <td>True</td>\n",
       "      <td>False</td>\n",
       "    </tr>\n",
       "    <tr>\n",
       "      <th>BVP</th>\n",
       "      <td>Sugarland Blue Novel</td>\n",
       "      <td>The sexy officers of the Sugarland Police Department struggle to keep both...</td>\n",
       "      <td>6</td>\n",
       "      <td>True</td>\n",
       "      <td>False</td>\n",
       "    </tr>\n",
       "    <tr>\n",
       "      <th>NSW</th>\n",
       "      <td>Star Wars</td>\n",
       "      <td>None</td>\n",
       "      <td>6</td>\n",
       "      <td>True</td>\n",
       "      <td>False</td>\n",
       "    </tr>\n",
       "    <tr>\n",
       "      <th>NYC</th>\n",
       "      <td>NYRB Classics</td>\n",
       "      <td>None</td>\n",
       "      <td>31</td>\n",
       "      <td>False</td>\n",
       "      <td>False</td>\n",
       "    </tr>\n",
       "  </tbody>\n",
       "</table>\n",
       "</div>"
      ],
      "text/plain": [
       "                           name  \\\n",
       "series_id                         \n",
       "D22              Runner's World   \n",
       "DXR              Double S Ranch   \n",
       "BVP        Sugarland Blue Novel   \n",
       "NSW                   Star Wars   \n",
       "NYC               NYRB Classics   \n",
       "\n",
       "                                                                             description  \\\n",
       "series_id                                                                                  \n",
       "D22                                                                                 None   \n",
       "DXR        Come Home to the Double S Ranch...Where the Cowboys are Loving, Strong, an...   \n",
       "BVP        The sexy officers of the Sugarland Police Department struggle to keep both...   \n",
       "NSW                                                                                 None   \n",
       "NYC                                                                                 None   \n",
       "\n",
       "           series_count  is_numbered  is_kids  \n",
       "series_id                                      \n",
       "D22                  37        False    False  \n",
       "DXR                   3         True    False  \n",
       "BVP                   6         True    False  \n",
       "NSW                   6         True    False  \n",
       "NYC                  31        False    False  "
      ]
     },
     "execution_count": 53,
     "metadata": {},
     "output_type": "execute_result"
    }
   ],
   "source": [
    "# Move series data to a separate dataframe\n",
    "series = book_series.drop_duplicates('series_id').set_index('series_id')\n",
    "\n",
    "series.head(5)"
   ]
  },
  {
   "cell_type": "code",
   "execution_count": 54,
   "metadata": {},
   "outputs": [
    {
     "data": {
      "text/plain": [
       "4743"
      ]
     },
     "execution_count": 54,
     "metadata": {},
     "output_type": "execute_result"
    }
   ],
   "source": [
    "# How many unique series exists\n",
    "len(series)"
   ]
  },
  {
   "cell_type": "code",
   "execution_count": 55,
   "metadata": {},
   "outputs": [
    {
     "data": {
      "text/html": [
       "<div>\n",
       "<style scoped>\n",
       "    .dataframe tbody tr th:only-of-type {\n",
       "        vertical-align: middle;\n",
       "    }\n",
       "\n",
       "    .dataframe tbody tr th {\n",
       "        vertical-align: top;\n",
       "    }\n",
       "\n",
       "    .dataframe thead th {\n",
       "        text-align: right;\n",
       "    }\n",
       "</style>\n",
       "<table border=\"1\" class=\"dataframe\">\n",
       "  <thead>\n",
       "    <tr style=\"text-align: right;\">\n",
       "      <th></th>\n",
       "      <th>name</th>\n",
       "      <th>description</th>\n",
       "      <th>series_count</th>\n",
       "      <th>is_numbered</th>\n",
       "      <th>is_kids</th>\n",
       "    </tr>\n",
       "    <tr>\n",
       "      <th>series_id</th>\n",
       "      <th></th>\n",
       "      <th></th>\n",
       "      <th></th>\n",
       "      <th></th>\n",
       "      <th></th>\n",
       "    </tr>\n",
       "  </thead>\n",
       "  <tbody>\n",
       "    <tr>\n",
       "      <th>VCO</th>\n",
       "      <td>Vintage Contemporaries</td>\n",
       "      <td>Vintage Contemporaries offers readers stylish trade paperback editions of ...</td>\n",
       "      <td>694</td>\n",
       "      <td>False</td>\n",
       "      <td>False</td>\n",
       "    </tr>\n",
       "    <tr>\n",
       "      <th>LGB</th>\n",
       "      <td>Little Golden Book</td>\n",
       "      <td>LITTLE GOLDEN BOOKS have been loved by children for over 75 years. When th...</td>\n",
       "      <td>681</td>\n",
       "      <td>False</td>\n",
       "      <td>True</td>\n",
       "    </tr>\n",
       "    <tr>\n",
       "      <th>PBK</th>\n",
       "      <td>Pictureback(R)</td>\n",
       "      <td>None</td>\n",
       "      <td>273</td>\n",
       "      <td>False</td>\n",
       "      <td>True</td>\n",
       "    </tr>\n",
       "    <tr>\n",
       "      <th>GNO</th>\n",
       "      <td>Good Night Our World</td>\n",
       "      <td>The Good Night Books series is designed to celebrate special places and su...</td>\n",
       "      <td>213</td>\n",
       "      <td>False</td>\n",
       "      <td>True</td>\n",
       "    </tr>\n",
       "    <tr>\n",
       "      <th>DWY</th>\n",
       "      <td>Who Was?</td>\n",
       "      <td>A series of illustrated biographies for young readers featuring significan...</td>\n",
       "      <td>210</td>\n",
       "      <td>False</td>\n",
       "      <td>True</td>\n",
       "    </tr>\n",
       "    <tr>\n",
       "      <th>BFV</th>\n",
       "      <td>Longarm</td>\n",
       "      <td>None</td>\n",
       "      <td>185</td>\n",
       "      <td>True</td>\n",
       "      <td>False</td>\n",
       "    </tr>\n",
       "    <tr>\n",
       "      <th>BT5</th>\n",
       "      <td>Slocum</td>\n",
       "      <td>The longest-running Western series in America today, the Slocum adventures...</td>\n",
       "      <td>176</td>\n",
       "      <td>True</td>\n",
       "      <td>False</td>\n",
       "    </tr>\n",
       "    <tr>\n",
       "      <th>VTS</th>\n",
       "      <td>A Vintage Short</td>\n",
       "      <td>The Vintage Shorts series presents timely reading from enduring classics a...</td>\n",
       "      <td>176</td>\n",
       "      <td>False</td>\n",
       "      <td>False</td>\n",
       "    </tr>\n",
       "    <tr>\n",
       "      <th>ADI</th>\n",
       "      <td>Travel Guide</td>\n",
       "      <td>For more than two decades, DK Eyewitness Travel Guides have helped travele...</td>\n",
       "      <td>172</td>\n",
       "      <td>False</td>\n",
       "      <td>False</td>\n",
       "    </tr>\n",
       "    <tr>\n",
       "      <th>DQ3</th>\n",
       "      <td>Mad Libs</td>\n",
       "      <td>Go for Mad Libs—Everyone’s favorite funny fill-in books!</td>\n",
       "      <td>167</td>\n",
       "      <td>False</td>\n",
       "      <td>True</td>\n",
       "    </tr>\n",
       "  </tbody>\n",
       "</table>\n",
       "</div>"
      ],
      "text/plain": [
       "                             name  \\\n",
       "series_id                           \n",
       "VCO        Vintage Contemporaries   \n",
       "LGB            Little Golden Book   \n",
       "PBK                Pictureback(R)   \n",
       "GNO          Good Night Our World   \n",
       "DWY                      Who Was?   \n",
       "BFV                       Longarm   \n",
       "BT5                        Slocum   \n",
       "VTS               A Vintage Short   \n",
       "ADI                  Travel Guide   \n",
       "DQ3                      Mad Libs   \n",
       "\n",
       "                                                                             description  \\\n",
       "series_id                                                                                  \n",
       "VCO        Vintage Contemporaries offers readers stylish trade paperback editions of ...   \n",
       "LGB        LITTLE GOLDEN BOOKS have been loved by children for over 75 years. When th...   \n",
       "PBK                                                                                 None   \n",
       "GNO        The Good Night Books series is designed to celebrate special places and su...   \n",
       "DWY        A series of illustrated biographies for young readers featuring significan...   \n",
       "BFV                                                                                 None   \n",
       "BT5        The longest-running Western series in America today, the Slocum adventures...   \n",
       "VTS        The Vintage Shorts series presents timely reading from enduring classics a...   \n",
       "ADI        For more than two decades, DK Eyewitness Travel Guides have helped travele...   \n",
       "DQ3                             Go for Mad Libs—Everyone’s favorite funny fill-in books!   \n",
       "\n",
       "           series_count  is_numbered  is_kids  \n",
       "series_id                                      \n",
       "VCO                 694        False    False  \n",
       "LGB                 681        False     True  \n",
       "PBK                 273        False     True  \n",
       "GNO                 213        False     True  \n",
       "DWY                 210        False     True  \n",
       "BFV                 185         True    False  \n",
       "BT5                 176         True    False  \n",
       "VTS                 176        False    False  \n",
       "ADI                 172        False    False  \n",
       "DQ3                 167        False     True  "
      ]
     },
     "execution_count": 55,
     "metadata": {},
     "output_type": "execute_result"
    }
   ],
   "source": [
    "# Show series with the largest number of books\n",
    "series.sort_values('series_count', ascending=False).head(10)"
   ]
  },
  {
   "cell_type": "markdown",
   "metadata": {
    "pycharm": {
     "name": "#%% md\n"
    },
    "tags": [],
    "toc-hr-collapsed": true
   },
   "source": [
    "### Contributors"
   ]
  },
  {
   "cell_type": "markdown",
   "metadata": {},
   "source": [
    "The column `authors` may contain illustrators, photographer in addition to the main author."
   ]
  },
  {
   "cell_type": "code",
   "execution_count": 56,
   "metadata": {},
   "outputs": [
    {
     "data": {
      "text/plain": [
       "isbn\n",
       "9780375760686    [{'author_id': 35922, 'first_name': 'Cheryl', 'last_name': 'Mendelson', 'c...\n",
       "9781605295336    [{'author_id': 2061538, 'first_name': 'David', 'last_name': 'Willey', 'com...\n",
       "9780771095764    [{'author_id': 83047, 'first_name': 'Lauren', 'last_name': 'Kirshner', 'co...\n",
       "9780679751403    [{'author_id': 18770, 'first_name': 'Janet', 'last_name': 'Malcolm', 'comp...\n",
       "9780812974874    [{'author_id': 22849, 'first_name': 'Susan', 'last_name': 'Orlean', 'compa...\n",
       "Name: authors, dtype: object"
      ]
     },
     "execution_count": 56,
     "metadata": {},
     "output_type": "execute_result"
    }
   ],
   "source": [
    "books['authors'].head(5)"
   ]
  },
  {
   "cell_type": "code",
   "execution_count": 57,
   "metadata": {},
   "outputs": [
    {
     "data": {
      "text/html": [
       "<div>\n",
       "<style scoped>\n",
       "    .dataframe tbody tr th:only-of-type {\n",
       "        vertical-align: middle;\n",
       "    }\n",
       "\n",
       "    .dataframe tbody tr th {\n",
       "        vertical-align: top;\n",
       "    }\n",
       "\n",
       "    .dataframe thead th {\n",
       "        text-align: right;\n",
       "    }\n",
       "</style>\n",
       "<table border=\"1\" class=\"dataframe\">\n",
       "  <thead>\n",
       "    <tr style=\"text-align: right;\">\n",
       "      <th></th>\n",
       "      <th>author_id</th>\n",
       "      <th>first_name</th>\n",
       "      <th>last_name</th>\n",
       "      <th>company</th>\n",
       "      <th>client_source_id</th>\n",
       "      <th>role</th>\n",
       "    </tr>\n",
       "    <tr>\n",
       "      <th>isbn</th>\n",
       "      <th></th>\n",
       "      <th></th>\n",
       "      <th></th>\n",
       "      <th></th>\n",
       "      <th></th>\n",
       "      <th></th>\n",
       "    </tr>\n",
       "  </thead>\n",
       "  <tbody>\n",
       "    <tr>\n",
       "      <th>9780375760686</th>\n",
       "      <td>35922</td>\n",
       "      <td>Cheryl</td>\n",
       "      <td>Mendelson</td>\n",
       "      <td>{'key': 'R_H', 'value': None}</td>\n",
       "      <td>0</td>\n",
       "      <td>A</td>\n",
       "    </tr>\n",
       "    <tr>\n",
       "      <th>9781605295336</th>\n",
       "      <td>2061538</td>\n",
       "      <td>David</td>\n",
       "      <td>Willey</td>\n",
       "      <td>{'key': 'R_H', 'value': None}</td>\n",
       "      <td>0</td>\n",
       "      <td>E</td>\n",
       "    </tr>\n",
       "    <tr>\n",
       "      <th>9781605295336</th>\n",
       "      <td>2213465</td>\n",
       "      <td>None</td>\n",
       "      <td>Editors of Runner's World Maga</td>\n",
       "      <td>{'key': 'R_H', 'value': None}</td>\n",
       "      <td>0</td>\n",
       "      <td>E</td>\n",
       "    </tr>\n",
       "    <tr>\n",
       "      <th>9780771095764</th>\n",
       "      <td>83047</td>\n",
       "      <td>Lauren</td>\n",
       "      <td>Kirshner</td>\n",
       "      <td>{'key': 'R_H', 'value': None}</td>\n",
       "      <td>0</td>\n",
       "      <td>A</td>\n",
       "    </tr>\n",
       "    <tr>\n",
       "      <th>9780679751403</th>\n",
       "      <td>18770</td>\n",
       "      <td>Janet</td>\n",
       "      <td>Malcolm</td>\n",
       "      <td>{'key': 'R_H', 'value': None}</td>\n",
       "      <td>0</td>\n",
       "      <td>A</td>\n",
       "    </tr>\n",
       "  </tbody>\n",
       "</table>\n",
       "</div>"
      ],
      "text/plain": [
       "               author_id first_name                       last_name  \\\n",
       "isbn                                                                  \n",
       "9780375760686      35922     Cheryl                       Mendelson   \n",
       "9781605295336    2061538      David                          Willey   \n",
       "9781605295336    2213465       None  Editors of Runner's World Maga   \n",
       "9780771095764      83047     Lauren                        Kirshner   \n",
       "9780679751403      18770      Janet                         Malcolm   \n",
       "\n",
       "                                     company  client_source_id role  \n",
       "isbn                                                                 \n",
       "9780375760686  {'key': 'R_H', 'value': None}                 0    A  \n",
       "9781605295336  {'key': 'R_H', 'value': None}                 0    E  \n",
       "9781605295336  {'key': 'R_H', 'value': None}                 0    E  \n",
       "9780771095764  {'key': 'R_H', 'value': None}                 0    A  \n",
       "9780679751403  {'key': 'R_H', 'value': None}                 0    A  "
      ]
     },
     "execution_count": 57,
     "metadata": {},
     "output_type": "execute_result"
    }
   ],
   "source": [
    "# Move information about authors in a separate dataframe\n",
    "book_authors = books[['authors']].explode('authors').dropna().reset_index()\n",
    "book_authors = book_authors.drop('authors', axis=1)\\\n",
    "    .join(pd.DataFrame(book_authors['authors'].tolist()))\n",
    "book_authors.set_index('isbn', inplace=True)\n",
    "book_authors.head(5)"
   ]
  },
  {
   "cell_type": "markdown",
   "metadata": {},
   "source": [
    "Since a book may have several authors, we need a dataframe for mapping book-authors and another one for author information."
   ]
  },
  {
   "cell_type": "code",
   "execution_count": 58,
   "metadata": {},
   "outputs": [
    {
     "data": {
      "text/html": [
       "<div>\n",
       "<style scoped>\n",
       "    .dataframe tbody tr th:only-of-type {\n",
       "        vertical-align: middle;\n",
       "    }\n",
       "\n",
       "    .dataframe tbody tr th {\n",
       "        vertical-align: top;\n",
       "    }\n",
       "\n",
       "    .dataframe thead th {\n",
       "        text-align: right;\n",
       "    }\n",
       "</style>\n",
       "<table border=\"1\" class=\"dataframe\">\n",
       "  <thead>\n",
       "    <tr style=\"text-align: right;\">\n",
       "      <th></th>\n",
       "      <th>first_name</th>\n",
       "      <th>last_name</th>\n",
       "      <th>company</th>\n",
       "      <th>client_source_id</th>\n",
       "    </tr>\n",
       "    <tr>\n",
       "      <th>author_id</th>\n",
       "      <th></th>\n",
       "      <th></th>\n",
       "      <th></th>\n",
       "      <th></th>\n",
       "    </tr>\n",
       "  </thead>\n",
       "  <tbody>\n",
       "    <tr>\n",
       "      <th>35922</th>\n",
       "      <td>Cheryl</td>\n",
       "      <td>Mendelson</td>\n",
       "      <td>{'key': 'R_H', 'value': None}</td>\n",
       "      <td>0</td>\n",
       "    </tr>\n",
       "    <tr>\n",
       "      <th>2061538</th>\n",
       "      <td>David</td>\n",
       "      <td>Willey</td>\n",
       "      <td>{'key': 'R_H', 'value': None}</td>\n",
       "      <td>0</td>\n",
       "    </tr>\n",
       "    <tr>\n",
       "      <th>2213465</th>\n",
       "      <td>None</td>\n",
       "      <td>Editors of Runner's World Maga</td>\n",
       "      <td>{'key': 'R_H', 'value': None}</td>\n",
       "      <td>0</td>\n",
       "    </tr>\n",
       "    <tr>\n",
       "      <th>83047</th>\n",
       "      <td>Lauren</td>\n",
       "      <td>Kirshner</td>\n",
       "      <td>{'key': 'R_H', 'value': None}</td>\n",
       "      <td>0</td>\n",
       "    </tr>\n",
       "    <tr>\n",
       "      <th>18770</th>\n",
       "      <td>Janet</td>\n",
       "      <td>Malcolm</td>\n",
       "      <td>{'key': 'R_H', 'value': None}</td>\n",
       "      <td>0</td>\n",
       "    </tr>\n",
       "  </tbody>\n",
       "</table>\n",
       "</div>"
      ],
      "text/plain": [
       "          first_name                       last_name  \\\n",
       "author_id                                              \n",
       "35922         Cheryl                       Mendelson   \n",
       "2061538        David                          Willey   \n",
       "2213465         None  Editors of Runner's World Maga   \n",
       "83047         Lauren                        Kirshner   \n",
       "18770          Janet                         Malcolm   \n",
       "\n",
       "                                 company  client_source_id  \n",
       "author_id                                                   \n",
       "35922      {'key': 'R_H', 'value': None}                 0  \n",
       "2061538    {'key': 'R_H', 'value': None}                 0  \n",
       "2213465    {'key': 'R_H', 'value': None}                 0  \n",
       "83047      {'key': 'R_H', 'value': None}                 0  \n",
       "18770      {'key': 'R_H', 'value': None}                 0  "
      ]
     },
     "execution_count": 58,
     "metadata": {},
     "output_type": "execute_result"
    }
   ],
   "source": [
    "# Dataframe for authors info\n",
    "authors = book_authors[['author_id', 'first_name', 'last_name', \n",
    "                        'company', 'client_source_id']]\\\n",
    "    .drop_duplicates('author_id').set_index('author_id')\n",
    "authors.head(5)"
   ]
  },
  {
   "cell_type": "code",
   "execution_count": 59,
   "metadata": {},
   "outputs": [
    {
     "data": {
      "text/html": [
       "<div>\n",
       "<style scoped>\n",
       "    .dataframe tbody tr th:only-of-type {\n",
       "        vertical-align: middle;\n",
       "    }\n",
       "\n",
       "    .dataframe tbody tr th {\n",
       "        vertical-align: top;\n",
       "    }\n",
       "\n",
       "    .dataframe thead th {\n",
       "        text-align: right;\n",
       "    }\n",
       "</style>\n",
       "<table border=\"1\" class=\"dataframe\">\n",
       "  <thead>\n",
       "    <tr style=\"text-align: right;\">\n",
       "      <th></th>\n",
       "      <th>isbn</th>\n",
       "      <th>author_id</th>\n",
       "      <th>role_id</th>\n",
       "    </tr>\n",
       "  </thead>\n",
       "  <tbody>\n",
       "    <tr>\n",
       "      <th>0</th>\n",
       "      <td>9780375760686</td>\n",
       "      <td>35922</td>\n",
       "      <td>A</td>\n",
       "    </tr>\n",
       "    <tr>\n",
       "      <th>1</th>\n",
       "      <td>9781605295336</td>\n",
       "      <td>2061538</td>\n",
       "      <td>E</td>\n",
       "    </tr>\n",
       "    <tr>\n",
       "      <th>2</th>\n",
       "      <td>9781605295336</td>\n",
       "      <td>2213465</td>\n",
       "      <td>E</td>\n",
       "    </tr>\n",
       "    <tr>\n",
       "      <th>3</th>\n",
       "      <td>9780771095764</td>\n",
       "      <td>83047</td>\n",
       "      <td>A</td>\n",
       "    </tr>\n",
       "    <tr>\n",
       "      <th>4</th>\n",
       "      <td>9780679751403</td>\n",
       "      <td>18770</td>\n",
       "      <td>A</td>\n",
       "    </tr>\n",
       "  </tbody>\n",
       "</table>\n",
       "</div>"
      ],
      "text/plain": [
       "            isbn  author_id role_id\n",
       "0  9780375760686      35922       A\n",
       "1  9781605295336    2061538       E\n",
       "2  9781605295336    2213465       E\n",
       "3  9780771095764      83047       A\n",
       "4  9780679751403      18770       A"
      ]
     },
     "execution_count": 59,
     "metadata": {},
     "output_type": "execute_result"
    }
   ],
   "source": [
    "# Dataframe for mapping books and authors\n",
    "book_authors = book_authors[['author_id', 'role']].reset_index()\n",
    "book_authors.rename(columns={'role': 'role_id'}, inplace=True)\n",
    "book_authors.head(5)"
   ]
  },
  {
   "cell_type": "code",
   "execution_count": 60,
   "metadata": {},
   "outputs": [],
   "source": [
    "# Drop authors from books\n",
    "books.drop(columns='authors', inplace=True)"
   ]
  },
  {
   "cell_type": "markdown",
   "metadata": {
    "pycharm": {
     "name": "#%% md\n"
    }
   },
   "source": [
    "In some cases, we can see the same information about authors with different ids. For example:"
   ]
  },
  {
   "cell_type": "code",
   "execution_count": 61,
   "metadata": {
    "collapsed": false,
    "jupyter": {
     "outputs_hidden": false
    },
    "pycharm": {
     "name": "#%%\n"
    }
   },
   "outputs": [
    {
     "data": {
      "text/html": [
       "<div>\n",
       "<style scoped>\n",
       "    .dataframe tbody tr th:only-of-type {\n",
       "        vertical-align: middle;\n",
       "    }\n",
       "\n",
       "    .dataframe tbody tr th {\n",
       "        vertical-align: top;\n",
       "    }\n",
       "\n",
       "    .dataframe thead th {\n",
       "        text-align: right;\n",
       "    }\n",
       "</style>\n",
       "<table border=\"1\" class=\"dataframe\">\n",
       "  <thead>\n",
       "    <tr style=\"text-align: right;\">\n",
       "      <th></th>\n",
       "      <th>first_name</th>\n",
       "      <th>last_name</th>\n",
       "      <th>company</th>\n",
       "      <th>client_source_id</th>\n",
       "    </tr>\n",
       "    <tr>\n",
       "      <th>author_id</th>\n",
       "      <th></th>\n",
       "      <th></th>\n",
       "      <th></th>\n",
       "      <th></th>\n",
       "    </tr>\n",
       "  </thead>\n",
       "  <tbody>\n",
       "    <tr>\n",
       "      <th>159086</th>\n",
       "      <td>Daniel</td>\n",
       "      <td>Mendelsohn</td>\n",
       "      <td>{'key': 'DL', 'value': 'New York Review Books'}</td>\n",
       "      <td>20334</td>\n",
       "    </tr>\n",
       "    <tr>\n",
       "      <th>20334</th>\n",
       "      <td>Daniel</td>\n",
       "      <td>Mendelsohn</td>\n",
       "      <td>{'key': 'R_H', 'value': None}</td>\n",
       "      <td>0</td>\n",
       "    </tr>\n",
       "  </tbody>\n",
       "</table>\n",
       "</div>"
      ],
      "text/plain": [
       "          first_name   last_name  \\\n",
       "author_id                          \n",
       "159086        Daniel  Mendelsohn   \n",
       "20334         Daniel  Mendelsohn   \n",
       "\n",
       "                                                   company  client_source_id  \n",
       "author_id                                                                     \n",
       "159086     {'key': 'DL', 'value': 'New York Review Books'}             20334  \n",
       "20334                        {'key': 'R_H', 'value': None}                 0  "
      ]
     },
     "execution_count": 61,
     "metadata": {},
     "output_type": "execute_result"
    }
   ],
   "source": [
    "authors.loc[[159086, 20334]]"
   ]
  },
  {
   "cell_type": "markdown",
   "metadata": {
    "pycharm": {
     "name": "#%% md\n"
    }
   },
   "source": [
    "Here is the rephrased explanation from [the PRH site](https://developer.penguinrandomhouse.com/docs/read/enhanced_prh_api/concepts/Multiple_authors):\n",
    "In cases where an author contributes to books by both a core PRH division and by one of our distribution clients, MyHouse (content management system) creates a separate author ID so that our distribution clients have the opportunity to attach their own content to that ID. This is why there are two \n",
    "author records in our system.\n",
    "\n",
    "In this way, distribution authors, whose IDs were created within the content management system as copies of core authors, have `client_source_id` as a reference to the `author_id` of the core author. We can see from the values on the 159086 Daniel Mendelsohn record that it has a reference to the 20334 record."
   ]
  },
  {
   "cell_type": "markdown",
   "metadata": {},
   "source": [
    "Here, we can assume that the persons themselves are more important than the company where they work. So, we can use only one ID per author and skip the company info."
   ]
  },
  {
   "cell_type": "code",
   "execution_count": 62,
   "metadata": {},
   "outputs": [],
   "source": [
    "external_authors = authors[authors['client_source_id'] > 0]\n",
    "rh_authors = authors[authors['client_source_id'] == 0]"
   ]
  },
  {
   "cell_type": "code",
   "execution_count": 63,
   "metadata": {},
   "outputs": [
    {
     "data": {
      "text/html": [
       "<div>\n",
       "<style scoped>\n",
       "    .dataframe tbody tr th:only-of-type {\n",
       "        vertical-align: middle;\n",
       "    }\n",
       "\n",
       "    .dataframe tbody tr th {\n",
       "        vertical-align: top;\n",
       "    }\n",
       "\n",
       "    .dataframe thead th {\n",
       "        text-align: right;\n",
       "    }\n",
       "</style>\n",
       "<table border=\"1\" class=\"dataframe\">\n",
       "  <thead>\n",
       "    <tr style=\"text-align: right;\">\n",
       "      <th></th>\n",
       "      <th>first_name</th>\n",
       "      <th>last_name</th>\n",
       "    </tr>\n",
       "    <tr>\n",
       "      <th>author_id</th>\n",
       "      <th></th>\n",
       "      <th></th>\n",
       "    </tr>\n",
       "  </thead>\n",
       "  <tbody>\n",
       "    <tr>\n",
       "      <th>35922</th>\n",
       "      <td>Cheryl</td>\n",
       "      <td>Mendelson</td>\n",
       "    </tr>\n",
       "    <tr>\n",
       "      <th>2061538</th>\n",
       "      <td>David</td>\n",
       "      <td>Willey</td>\n",
       "    </tr>\n",
       "    <tr>\n",
       "      <th>2213465</th>\n",
       "      <td>None</td>\n",
       "      <td>Editors of Runner's World Maga</td>\n",
       "    </tr>\n",
       "    <tr>\n",
       "      <th>83047</th>\n",
       "      <td>Lauren</td>\n",
       "      <td>Kirshner</td>\n",
       "    </tr>\n",
       "    <tr>\n",
       "      <th>18770</th>\n",
       "      <td>Janet</td>\n",
       "      <td>Malcolm</td>\n",
       "    </tr>\n",
       "  </tbody>\n",
       "</table>\n",
       "</div>"
      ],
      "text/plain": [
       "          first_name                       last_name\n",
       "author_id                                           \n",
       "35922         Cheryl                       Mendelson\n",
       "2061538        David                          Willey\n",
       "2213465         None  Editors of Runner's World Maga\n",
       "83047         Lauren                        Kirshner\n",
       "18770          Janet                         Malcolm"
      ]
     },
     "execution_count": 63,
     "metadata": {},
     "output_type": "execute_result"
    }
   ],
   "source": [
    "works_rh = external_authors['client_source_id'].isin(rh_authors.index)\n",
    "\n",
    "# If author works in RH, change to the main `source_id`\n",
    "rh_converted = external_authors.loc[works_rh, 'client_source_id'].to_dict()\n",
    "authors.rename(index=rh_converted, inplace=True)\n",
    "book_authors['author_id'].replace(rh_converted, inplace=True)\n",
    "\n",
    "# If author does not work in RH, set `client_source_id` as main\n",
    "nrh_converted = external_authors.loc[~works_rh, 'client_source_id'].to_dict()\n",
    "authors.rename(index=nrh_converted, inplace=True)\n",
    "book_authors['author_id'].replace(nrh_converted, inplace=True)\n",
    "\n",
    "# Drop duplicates and unused columns\n",
    "authors.drop(columns=['client_source_id', 'company'], inplace=True)\n",
    "authors = authors[~authors.index.duplicated(keep='first')]\n",
    "\n",
    "# Show\n",
    "authors.head()"
   ]
  },
  {
   "cell_type": "markdown",
   "metadata": {
    "tags": []
   },
   "source": [
    "### Works"
   ]
  },
  {
   "cell_type": "markdown",
   "metadata": {},
   "source": [
    "Here is the explanation of work from the PRH: Work ID is a Penguin Random House internally managed number that serves to group different formats of a title together. The object identified by the work ID is called the Work, and it represents the collection of all the different ISBNs together as a single object. Even though a Work is just a collection of ISBNs and does not have data of its own, certain attributes are computed at load time based on rules derived from the available ISBNs. The onsale date attribute is taken from the ISBN in the work with the oldest on-sale date. The title, subtitle and author (the display field) are derived a little differently. For each field, the ISBN values are sorted alphabetically and the first value is used as the work attribute. All other data is derived for a Work based on the ISBNs it has (more details [here](https://developer.penguinrandomhouse.com/docs/read/enhanced_prh_api/concepts/Works_and_ISBNs))."
   ]
  },
  {
   "cell_type": "code",
   "execution_count": 64,
   "metadata": {},
   "outputs": [
    {
     "data": {
      "text/plain": [
       "isbn\n",
       "9780375760686    [{'work_id': 113275, 'title': 'Morningside Heights', 'author': 'Cheryl Men...\n",
       "9781605295336    [{'work_id': 594144, 'title': 'Going Long', 'author': 'Edited by David Wil...\n",
       "9780771095764    [{'work_id': 93322, 'title': 'Where We Have to Go', 'author': 'Lauren Kirs...\n",
       "9780679751403    [{'work_id': 106482, 'title': 'The Silent Woman', 'author': 'Janet Malcolm...\n",
       "9780812974874    [{'work_id': 124840, 'title': 'My Kind of Place', 'author': 'Susan Orlean'...\n",
       "Name: works, dtype: object"
      ]
     },
     "execution_count": 64,
     "metadata": {},
     "output_type": "execute_result"
    }
   ],
   "source": [
    "books['works'].head(5)"
   ]
  },
  {
   "cell_type": "code",
   "execution_count": 65,
   "metadata": {},
   "outputs": [
    {
     "data": {
      "text/html": [
       "<div>\n",
       "<style scoped>\n",
       "    .dataframe tbody tr th:only-of-type {\n",
       "        vertical-align: middle;\n",
       "    }\n",
       "\n",
       "    .dataframe tbody tr th {\n",
       "        vertical-align: top;\n",
       "    }\n",
       "\n",
       "    .dataframe thead th {\n",
       "        text-align: right;\n",
       "    }\n",
       "</style>\n",
       "<table border=\"1\" class=\"dataframe\">\n",
       "  <thead>\n",
       "    <tr style=\"text-align: right;\">\n",
       "      <th></th>\n",
       "      <th>work_id</th>\n",
       "      <th>title</th>\n",
       "      <th>author</th>\n",
       "      <th>onsale</th>\n",
       "      <th>language</th>\n",
       "      <th>series_number</th>\n",
       "    </tr>\n",
       "    <tr>\n",
       "      <th>isbn</th>\n",
       "      <th></th>\n",
       "      <th></th>\n",
       "      <th></th>\n",
       "      <th></th>\n",
       "      <th></th>\n",
       "      <th></th>\n",
       "    </tr>\n",
       "  </thead>\n",
       "  <tbody>\n",
       "    <tr>\n",
       "      <th>9780375760686</th>\n",
       "      <td>113275</td>\n",
       "      <td>Morningside Heights</td>\n",
       "      <td>Cheryl Mendelson</td>\n",
       "      <td>2005-07-12</td>\n",
       "      <td>E</td>\n",
       "      <td>None</td>\n",
       "    </tr>\n",
       "    <tr>\n",
       "      <th>9781605295336</th>\n",
       "      <td>594144</td>\n",
       "      <td>Going Long</td>\n",
       "      <td>Edited by David Willey</td>\n",
       "      <td>2010-03-30</td>\n",
       "      <td>E</td>\n",
       "      <td>None</td>\n",
       "    </tr>\n",
       "    <tr>\n",
       "      <th>9780771095764</th>\n",
       "      <td>93322</td>\n",
       "      <td>Where We Have to Go</td>\n",
       "      <td>Lauren Kirshner</td>\n",
       "      <td>2012-03-06</td>\n",
       "      <td>E</td>\n",
       "      <td>None</td>\n",
       "    </tr>\n",
       "    <tr>\n",
       "      <th>9780679751403</th>\n",
       "      <td>106482</td>\n",
       "      <td>The Silent Woman</td>\n",
       "      <td>Janet Malcolm</td>\n",
       "      <td>1995-03-28</td>\n",
       "      <td>E</td>\n",
       "      <td>None</td>\n",
       "    </tr>\n",
       "    <tr>\n",
       "      <th>9780812974874</th>\n",
       "      <td>124840</td>\n",
       "      <td>My Kind of Place</td>\n",
       "      <td>Susan Orlean</td>\n",
       "      <td>2005-10-11</td>\n",
       "      <td>E</td>\n",
       "      <td>None</td>\n",
       "    </tr>\n",
       "  </tbody>\n",
       "</table>\n",
       "</div>"
      ],
      "text/plain": [
       "               work_id                title                  author  \\\n",
       "isbn                                                                  \n",
       "9780375760686   113275  Morningside Heights        Cheryl Mendelson   \n",
       "9781605295336   594144           Going Long  Edited by David Willey   \n",
       "9780771095764    93322  Where We Have to Go         Lauren Kirshner   \n",
       "9780679751403   106482     The Silent Woman           Janet Malcolm   \n",
       "9780812974874   124840     My Kind of Place            Susan Orlean   \n",
       "\n",
       "                   onsale language series_number  \n",
       "isbn                                              \n",
       "9780375760686  2005-07-12        E          None  \n",
       "9781605295336  2010-03-30        E          None  \n",
       "9780771095764  2012-03-06        E          None  \n",
       "9780679751403  1995-03-28        E          None  \n",
       "9780812974874  2005-10-11        E          None  "
      ]
     },
     "execution_count": 65,
     "metadata": {},
     "output_type": "execute_result"
    }
   ],
   "source": [
    "# Parse dicts\n",
    "book_work = books[['works']].explode('works').dropna().reset_index()\n",
    "book_work = book_work.drop('works', axis=1)\\\n",
    "    .join(pd.DataFrame(book_work['works'].tolist()))\n",
    "book_work.set_index('isbn', inplace=True)\n",
    "book_work.head(5)"
   ]
  },
  {
   "cell_type": "code",
   "execution_count": 66,
   "metadata": {},
   "outputs": [
    {
     "data": {
      "text/plain": [
       "False"
      ]
     },
     "execution_count": 66,
     "metadata": {},
     "output_type": "execute_result"
    }
   ],
   "source": [
    "# Each book have only one `work_id`\n",
    "book_work.index.duplicated().any()"
   ]
  },
  {
   "cell_type": "code",
   "execution_count": 67,
   "metadata": {},
   "outputs": [],
   "source": [
    "# Save only `work_id` in the main dataset\n",
    "books = books.join(book_work[['work_id']])\n",
    "\n",
    "# Drop works column\n",
    "books.drop(columns=['works'], inplace=True)"
   ]
  },
  {
   "cell_type": "markdown",
   "metadata": {},
   "source": [
    "To avoid the duplication between book data and work data, we can find and save only one isbn per work that will present its information. Let's use the same steps to find the front ISBN as it is written in the description from PRH."
   ]
  },
  {
   "cell_type": "code",
   "execution_count": 68,
   "metadata": {},
   "outputs": [
    {
     "data": {
      "text/html": [
       "<div>\n",
       "<style scoped>\n",
       "    .dataframe tbody tr th:only-of-type {\n",
       "        vertical-align: middle;\n",
       "    }\n",
       "\n",
       "    .dataframe tbody tr th {\n",
       "        vertical-align: top;\n",
       "    }\n",
       "\n",
       "    .dataframe thead th {\n",
       "        text-align: right;\n",
       "    }\n",
       "</style>\n",
       "<table border=\"1\" class=\"dataframe\">\n",
       "  <thead>\n",
       "    <tr style=\"text-align: right;\">\n",
       "      <th></th>\n",
       "      <th>front_isbn</th>\n",
       "    </tr>\n",
       "    <tr>\n",
       "      <th>work_id</th>\n",
       "      <th></th>\n",
       "    </tr>\n",
       "  </thead>\n",
       "  <tbody>\n",
       "    <tr>\n",
       "      <th>299263</th>\n",
       "      <td>9780131872783</td>\n",
       "    </tr>\n",
       "    <tr>\n",
       "      <th>352442</th>\n",
       "      <td>9780132157575</td>\n",
       "    </tr>\n",
       "    <tr>\n",
       "      <th>350692</th>\n",
       "      <td>9780133036039</td>\n",
       "    </tr>\n",
       "    <tr>\n",
       "      <th>353576</th>\n",
       "      <td>9780133102109</td>\n",
       "    </tr>\n",
       "    <tr>\n",
       "      <th>304057</th>\n",
       "      <td>9780135853986</td>\n",
       "    </tr>\n",
       "  </tbody>\n",
       "</table>\n",
       "</div>"
      ],
      "text/plain": [
       "            front_isbn\n",
       "work_id               \n",
       "299263   9780131872783\n",
       "352442   9780132157575\n",
       "350692   9780133036039\n",
       "353576   9780133102109\n",
       "304057   9780135853986"
      ]
     },
     "execution_count": 68,
     "metadata": {},
     "output_type": "execute_result"
    }
   ],
   "source": [
    "# Use only `work_id`\n",
    "works = book_work.loc[:, ['work_id']]\n",
    "works.reset_index(inplace=True)\n",
    "\n",
    "# Determine front ISBN\n",
    "works.sort_values('isbn', inplace=True)\n",
    "works.drop_duplicates('work_id', keep='first', inplace=True)\n",
    "works.set_index('work_id', inplace=True)\n",
    "works.rename(columns={'isbn': 'front_isbn'}, inplace=True)\n",
    "\n",
    "# Show\n",
    "works.head(5)"
   ]
  },
  {
   "cell_type": "markdown",
   "metadata": {
    "tags": []
   },
   "source": [
    "### Categories"
   ]
  },
  {
   "cell_type": "markdown",
   "metadata": {},
   "source": [
    "Categories are sequenced such that the first category should be considered more relevant or important than the last. "
   ]
  },
  {
   "cell_type": "code",
   "execution_count": 69,
   "metadata": {},
   "outputs": [
    {
     "data": {
      "text/plain": [
       "isbn\n",
       "9780375760686    [{'category_id': 2000000083, 'seq': 1}, {'category_id': 3000001343, 'seq':...\n",
       "9781605295336    [{'category_id': 2000000052, 'seq': 3}, {'category_id': 2000000144, 'seq':...\n",
       "9780771095764    [{'category_id': 2000000083, 'seq': 1}, {'category_id': 3000001343, 'seq':...\n",
       "9780679751403    [{'category_id': 2000000013, 'seq': 1}, {'category_id': 2000000082, 'seq':...\n",
       "9780812974874    [{'category_id': 2000000021, 'seq': 2}, {'category_id': 2000000154, 'seq':...\n",
       "Name: categories, dtype: object"
      ]
     },
     "execution_count": 69,
     "metadata": {},
     "output_type": "execute_result"
    }
   ],
   "source": [
    "books['categories'].head(5)"
   ]
  },
  {
   "cell_type": "code",
   "execution_count": 70,
   "metadata": {},
   "outputs": [
    {
     "data": {
      "text/html": [
       "<div>\n",
       "<style scoped>\n",
       "    .dataframe tbody tr th:only-of-type {\n",
       "        vertical-align: middle;\n",
       "    }\n",
       "\n",
       "    .dataframe tbody tr th {\n",
       "        vertical-align: top;\n",
       "    }\n",
       "\n",
       "    .dataframe thead th {\n",
       "        text-align: right;\n",
       "    }\n",
       "</style>\n",
       "<table border=\"1\" class=\"dataframe\">\n",
       "  <thead>\n",
       "    <tr style=\"text-align: right;\">\n",
       "      <th></th>\n",
       "      <th>isbn</th>\n",
       "      <th>category_id</th>\n",
       "      <th>seq</th>\n",
       "    </tr>\n",
       "  </thead>\n",
       "  <tbody>\n",
       "    <tr>\n",
       "      <th>0</th>\n",
       "      <td>9780375760686</td>\n",
       "      <td>2000000083</td>\n",
       "      <td>1</td>\n",
       "    </tr>\n",
       "    <tr>\n",
       "      <th>1</th>\n",
       "      <td>9780375760686</td>\n",
       "      <td>3000001343</td>\n",
       "      <td>3</td>\n",
       "    </tr>\n",
       "    <tr>\n",
       "      <th>2</th>\n",
       "      <td>9780375760686</td>\n",
       "      <td>3000001361</td>\n",
       "      <td>2</td>\n",
       "    </tr>\n",
       "    <tr>\n",
       "      <th>3</th>\n",
       "      <td>9780375760686</td>\n",
       "      <td>3000001404</td>\n",
       "      <td>1</td>\n",
       "    </tr>\n",
       "    <tr>\n",
       "      <th>4</th>\n",
       "      <td>9781605295336</td>\n",
       "      <td>2000000052</td>\n",
       "      <td>3</td>\n",
       "    </tr>\n",
       "  </tbody>\n",
       "</table>\n",
       "</div>"
      ],
      "text/plain": [
       "            isbn  category_id  seq\n",
       "0  9780375760686   2000000083    1\n",
       "1  9780375760686   3000001343    3\n",
       "2  9780375760686   3000001361    2\n",
       "3  9780375760686   3000001404    1\n",
       "4  9781605295336   2000000052    3"
      ]
     },
     "execution_count": 70,
     "metadata": {},
     "output_type": "execute_result"
    }
   ],
   "source": [
    "# Move information about categories in a separate dataframe\n",
    "book_cats = books[['categories']].explode('categories').dropna().reset_index()\n",
    "book_cats = book_cats.drop('categories', axis=1)\\\n",
    "    .join(pd.DataFrame(book_cats['categories'].tolist()))\n",
    "book_cats.head(5)"
   ]
  },
  {
   "cell_type": "code",
   "execution_count": 71,
   "metadata": {},
   "outputs": [],
   "source": [
    "# Drop category column from the main dataset\n",
    "books.drop(columns='categories', inplace=True)"
   ]
  },
  {
   "cell_type": "markdown",
   "metadata": {},
   "source": [
    "There are a lot of category sets [in the PRH](https://developer.penguinrandomhouse.com/docs/read/enhanced_prh_api/concepts/Categories). However, we use only \"CN\" categories here. Thus, we need to remove unnecessary ones."
   ]
  },
  {
   "cell_type": "code",
   "execution_count": 72,
   "metadata": {},
   "outputs": [
    {
     "data": {
      "text/html": [
       "<div>\n",
       "<style scoped>\n",
       "    .dataframe tbody tr th:only-of-type {\n",
       "        vertical-align: middle;\n",
       "    }\n",
       "\n",
       "    .dataframe tbody tr th {\n",
       "        vertical-align: top;\n",
       "    }\n",
       "\n",
       "    .dataframe thead th {\n",
       "        text-align: right;\n",
       "    }\n",
       "</style>\n",
       "<table border=\"1\" class=\"dataframe\">\n",
       "  <thead>\n",
       "    <tr style=\"text-align: right;\">\n",
       "      <th></th>\n",
       "      <th>isbn</th>\n",
       "      <th>category_id</th>\n",
       "      <th>seq</th>\n",
       "    </tr>\n",
       "  </thead>\n",
       "  <tbody>\n",
       "    <tr>\n",
       "      <th>0</th>\n",
       "      <td>9780375760686</td>\n",
       "      <td>2000000083</td>\n",
       "      <td>1</td>\n",
       "    </tr>\n",
       "    <tr>\n",
       "      <th>4</th>\n",
       "      <td>9781605295336</td>\n",
       "      <td>2000000052</td>\n",
       "      <td>3</td>\n",
       "    </tr>\n",
       "    <tr>\n",
       "      <th>5</th>\n",
       "      <td>9781605295336</td>\n",
       "      <td>2000000144</td>\n",
       "      <td>1</td>\n",
       "    </tr>\n",
       "    <tr>\n",
       "      <th>9</th>\n",
       "      <td>9780771095764</td>\n",
       "      <td>2000000083</td>\n",
       "      <td>1</td>\n",
       "    </tr>\n",
       "    <tr>\n",
       "      <th>13</th>\n",
       "      <td>9780679751403</td>\n",
       "      <td>2000000013</td>\n",
       "      <td>1</td>\n",
       "    </tr>\n",
       "  </tbody>\n",
       "</table>\n",
       "</div>"
      ],
      "text/plain": [
       "             isbn  category_id  seq\n",
       "0   9780375760686   2000000083    1\n",
       "4   9781605295336   2000000052    3\n",
       "5   9781605295336   2000000144    1\n",
       "9   9780771095764   2000000083    1\n",
       "13  9780679751403   2000000013    1"
      ]
     },
     "execution_count": 72,
     "metadata": {},
     "output_type": "execute_result"
    }
   ],
   "source": [
    "book_cats = book_cats[book_cats['category_id'].isin(categories.index)]\n",
    "book_cats.head(5)"
   ]
  },
  {
   "cell_type": "markdown",
   "metadata": {},
   "source": [
    "## Ratings"
   ]
  },
  {
   "cell_type": "code",
   "execution_count": 73,
   "metadata": {},
   "outputs": [],
   "source": [
    "# Load all ratings\n",
    "path_ratings = os.path.join('data_interm', 'ratings_joined.csv')\n",
    "ratings = pd.read_csv(path_ratings)"
   ]
  },
  {
   "cell_type": "code",
   "execution_count": 74,
   "metadata": {},
   "outputs": [
    {
     "name": "stdout",
     "output_type": "stream",
     "text": [
      "Number of all ratings: 90008708\n"
     ]
    }
   ],
   "source": [
    "init_rating_count = len(ratings)\n",
    "print(f'Number of all ratings: {init_rating_count}')"
   ]
  },
  {
   "cell_type": "markdown",
   "metadata": {},
   "source": [
    "Next, we need to remove the ratings of books that were not downloaded from PRH."
   ]
  },
  {
   "cell_type": "code",
   "execution_count": 75,
   "metadata": {},
   "outputs": [
    {
     "name": "stdout",
     "output_type": "stream",
     "text": [
      "Number of book ratings that were downloaded from PRH: 16013867 that is 17.79% from all ratings.\n"
     ]
    }
   ],
   "source": [
    "ratings = ratings[ratings['isbn13'].isin(books.index)]\n",
    "print(f'Number of book ratings that were downloaded from PRH: '\n",
    "      f'{len(ratings)} that is {len(ratings) * 100 / init_rating_count:.2f}% '\n",
    "      f'from all ratings.')"
   ]
  },
  {
   "cell_type": "code",
   "execution_count": 76,
   "metadata": {},
   "outputs": [
    {
     "data": {
      "text/html": [
       "<div>\n",
       "<style scoped>\n",
       "    .dataframe tbody tr th:only-of-type {\n",
       "        vertical-align: middle;\n",
       "    }\n",
       "\n",
       "    .dataframe tbody tr th {\n",
       "        vertical-align: top;\n",
       "    }\n",
       "\n",
       "    .dataframe thead th {\n",
       "        text-align: right;\n",
       "    }\n",
       "</style>\n",
       "<table border=\"1\" class=\"dataframe\">\n",
       "  <thead>\n",
       "    <tr style=\"text-align: right;\">\n",
       "      <th></th>\n",
       "      <th>rating</th>\n",
       "      <th>user_id</th>\n",
       "      <th>isbn13</th>\n",
       "    </tr>\n",
       "  </thead>\n",
       "  <tbody>\n",
       "    <tr>\n",
       "      <th>1</th>\n",
       "      <td>10</td>\n",
       "      <td>494492</td>\n",
       "      <td>9780767908184</td>\n",
       "    </tr>\n",
       "    <tr>\n",
       "      <th>2</th>\n",
       "      <td>10</td>\n",
       "      <td>494492</td>\n",
       "      <td>9780345538376</td>\n",
       "    </tr>\n",
       "    <tr>\n",
       "      <th>18</th>\n",
       "      <td>4</td>\n",
       "      <td>494492</td>\n",
       "      <td>9780553383430</td>\n",
       "    </tr>\n",
       "    <tr>\n",
       "      <th>19</th>\n",
       "      <td>8</td>\n",
       "      <td>494492</td>\n",
       "      <td>9780553380958</td>\n",
       "    </tr>\n",
       "    <tr>\n",
       "      <th>29</th>\n",
       "      <td>10</td>\n",
       "      <td>494492</td>\n",
       "      <td>9780451191151</td>\n",
       "    </tr>\n",
       "  </tbody>\n",
       "</table>\n",
       "</div>"
      ],
      "text/plain": [
       "    rating  user_id         isbn13\n",
       "1       10   494492  9780767908184\n",
       "2       10   494492  9780345538376\n",
       "18       4   494492  9780553383430\n",
       "19       8   494492  9780553380958\n",
       "29      10   494492  9780451191151"
      ]
     },
     "execution_count": 76,
     "metadata": {},
     "output_type": "execute_result"
    }
   ],
   "source": [
    "ratings.head(5)"
   ]
  },
  {
   "cell_type": "markdown",
   "metadata": {},
   "source": [
    "Since people most often rate the book content rather than a particular edition of the book, we will build recommendations using `work_id` instead of `isbn13`."
   ]
  },
  {
   "cell_type": "code",
   "execution_count": 77,
   "metadata": {},
   "outputs": [
    {
     "data": {
      "text/html": [
       "<div>\n",
       "<style scoped>\n",
       "    .dataframe tbody tr th:only-of-type {\n",
       "        vertical-align: middle;\n",
       "    }\n",
       "\n",
       "    .dataframe tbody tr th {\n",
       "        vertical-align: top;\n",
       "    }\n",
       "\n",
       "    .dataframe thead th {\n",
       "        text-align: right;\n",
       "    }\n",
       "</style>\n",
       "<table border=\"1\" class=\"dataframe\">\n",
       "  <thead>\n",
       "    <tr style=\"text-align: right;\">\n",
       "      <th></th>\n",
       "      <th>rating</th>\n",
       "      <th>user_id</th>\n",
       "      <th>isbn13</th>\n",
       "      <th>work_id</th>\n",
       "    </tr>\n",
       "  </thead>\n",
       "  <tbody>\n",
       "    <tr>\n",
       "      <th>1</th>\n",
       "      <td>10</td>\n",
       "      <td>494492</td>\n",
       "      <td>9780767908184</td>\n",
       "      <td>20549</td>\n",
       "    </tr>\n",
       "    <tr>\n",
       "      <th>558</th>\n",
       "      <td>10</td>\n",
       "      <td>607953</td>\n",
       "      <td>9780767908184</td>\n",
       "      <td>20549</td>\n",
       "    </tr>\n",
       "    <tr>\n",
       "      <th>6545</th>\n",
       "      <td>6</td>\n",
       "      <td>532610</td>\n",
       "      <td>9780767908184</td>\n",
       "      <td>20549</td>\n",
       "    </tr>\n",
       "    <tr>\n",
       "      <th>13192</th>\n",
       "      <td>10</td>\n",
       "      <td>215425</td>\n",
       "      <td>9780767908184</td>\n",
       "      <td>20549</td>\n",
       "    </tr>\n",
       "    <tr>\n",
       "      <th>36522</th>\n",
       "      <td>8</td>\n",
       "      <td>100677</td>\n",
       "      <td>9780767908184</td>\n",
       "      <td>20549</td>\n",
       "    </tr>\n",
       "  </tbody>\n",
       "</table>\n",
       "</div>"
      ],
      "text/plain": [
       "       rating  user_id         isbn13  work_id\n",
       "1          10   494492  9780767908184    20549\n",
       "558        10   607953  9780767908184    20549\n",
       "6545        6   532610  9780767908184    20549\n",
       "13192      10   215425  9780767908184    20549\n",
       "36522       8   100677  9780767908184    20549"
      ]
     },
     "execution_count": 77,
     "metadata": {},
     "output_type": "execute_result"
    }
   ],
   "source": [
    "ratings = pd.merge(ratings, books[['work_id']], \n",
    "                   left_on='isbn13', \n",
    "                   right_index=True)\n",
    "ratings.head(5)"
   ]
  },
  {
   "cell_type": "markdown",
   "metadata": {},
   "source": [
    "Some users may have rated different editions (ISBNs) of the same work. Let's average their ratings so that there is only one rating per work from each user:"
   ]
  },
  {
   "cell_type": "code",
   "execution_count": 78,
   "metadata": {},
   "outputs": [
    {
     "data": {
      "text/html": [
       "<div>\n",
       "<style scoped>\n",
       "    .dataframe tbody tr th:only-of-type {\n",
       "        vertical-align: middle;\n",
       "    }\n",
       "\n",
       "    .dataframe tbody tr th {\n",
       "        vertical-align: top;\n",
       "    }\n",
       "\n",
       "    .dataframe thead th {\n",
       "        text-align: right;\n",
       "    }\n",
       "</style>\n",
       "<table border=\"1\" class=\"dataframe\">\n",
       "  <thead>\n",
       "    <tr style=\"text-align: right;\">\n",
       "      <th></th>\n",
       "      <th>user_id</th>\n",
       "      <th>work_id</th>\n",
       "      <th>rating</th>\n",
       "    </tr>\n",
       "  </thead>\n",
       "  <tbody>\n",
       "    <tr>\n",
       "      <th>0</th>\n",
       "      <td>494492</td>\n",
       "      <td>20549</td>\n",
       "      <td>10.0</td>\n",
       "    </tr>\n",
       "    <tr>\n",
       "      <th>1</th>\n",
       "      <td>607953</td>\n",
       "      <td>20549</td>\n",
       "      <td>10.0</td>\n",
       "    </tr>\n",
       "    <tr>\n",
       "      <th>2</th>\n",
       "      <td>532610</td>\n",
       "      <td>20549</td>\n",
       "      <td>6.0</td>\n",
       "    </tr>\n",
       "    <tr>\n",
       "      <th>3</th>\n",
       "      <td>215425</td>\n",
       "      <td>20549</td>\n",
       "      <td>10.0</td>\n",
       "    </tr>\n",
       "    <tr>\n",
       "      <th>4</th>\n",
       "      <td>100677</td>\n",
       "      <td>20549</td>\n",
       "      <td>8.0</td>\n",
       "    </tr>\n",
       "  </tbody>\n",
       "</table>\n",
       "</div>"
      ],
      "text/plain": [
       "   user_id  work_id  rating\n",
       "0   494492    20549    10.0\n",
       "1   607953    20549    10.0\n",
       "2   532610    20549     6.0\n",
       "3   215425    20549    10.0\n",
       "4   100677    20549     8.0"
      ]
     },
     "execution_count": 78,
     "metadata": {},
     "output_type": "execute_result"
    }
   ],
   "source": [
    "ratings_per_work = ratings[['work_id', 'user_id', 'rating']]\\\n",
    "    .groupby(['work_id', 'user_id'], observed=True).mean()\n",
    "\n",
    "# Drop duplicated ratings\n",
    "work_ratings = ratings.drop_duplicates(['user_id', 'work_id'], keep='first')\n",
    "work_ratings = work_ratings[['user_id', 'work_id']]\\\n",
    "    .merge(ratings_per_work, left_on=['user_id', 'work_id'],\n",
    "           right_on=['user_id', 'work_id'], how='left')\n",
    "work_ratings.head(5)"
   ]
  },
  {
   "cell_type": "code",
   "execution_count": 79,
   "metadata": {},
   "outputs": [
    {
     "data": {
      "image/png": "[encoded data removed]",
      "text/plain": [
       "<Figure size 720x576 with 1 Axes>"
      ]
     },
     "metadata": {},
     "output_type": "display_data"
    }
   ],
   "source": [
    "# Show the distribution of ratings per works\n",
    "_, ax = plt.subplots(figsize=(10, 8))\n",
    "sns.histplot(work_ratings['rating'], ax=ax, bins=10)\n",
    "ax.set_ylabel('Counts')\n",
    "ax.set_xlabel('Ratings')\n",
    "ax.set_title('Work rating distribution');"
   ]
  },
  {
   "cell_type": "code",
   "execution_count": 80,
   "metadata": {},
   "outputs": [],
   "source": [
    "by_work = work_ratings[['work_id', 'rating']]\\\n",
    "    .groupby('work_id', observed=True)\n",
    "by_work_count = by_work[['rating']].count()"
   ]
  },
  {
   "cell_type": "code",
   "execution_count": 81,
   "metadata": {},
   "outputs": [
    {
     "name": "stdout",
     "output_type": "stream",
     "text": [
      "Number of works which have ratings: 53192 that is 100.0000%\n",
      "Number of works which have at least 5 ratings: 42841 that is 80.5403%\n"
     ]
    }
   ],
   "source": [
    "work_rated_count = len(by_work_count)\n",
    "work_5times_rated_count = (by_work_count['rating'] >= 5).sum()\n",
    "\n",
    "print(f'Number of works which have ratings: {work_rated_count} '\n",
    "      f'that is {work_rated_count * 100 / len(works):.4f}%')\n",
    "print(f'Number of works which have at least 5 ratings: '\n",
    "      f'{work_5times_rated_count} that is '\n",
    "      f'{work_5times_rated_count * 100 / len(works):.4f}%')"
   ]
  },
  {
   "cell_type": "markdown",
   "metadata": {},
   "source": [
    "Let's calculate weighted ratings of books. To use usual rating is not the best idea, because a book with a rating of 9 from 10 voters will be considered \"better\" than a book with a rating of 8.9 from 10,000 voters. Thus, it is better to use \"weighted rating\". See more details [in the Datacamp article](https://www.datacamp.com/community/tutorials/recommender-systems-python)."
   ]
  },
  {
   "cell_type": "code",
   "execution_count": 82,
   "metadata": {},
   "outputs": [],
   "source": [
    "# Calculate weighted rating\n",
    "min_work_rate_count = by_work_count['rating'].quantile(0.99)\n",
    "mean_work_rate = work_ratings['rating'].mean()\n",
    "work_ids = by_work_count[by_work_count['rating'] >= min_work_rate_count].index\n",
    "by_work_weighted = work_ratings\\\n",
    "    .loc[work_ratings['work_id'].isin(work_ids), ['work_id', 'rating']]\\\n",
    "    .groupby('work_id', observed=True).apply(get_weighted_rating,\n",
    "                                             min_rate_count=min_work_rate_count,\n",
    "                                             mean_rate=mean_work_rate)\\\n",
    "    .to_frame(name='weighted_rating')"
   ]
  },
  {
   "cell_type": "code",
   "execution_count": 83,
   "metadata": {},
   "outputs": [],
   "source": [
    "# Get work info\n",
    "works_data = pd.merge(works[['front_isbn']], books[['title']],\n",
    "                      left_on='front_isbn', right_index=True)"
   ]
  },
  {
   "cell_type": "code",
   "execution_count": 84,
   "metadata": {},
   "outputs": [
    {
     "data": {
      "image/png": "[encoded data removed]",
      "text/plain": [
       "<Figure size 864x720 with 1 Axes>"
      ]
     },
     "metadata": {},
     "output_type": "display_data"
    }
   ],
   "source": [
    "_, ax = plt.subplots(figsize=(12, 10))\n",
    "\n",
    "# Most rated books\n",
    "high_rated_works_top = by_work_weighted\\\n",
    "    .sort_values(by='weighted_rating', ascending=False).head(20)\n",
    "high_rated_works_top = pd.merge(high_rated_works_top,\n",
    "                                works_data[['title']], how='left',\n",
    "                                right_index=True, left_index=True)\n",
    "sns.barplot(x=high_rated_works_top['weighted_rating'],\n",
    "            y=high_rated_works_top['title'],\n",
    "            palette=sns_palette, ax=ax, ci=None)\n",
    "ax.set_xlim(8.5, 9)\n",
    "ax.set_ylabel('Work titles')\n",
    "ax.set_xlabel('Rating')\n",
    "ax.set_title('Top 20 most rated books')\n",
    "plt.show()"
   ]
  },
  {
   "cell_type": "markdown",
   "metadata": {},
   "source": [
    "## Save"
   ]
  },
  {
   "cell_type": "code",
   "execution_count": 85,
   "metadata": {},
   "outputs": [],
   "source": [
    "books.to_csv(os.path.join('data_prep', 'books.csv'), index=True)\n",
    "categories.to_csv(os.path.join('data_prep', 'categories.csv'), index=True)\n",
    "roles.to_csv(os.path.join('data_prep', 'contributor_roles.csv'), index=True)\n",
    "publishers.to_csv(os.path.join('data_prep', 'publishers.csv'), index=True)\n",
    "series.to_csv(os.path.join('data_prep', 'series.csv'), index=True)\n",
    "authors.to_csv(os.path.join('data_prep', 'contributors.csv'), index=True)\n",
    "works.to_csv(os.path.join('data_prep', 'works.csv'), index=True)\n",
    "book_cats.to_csv(os.path.join('data_prep', 'book_categories.csv'))\n",
    "book_authors.to_csv(os.path.join('data_prep', 'book_contributors.csv'))\n",
    "work_ratings.to_csv(os.path.join('data_prep', 'work_ratings.csv'))"
   ]
  }
 ],
 "metadata": {
  "colab": {
   "collapsed_sections": [],
   "name": "data_collect.ipynb",
   "provenance": [],
   "toc_visible": true
  },
  "kernelspec": {
   "display_name": "Python 3 (ipykernel)",
   "language": "python",
   "name": "python3"
  },
  "language_info": {
   "codemirror_mode": {
    "name": "ipython",
    "version": 3
   },
   "file_extension": ".py",
   "mimetype": "text/x-python",
   "name": "python",
   "nbconvert_exporter": "python",
   "pygments_lexer": "ipython3",
   "version": "3.9.7"
  }
 },
 "nbformat": 4,
 "nbformat_minor": 4
}